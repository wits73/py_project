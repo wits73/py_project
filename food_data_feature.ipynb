{
 "cells": [
  {
   "cell_type": "code",
   "execution_count": 2,
   "metadata": {
    "collapsed": true
   },
   "outputs": [],
   "source": [
    "import numpy as np\n",
    "import pandas as pd"
   ]
  },
  {
   "cell_type": "code",
   "execution_count": 3,
   "metadata": {},
   "outputs": [
    {
     "name": "stderr",
     "output_type": "stream",
     "text": [
      "C:\\Users\\TaeWoo\\Anaconda3\\lib\\site-packages\\IPython\\core\\interactiveshell.py:2698: DtypeWarning: Columns (0,3,5,19,20,24,25,26,27,28,36,37,38,39,48) have mixed types. Specify dtype option on import or set low_memory=False.\n",
      "  interactivity=interactivity, compiler=compiler, result=result)\n"
     ]
    }
   ],
   "source": [
    "df_base = pd.read_csv('data/food-facts/en.openfoodfacts.org.products.tsv', sep='\\t')"
   ]
  },
  {
   "cell_type": "code",
   "execution_count": 4,
   "metadata": {},
   "outputs": [
    {
     "name": "stdout",
     "output_type": "stream",
     "text": [
      "<class 'pandas.core.frame.DataFrame'>\n",
      "RangeIndex: 356027 entries, 0 to 356026\n",
      "Columns: 163 entries, code to water-hardness_100g\n",
      "dtypes: float64(107), object(56)\n",
      "memory usage: 442.8+ MB\n"
     ]
    }
   ],
   "source": [
    "df_base.info()"
   ]
  },
  {
   "cell_type": "code",
   "execution_count": 5,
   "metadata": {},
   "outputs": [
    {
     "data": {
      "text/html": [
       "<div>\n",
       "<style>\n",
       "    .dataframe thead tr:only-child th {\n",
       "        text-align: right;\n",
       "    }\n",
       "\n",
       "    .dataframe thead th {\n",
       "        text-align: left;\n",
       "    }\n",
       "\n",
       "    .dataframe tbody tr th {\n",
       "        vertical-align: top;\n",
       "    }\n",
       "</style>\n",
       "<table border=\"1\" class=\"dataframe\">\n",
       "  <thead>\n",
       "    <tr style=\"text-align: right;\">\n",
       "      <th></th>\n",
       "      <th>code</th>\n",
       "      <th>url</th>\n",
       "      <th>creator</th>\n",
       "      <th>created_t</th>\n",
       "      <th>created_datetime</th>\n",
       "      <th>last_modified_t</th>\n",
       "      <th>last_modified_datetime</th>\n",
       "      <th>product_name</th>\n",
       "      <th>generic_name</th>\n",
       "      <th>quantity</th>\n",
       "      <th>...</th>\n",
       "      <th>fruits-vegetables-nuts_100g</th>\n",
       "      <th>fruits-vegetables-nuts-estimate_100g</th>\n",
       "      <th>collagen-meat-protein-ratio_100g</th>\n",
       "      <th>cocoa_100g</th>\n",
       "      <th>chlorophyl_100g</th>\n",
       "      <th>carbon-footprint_100g</th>\n",
       "      <th>nutrition-score-fr_100g</th>\n",
       "      <th>nutrition-score-uk_100g</th>\n",
       "      <th>glycemic-index_100g</th>\n",
       "      <th>water-hardness_100g</th>\n",
       "    </tr>\n",
       "  </thead>\n",
       "  <tbody>\n",
       "    <tr>\n",
       "      <th>0</th>\n",
       "      <td>3087</td>\n",
       "      <td>http://world-en.openfoodfacts.org/product/0000...</td>\n",
       "      <td>openfoodfacts-contributors</td>\n",
       "      <td>1474103866</td>\n",
       "      <td>2016-09-17T09:17:46Z</td>\n",
       "      <td>1474103893</td>\n",
       "      <td>2016-09-17T09:18:13Z</td>\n",
       "      <td>Farine de blé noir</td>\n",
       "      <td>NaN</td>\n",
       "      <td>1kg</td>\n",
       "      <td>...</td>\n",
       "      <td>NaN</td>\n",
       "      <td>NaN</td>\n",
       "      <td>NaN</td>\n",
       "      <td>NaN</td>\n",
       "      <td>NaN</td>\n",
       "      <td>NaN</td>\n",
       "      <td>NaN</td>\n",
       "      <td>NaN</td>\n",
       "      <td>NaN</td>\n",
       "      <td>NaN</td>\n",
       "    </tr>\n",
       "    <tr>\n",
       "      <th>1</th>\n",
       "      <td>4530</td>\n",
       "      <td>http://world-en.openfoodfacts.org/product/0000...</td>\n",
       "      <td>usda-ndb-import</td>\n",
       "      <td>1489069957</td>\n",
       "      <td>2017-03-09T14:32:37Z</td>\n",
       "      <td>1489069957</td>\n",
       "      <td>2017-03-09T14:32:37Z</td>\n",
       "      <td>Banana Chips Sweetened (Whole)</td>\n",
       "      <td>NaN</td>\n",
       "      <td>NaN</td>\n",
       "      <td>...</td>\n",
       "      <td>NaN</td>\n",
       "      <td>NaN</td>\n",
       "      <td>NaN</td>\n",
       "      <td>NaN</td>\n",
       "      <td>NaN</td>\n",
       "      <td>NaN</td>\n",
       "      <td>14.0</td>\n",
       "      <td>14.0</td>\n",
       "      <td>NaN</td>\n",
       "      <td>NaN</td>\n",
       "    </tr>\n",
       "    <tr>\n",
       "      <th>2</th>\n",
       "      <td>4559</td>\n",
       "      <td>http://world-en.openfoodfacts.org/product/0000...</td>\n",
       "      <td>usda-ndb-import</td>\n",
       "      <td>1489069957</td>\n",
       "      <td>2017-03-09T14:32:37Z</td>\n",
       "      <td>1489069957</td>\n",
       "      <td>2017-03-09T14:32:37Z</td>\n",
       "      <td>Peanuts</td>\n",
       "      <td>NaN</td>\n",
       "      <td>NaN</td>\n",
       "      <td>...</td>\n",
       "      <td>NaN</td>\n",
       "      <td>NaN</td>\n",
       "      <td>NaN</td>\n",
       "      <td>NaN</td>\n",
       "      <td>NaN</td>\n",
       "      <td>NaN</td>\n",
       "      <td>0.0</td>\n",
       "      <td>0.0</td>\n",
       "      <td>NaN</td>\n",
       "      <td>NaN</td>\n",
       "    </tr>\n",
       "    <tr>\n",
       "      <th>3</th>\n",
       "      <td>16087</td>\n",
       "      <td>http://world-en.openfoodfacts.org/product/0000...</td>\n",
       "      <td>usda-ndb-import</td>\n",
       "      <td>1489055731</td>\n",
       "      <td>2017-03-09T10:35:31Z</td>\n",
       "      <td>1489055731</td>\n",
       "      <td>2017-03-09T10:35:31Z</td>\n",
       "      <td>Organic Salted Nut Mix</td>\n",
       "      <td>NaN</td>\n",
       "      <td>NaN</td>\n",
       "      <td>...</td>\n",
       "      <td>NaN</td>\n",
       "      <td>NaN</td>\n",
       "      <td>NaN</td>\n",
       "      <td>NaN</td>\n",
       "      <td>NaN</td>\n",
       "      <td>NaN</td>\n",
       "      <td>12.0</td>\n",
       "      <td>12.0</td>\n",
       "      <td>NaN</td>\n",
       "      <td>NaN</td>\n",
       "    </tr>\n",
       "    <tr>\n",
       "      <th>4</th>\n",
       "      <td>16094</td>\n",
       "      <td>http://world-en.openfoodfacts.org/product/0000...</td>\n",
       "      <td>usda-ndb-import</td>\n",
       "      <td>1489055653</td>\n",
       "      <td>2017-03-09T10:34:13Z</td>\n",
       "      <td>1489055653</td>\n",
       "      <td>2017-03-09T10:34:13Z</td>\n",
       "      <td>Organic Polenta</td>\n",
       "      <td>NaN</td>\n",
       "      <td>NaN</td>\n",
       "      <td>...</td>\n",
       "      <td>NaN</td>\n",
       "      <td>NaN</td>\n",
       "      <td>NaN</td>\n",
       "      <td>NaN</td>\n",
       "      <td>NaN</td>\n",
       "      <td>NaN</td>\n",
       "      <td>NaN</td>\n",
       "      <td>NaN</td>\n",
       "      <td>NaN</td>\n",
       "      <td>NaN</td>\n",
       "    </tr>\n",
       "  </tbody>\n",
       "</table>\n",
       "<p>5 rows × 163 columns</p>\n",
       "</div>"
      ],
      "text/plain": [
       "    code                                                url  \\\n",
       "0   3087  http://world-en.openfoodfacts.org/product/0000...   \n",
       "1   4530  http://world-en.openfoodfacts.org/product/0000...   \n",
       "2   4559  http://world-en.openfoodfacts.org/product/0000...   \n",
       "3  16087  http://world-en.openfoodfacts.org/product/0000...   \n",
       "4  16094  http://world-en.openfoodfacts.org/product/0000...   \n",
       "\n",
       "                      creator   created_t      created_datetime  \\\n",
       "0  openfoodfacts-contributors  1474103866  2016-09-17T09:17:46Z   \n",
       "1             usda-ndb-import  1489069957  2017-03-09T14:32:37Z   \n",
       "2             usda-ndb-import  1489069957  2017-03-09T14:32:37Z   \n",
       "3             usda-ndb-import  1489055731  2017-03-09T10:35:31Z   \n",
       "4             usda-ndb-import  1489055653  2017-03-09T10:34:13Z   \n",
       "\n",
       "  last_modified_t last_modified_datetime                    product_name  \\\n",
       "0      1474103893   2016-09-17T09:18:13Z              Farine de blé noir   \n",
       "1      1489069957   2017-03-09T14:32:37Z  Banana Chips Sweetened (Whole)   \n",
       "2      1489069957   2017-03-09T14:32:37Z                         Peanuts   \n",
       "3      1489055731   2017-03-09T10:35:31Z          Organic Salted Nut Mix   \n",
       "4      1489055653   2017-03-09T10:34:13Z                 Organic Polenta   \n",
       "\n",
       "  generic_name quantity         ...         fruits-vegetables-nuts_100g  \\\n",
       "0          NaN      1kg         ...                                 NaN   \n",
       "1          NaN      NaN         ...                                 NaN   \n",
       "2          NaN      NaN         ...                                 NaN   \n",
       "3          NaN      NaN         ...                                 NaN   \n",
       "4          NaN      NaN         ...                                 NaN   \n",
       "\n",
       "  fruits-vegetables-nuts-estimate_100g collagen-meat-protein-ratio_100g  \\\n",
       "0                                  NaN                              NaN   \n",
       "1                                  NaN                              NaN   \n",
       "2                                  NaN                              NaN   \n",
       "3                                  NaN                              NaN   \n",
       "4                                  NaN                              NaN   \n",
       "\n",
       "  cocoa_100g chlorophyl_100g carbon-footprint_100g nutrition-score-fr_100g  \\\n",
       "0        NaN             NaN                   NaN                     NaN   \n",
       "1        NaN             NaN                   NaN                    14.0   \n",
       "2        NaN             NaN                   NaN                     0.0   \n",
       "3        NaN             NaN                   NaN                    12.0   \n",
       "4        NaN             NaN                   NaN                     NaN   \n",
       "\n",
       "  nutrition-score-uk_100g glycemic-index_100g water-hardness_100g  \n",
       "0                     NaN                 NaN                 NaN  \n",
       "1                    14.0                 NaN                 NaN  \n",
       "2                     0.0                 NaN                 NaN  \n",
       "3                    12.0                 NaN                 NaN  \n",
       "4                     NaN                 NaN                 NaN  \n",
       "\n",
       "[5 rows x 163 columns]"
      ]
     },
     "execution_count": 5,
     "metadata": {},
     "output_type": "execute_result"
    }
   ],
   "source": [
    "df_base.head()"
   ]
  },
  {
   "cell_type": "code",
   "execution_count": 6,
   "metadata": {
    "collapsed": true
   },
   "outputs": [],
   "source": [
    "# make the countries string to lower case\n",
    "df_base.countries = df_base.countries.str.lower()"
   ]
  },
  {
   "cell_type": "code",
   "execution_count": 7,
   "metadata": {
    "collapsed": true
   },
   "outputs": [],
   "source": [
    "# extract only us\n",
    "df_us = df_base[(df_base['countries'] == 'united states') | (df_base['countries'] == 'en:us') \\\n",
    "                         | (df_base['countries'] == 'us')]"
   ]
  },
  {
   "cell_type": "code",
   "execution_count": 8,
   "metadata": {},
   "outputs": [
    {
     "data": {
      "text/plain": [
       "(173063, 163)"
      ]
     },
     "execution_count": 8,
     "metadata": {},
     "output_type": "execute_result"
    }
   ],
   "source": [
    "df_us.shape"
   ]
  },
  {
   "cell_type": "code",
   "execution_count": 9,
   "metadata": {},
   "outputs": [
    {
     "data": {
      "text/html": [
       "<div>\n",
       "<style>\n",
       "    .dataframe thead tr:only-child th {\n",
       "        text-align: right;\n",
       "    }\n",
       "\n",
       "    .dataframe thead th {\n",
       "        text-align: left;\n",
       "    }\n",
       "\n",
       "    .dataframe tbody tr th {\n",
       "        vertical-align: top;\n",
       "    }\n",
       "</style>\n",
       "<table border=\"1\" class=\"dataframe\">\n",
       "  <thead>\n",
       "    <tr style=\"text-align: right;\">\n",
       "      <th></th>\n",
       "      <th>code</th>\n",
       "      <th>url</th>\n",
       "      <th>creator</th>\n",
       "      <th>created_t</th>\n",
       "      <th>created_datetime</th>\n",
       "      <th>last_modified_t</th>\n",
       "      <th>last_modified_datetime</th>\n",
       "      <th>product_name</th>\n",
       "      <th>generic_name</th>\n",
       "      <th>quantity</th>\n",
       "      <th>...</th>\n",
       "      <th>fruits-vegetables-nuts_100g</th>\n",
       "      <th>fruits-vegetables-nuts-estimate_100g</th>\n",
       "      <th>collagen-meat-protein-ratio_100g</th>\n",
       "      <th>cocoa_100g</th>\n",
       "      <th>chlorophyl_100g</th>\n",
       "      <th>carbon-footprint_100g</th>\n",
       "      <th>nutrition-score-fr_100g</th>\n",
       "      <th>nutrition-score-uk_100g</th>\n",
       "      <th>glycemic-index_100g</th>\n",
       "      <th>water-hardness_100g</th>\n",
       "    </tr>\n",
       "  </thead>\n",
       "  <tbody>\n",
       "    <tr>\n",
       "      <th>1</th>\n",
       "      <td>4530</td>\n",
       "      <td>http://world-en.openfoodfacts.org/product/0000...</td>\n",
       "      <td>usda-ndb-import</td>\n",
       "      <td>1489069957</td>\n",
       "      <td>2017-03-09T14:32:37Z</td>\n",
       "      <td>1489069957</td>\n",
       "      <td>2017-03-09T14:32:37Z</td>\n",
       "      <td>Banana Chips Sweetened (Whole)</td>\n",
       "      <td>NaN</td>\n",
       "      <td>NaN</td>\n",
       "      <td>...</td>\n",
       "      <td>NaN</td>\n",
       "      <td>NaN</td>\n",
       "      <td>NaN</td>\n",
       "      <td>NaN</td>\n",
       "      <td>NaN</td>\n",
       "      <td>NaN</td>\n",
       "      <td>14.0</td>\n",
       "      <td>14.0</td>\n",
       "      <td>NaN</td>\n",
       "      <td>NaN</td>\n",
       "    </tr>\n",
       "    <tr>\n",
       "      <th>2</th>\n",
       "      <td>4559</td>\n",
       "      <td>http://world-en.openfoodfacts.org/product/0000...</td>\n",
       "      <td>usda-ndb-import</td>\n",
       "      <td>1489069957</td>\n",
       "      <td>2017-03-09T14:32:37Z</td>\n",
       "      <td>1489069957</td>\n",
       "      <td>2017-03-09T14:32:37Z</td>\n",
       "      <td>Peanuts</td>\n",
       "      <td>NaN</td>\n",
       "      <td>NaN</td>\n",
       "      <td>...</td>\n",
       "      <td>NaN</td>\n",
       "      <td>NaN</td>\n",
       "      <td>NaN</td>\n",
       "      <td>NaN</td>\n",
       "      <td>NaN</td>\n",
       "      <td>NaN</td>\n",
       "      <td>0.0</td>\n",
       "      <td>0.0</td>\n",
       "      <td>NaN</td>\n",
       "      <td>NaN</td>\n",
       "    </tr>\n",
       "    <tr>\n",
       "      <th>3</th>\n",
       "      <td>16087</td>\n",
       "      <td>http://world-en.openfoodfacts.org/product/0000...</td>\n",
       "      <td>usda-ndb-import</td>\n",
       "      <td>1489055731</td>\n",
       "      <td>2017-03-09T10:35:31Z</td>\n",
       "      <td>1489055731</td>\n",
       "      <td>2017-03-09T10:35:31Z</td>\n",
       "      <td>Organic Salted Nut Mix</td>\n",
       "      <td>NaN</td>\n",
       "      <td>NaN</td>\n",
       "      <td>...</td>\n",
       "      <td>NaN</td>\n",
       "      <td>NaN</td>\n",
       "      <td>NaN</td>\n",
       "      <td>NaN</td>\n",
       "      <td>NaN</td>\n",
       "      <td>NaN</td>\n",
       "      <td>12.0</td>\n",
       "      <td>12.0</td>\n",
       "      <td>NaN</td>\n",
       "      <td>NaN</td>\n",
       "    </tr>\n",
       "    <tr>\n",
       "      <th>4</th>\n",
       "      <td>16094</td>\n",
       "      <td>http://world-en.openfoodfacts.org/product/0000...</td>\n",
       "      <td>usda-ndb-import</td>\n",
       "      <td>1489055653</td>\n",
       "      <td>2017-03-09T10:34:13Z</td>\n",
       "      <td>1489055653</td>\n",
       "      <td>2017-03-09T10:34:13Z</td>\n",
       "      <td>Organic Polenta</td>\n",
       "      <td>NaN</td>\n",
       "      <td>NaN</td>\n",
       "      <td>...</td>\n",
       "      <td>NaN</td>\n",
       "      <td>NaN</td>\n",
       "      <td>NaN</td>\n",
       "      <td>NaN</td>\n",
       "      <td>NaN</td>\n",
       "      <td>NaN</td>\n",
       "      <td>NaN</td>\n",
       "      <td>NaN</td>\n",
       "      <td>NaN</td>\n",
       "      <td>NaN</td>\n",
       "    </tr>\n",
       "    <tr>\n",
       "      <th>5</th>\n",
       "      <td>16100</td>\n",
       "      <td>http://world-en.openfoodfacts.org/product/0000...</td>\n",
       "      <td>usda-ndb-import</td>\n",
       "      <td>1489055651</td>\n",
       "      <td>2017-03-09T10:34:11Z</td>\n",
       "      <td>1489055651</td>\n",
       "      <td>2017-03-09T10:34:11Z</td>\n",
       "      <td>Breadshop Honey Gone Nuts Granola</td>\n",
       "      <td>NaN</td>\n",
       "      <td>NaN</td>\n",
       "      <td>...</td>\n",
       "      <td>NaN</td>\n",
       "      <td>NaN</td>\n",
       "      <td>NaN</td>\n",
       "      <td>NaN</td>\n",
       "      <td>NaN</td>\n",
       "      <td>NaN</td>\n",
       "      <td>NaN</td>\n",
       "      <td>NaN</td>\n",
       "      <td>NaN</td>\n",
       "      <td>NaN</td>\n",
       "    </tr>\n",
       "  </tbody>\n",
       "</table>\n",
       "<p>5 rows × 163 columns</p>\n",
       "</div>"
      ],
      "text/plain": [
       "    code                                                url          creator  \\\n",
       "1   4530  http://world-en.openfoodfacts.org/product/0000...  usda-ndb-import   \n",
       "2   4559  http://world-en.openfoodfacts.org/product/0000...  usda-ndb-import   \n",
       "3  16087  http://world-en.openfoodfacts.org/product/0000...  usda-ndb-import   \n",
       "4  16094  http://world-en.openfoodfacts.org/product/0000...  usda-ndb-import   \n",
       "5  16100  http://world-en.openfoodfacts.org/product/0000...  usda-ndb-import   \n",
       "\n",
       "    created_t      created_datetime last_modified_t last_modified_datetime  \\\n",
       "1  1489069957  2017-03-09T14:32:37Z      1489069957   2017-03-09T14:32:37Z   \n",
       "2  1489069957  2017-03-09T14:32:37Z      1489069957   2017-03-09T14:32:37Z   \n",
       "3  1489055731  2017-03-09T10:35:31Z      1489055731   2017-03-09T10:35:31Z   \n",
       "4  1489055653  2017-03-09T10:34:13Z      1489055653   2017-03-09T10:34:13Z   \n",
       "5  1489055651  2017-03-09T10:34:11Z      1489055651   2017-03-09T10:34:11Z   \n",
       "\n",
       "                        product_name generic_name quantity  \\\n",
       "1     Banana Chips Sweetened (Whole)          NaN      NaN   \n",
       "2                            Peanuts          NaN      NaN   \n",
       "3             Organic Salted Nut Mix          NaN      NaN   \n",
       "4                    Organic Polenta          NaN      NaN   \n",
       "5  Breadshop Honey Gone Nuts Granola          NaN      NaN   \n",
       "\n",
       "          ...         fruits-vegetables-nuts_100g  \\\n",
       "1         ...                                 NaN   \n",
       "2         ...                                 NaN   \n",
       "3         ...                                 NaN   \n",
       "4         ...                                 NaN   \n",
       "5         ...                                 NaN   \n",
       "\n",
       "  fruits-vegetables-nuts-estimate_100g collagen-meat-protein-ratio_100g  \\\n",
       "1                                  NaN                              NaN   \n",
       "2                                  NaN                              NaN   \n",
       "3                                  NaN                              NaN   \n",
       "4                                  NaN                              NaN   \n",
       "5                                  NaN                              NaN   \n",
       "\n",
       "  cocoa_100g chlorophyl_100g carbon-footprint_100g nutrition-score-fr_100g  \\\n",
       "1        NaN             NaN                   NaN                    14.0   \n",
       "2        NaN             NaN                   NaN                     0.0   \n",
       "3        NaN             NaN                   NaN                    12.0   \n",
       "4        NaN             NaN                   NaN                     NaN   \n",
       "5        NaN             NaN                   NaN                     NaN   \n",
       "\n",
       "  nutrition-score-uk_100g glycemic-index_100g water-hardness_100g  \n",
       "1                    14.0                 NaN                 NaN  \n",
       "2                     0.0                 NaN                 NaN  \n",
       "3                    12.0                 NaN                 NaN  \n",
       "4                     NaN                 NaN                 NaN  \n",
       "5                     NaN                 NaN                 NaN  \n",
       "\n",
       "[5 rows x 163 columns]"
      ]
     },
     "execution_count": 9,
     "metadata": {},
     "output_type": "execute_result"
    }
   ],
   "source": [
    "df_us.head()"
   ]
  },
  {
   "cell_type": "code",
   "execution_count": 10,
   "metadata": {},
   "outputs": [
    {
     "data": {
      "text/plain": [
       "array([4559,\n",
       "       'http://world-en.openfoodfacts.org/product/0000000004559/peanuts-torn-glasser',\n",
       "       'usda-ndb-import', 1489069957, '2017-03-09T14:32:37Z', 1489069957,\n",
       "       '2017-03-09T14:32:37Z', 'Peanuts', nan, nan, nan, nan,\n",
       "       'Torn & Glasser', 'torn-glasser', nan, nan, nan, nan, nan, nan, nan,\n",
       "       nan, nan, nan, nan, nan, nan, nan, nan, nan, nan, 'us',\n",
       "       'en:united-states', 'United States',\n",
       "       'Peanuts, wheat flour, sugar, rice flour, tapioca starch, salt, leavening (ammonium bicarbonate, baking soda), soy sauce (water, soybeans, wheat, salt), potato starch.',\n",
       "       nan, nan, nan, nan, nan, '28 g (0.25 cup)', nan, 0.0,\n",
       "       ' [ peanuts -> en:peanuts  ]  [ wheat-flour -> en:wheat-flour  ]  [ flour -> en:flour  ]  [ sugar -> en:sugar  ]  [ rice-flour -> en:rice-flour  ]  [ flour -> en:flour  ]  [ tapioca-starch -> en:tapioca-starch  ]  [ starch -> en:starch  ]  [ salt -> en:salt  ]  [ leavening -> en:leavening  ]  [ ammonium-bicarbonate -> en:ammonium-bicarbonate  ]  [ bicarbonate -> en:bicarbonate  ]  [ baking-soda -> en:baking-soda  ]  [ soda -> en:soda  ]  [ soy-sauce -> en:soy-sauce  ]  [ sauce -> en:sauce  ]  [ water -> en:water  ]  [ soybeans -> en:soybeans  ]  [ wheat -> en:wheat  ]  [ salt -> en:salt  ]  [ potato-starch -> en:potato-starch  ]  [ starch -> en:starch  ] ',\n",
       "       nan, nan, 0.0, nan, nan, 0.0, nan, nan, nan, 'b', nan, nan,\n",
       "       'en:to-be-completed, en:nutrition-facts-completed, en:ingredients-completed, en:expiration-date-to-be-completed, en:packaging-code-to-be-completed, en:characteristics-to-be-completed, en:categories-to-be-completed, en:brands-completed, en:packaging-to-be-completed, en:quantity-to-be-completed, en:product-name-completed, en:photos-to-be-uploaded',\n",
       "       'en:to-be-completed,en:nutrition-facts-completed,en:ingredients-completed,en:expiration-date-to-be-completed,en:packaging-code-to-be-completed,en:characteristics-to-be-completed,en:categories-to-be-completed,en:brands-completed,en:packaging-to-be-completed,en:quantity-to-be-completed,en:product-name-completed,en:photos-to-be-uploaded',\n",
       "       'To be completed,Nutrition facts completed,Ingredients completed,Expiration date to be completed,Packaging-code-to-be-completed,Characteristics to be completed,Categories to be completed,Brands completed,Packaging to be completed,Quantity to be completed,Product name completed,Photos to be uploaded',\n",
       "       nan, nan, nan, nan, 1941.0, nan, 17.859999999999999, 0.0, nan, nan,\n",
       "       nan, nan, nan, nan, nan, nan, nan, nan, nan, nan, nan, nan, nan,\n",
       "       nan, nan, nan, nan, nan, nan, nan, nan, nan, nan, nan, nan, nan,\n",
       "       nan, nan, nan, nan, 0.0, 0.0, 60.710000000000001,\n",
       "       17.859999999999999, nan, nan, nan, nan, nan, nan, nan, nan,\n",
       "       7.0999999999999996, 17.859999999999999, nan, nan, nan,\n",
       "       0.63500000000000001, 0.25, nan, 0.0, nan, nan, nan, nan, 0.0, nan,\n",
       "       nan, nan, nan, nan, nan, nan, nan, nan, nan, nan, nan, nan,\n",
       "       0.070999999999999994, nan, 0.0012900000000000001, nan, nan, nan,\n",
       "       nan, nan, nan, nan, nan, nan, nan, nan, nan, nan, nan, nan, nan,\n",
       "       nan, nan, 0.0, 0.0, nan, nan], dtype=object)"
      ]
     },
     "execution_count": 10,
     "metadata": {},
     "output_type": "execute_result"
    }
   ],
   "source": [
    "# save the dataframe go tsv file\n",
    "#df_us_filtered.to_csv('data/food-facts/usa.openfoodfacts.tsv', sep='\\t',  encoding='utf-8')\n",
    "df_us.iloc[1].values"
   ]
  },
  {
   "cell_type": "code",
   "execution_count": 11,
   "metadata": {
    "collapsed": true
   },
   "outputs": [],
   "source": [
    "lst_extract_columns = [\n",
    "    \"code\",\"created_datetime\",\"product_name\",\"brands\",\"ingredients_text\",\n",
    "    \"energy_100g\", \"fat_100g\", \"saturated-fat_100g\", \n",
    "    \"carbohydrates_100g\", \"sugars_100g\", \"salt_100g\", \"sodium_100g\"\n",
    "]"
   ]
  },
  {
   "cell_type": "code",
   "execution_count": 12,
   "metadata": {
    "collapsed": true
   },
   "outputs": [],
   "source": [
    "df_us_ext = df_us[lst_extract_columns]"
   ]
  },
  {
   "cell_type": "code",
   "execution_count": 13,
   "metadata": {},
   "outputs": [
    {
     "data": {
      "text/html": [
       "<div>\n",
       "<style>\n",
       "    .dataframe thead tr:only-child th {\n",
       "        text-align: right;\n",
       "    }\n",
       "\n",
       "    .dataframe thead th {\n",
       "        text-align: left;\n",
       "    }\n",
       "\n",
       "    .dataframe tbody tr th {\n",
       "        vertical-align: top;\n",
       "    }\n",
       "</style>\n",
       "<table border=\"1\" class=\"dataframe\">\n",
       "  <thead>\n",
       "    <tr style=\"text-align: right;\">\n",
       "      <th></th>\n",
       "      <th>code</th>\n",
       "      <th>created_datetime</th>\n",
       "      <th>product_name</th>\n",
       "      <th>brands</th>\n",
       "      <th>ingredients_text</th>\n",
       "      <th>energy_100g</th>\n",
       "      <th>fat_100g</th>\n",
       "      <th>saturated-fat_100g</th>\n",
       "      <th>carbohydrates_100g</th>\n",
       "      <th>sugars_100g</th>\n",
       "      <th>salt_100g</th>\n",
       "      <th>sodium_100g</th>\n",
       "    </tr>\n",
       "  </thead>\n",
       "  <tbody>\n",
       "    <tr>\n",
       "      <th>1</th>\n",
       "      <td>4530</td>\n",
       "      <td>2017-03-09T14:32:37Z</td>\n",
       "      <td>Banana Chips Sweetened (Whole)</td>\n",
       "      <td>NaN</td>\n",
       "      <td>Bananas, vegetable oil (coconut oil, corn oil ...</td>\n",
       "      <td>2243.0</td>\n",
       "      <td>28.57</td>\n",
       "      <td>28.57</td>\n",
       "      <td>64.29</td>\n",
       "      <td>14.29</td>\n",
       "      <td>0.00000</td>\n",
       "      <td>0.000</td>\n",
       "    </tr>\n",
       "    <tr>\n",
       "      <th>2</th>\n",
       "      <td>4559</td>\n",
       "      <td>2017-03-09T14:32:37Z</td>\n",
       "      <td>Peanuts</td>\n",
       "      <td>Torn &amp; Glasser</td>\n",
       "      <td>Peanuts, wheat flour, sugar, rice flour, tapio...</td>\n",
       "      <td>1941.0</td>\n",
       "      <td>17.86</td>\n",
       "      <td>0.00</td>\n",
       "      <td>60.71</td>\n",
       "      <td>17.86</td>\n",
       "      <td>0.63500</td>\n",
       "      <td>0.250</td>\n",
       "    </tr>\n",
       "    <tr>\n",
       "      <th>3</th>\n",
       "      <td>16087</td>\n",
       "      <td>2017-03-09T10:35:31Z</td>\n",
       "      <td>Organic Salted Nut Mix</td>\n",
       "      <td>Grizzlies</td>\n",
       "      <td>Organic hazelnuts, organic cashews, organic wa...</td>\n",
       "      <td>2540.0</td>\n",
       "      <td>57.14</td>\n",
       "      <td>5.36</td>\n",
       "      <td>17.86</td>\n",
       "      <td>3.57</td>\n",
       "      <td>1.22428</td>\n",
       "      <td>0.482</td>\n",
       "    </tr>\n",
       "    <tr>\n",
       "      <th>4</th>\n",
       "      <td>16094</td>\n",
       "      <td>2017-03-09T10:34:13Z</td>\n",
       "      <td>Organic Polenta</td>\n",
       "      <td>Bob's Red Mill</td>\n",
       "      <td>Organic polenta</td>\n",
       "      <td>1552.0</td>\n",
       "      <td>1.43</td>\n",
       "      <td>NaN</td>\n",
       "      <td>77.14</td>\n",
       "      <td>NaN</td>\n",
       "      <td>NaN</td>\n",
       "      <td>NaN</td>\n",
       "    </tr>\n",
       "    <tr>\n",
       "      <th>5</th>\n",
       "      <td>16100</td>\n",
       "      <td>2017-03-09T10:34:11Z</td>\n",
       "      <td>Breadshop Honey Gone Nuts Granola</td>\n",
       "      <td>Unfi</td>\n",
       "      <td>Rolled oats, grape concentrate, expeller press...</td>\n",
       "      <td>1933.0</td>\n",
       "      <td>18.27</td>\n",
       "      <td>1.92</td>\n",
       "      <td>63.46</td>\n",
       "      <td>11.54</td>\n",
       "      <td>NaN</td>\n",
       "      <td>NaN</td>\n",
       "    </tr>\n",
       "  </tbody>\n",
       "</table>\n",
       "</div>"
      ],
      "text/plain": [
       "    code      created_datetime                       product_name  \\\n",
       "1   4530  2017-03-09T14:32:37Z     Banana Chips Sweetened (Whole)   \n",
       "2   4559  2017-03-09T14:32:37Z                            Peanuts   \n",
       "3  16087  2017-03-09T10:35:31Z             Organic Salted Nut Mix   \n",
       "4  16094  2017-03-09T10:34:13Z                    Organic Polenta   \n",
       "5  16100  2017-03-09T10:34:11Z  Breadshop Honey Gone Nuts Granola   \n",
       "\n",
       "           brands                                   ingredients_text  \\\n",
       "1             NaN  Bananas, vegetable oil (coconut oil, corn oil ...   \n",
       "2  Torn & Glasser  Peanuts, wheat flour, sugar, rice flour, tapio...   \n",
       "3       Grizzlies  Organic hazelnuts, organic cashews, organic wa...   \n",
       "4  Bob's Red Mill                                    Organic polenta   \n",
       "5            Unfi  Rolled oats, grape concentrate, expeller press...   \n",
       "\n",
       "   energy_100g  fat_100g  saturated-fat_100g  carbohydrates_100g  sugars_100g  \\\n",
       "1       2243.0     28.57               28.57               64.29        14.29   \n",
       "2       1941.0     17.86                0.00               60.71        17.86   \n",
       "3       2540.0     57.14                5.36               17.86         3.57   \n",
       "4       1552.0      1.43                 NaN               77.14          NaN   \n",
       "5       1933.0     18.27                1.92               63.46        11.54   \n",
       "\n",
       "   salt_100g  sodium_100g  \n",
       "1    0.00000        0.000  \n",
       "2    0.63500        0.250  \n",
       "3    1.22428        0.482  \n",
       "4        NaN          NaN  \n",
       "5        NaN          NaN  "
      ]
     },
     "execution_count": 13,
     "metadata": {},
     "output_type": "execute_result"
    }
   ],
   "source": [
    "df_us_ext.head()"
   ]
  },
  {
   "cell_type": "code",
   "execution_count": 14,
   "metadata": {},
   "outputs": [
    {
     "name": "stdout",
     "output_type": "stream",
     "text": [
      "<class 'pandas.core.frame.DataFrame'>\n",
      "Int64Index: 173063 entries, 1 to 356026\n",
      "Data columns (total 12 columns):\n",
      "code                  173063 non-null object\n",
      "created_datetime      173063 non-null object\n",
      "product_name          172515 non-null object\n",
      "brands                171466 non-null object\n",
      "ingredients_text      171475 non-null object\n",
      "energy_100g           171142 non-null float64\n",
      "fat_100g              171173 non-null float64\n",
      "saturated-fat_100g    145381 non-null float64\n",
      "carbohydrates_100g    171298 non-null float64\n",
      "sugars_100g           160062 non-null float64\n",
      "salt_100g             170739 non-null float64\n",
      "sodium_100g           170739 non-null float64\n",
      "dtypes: float64(7), object(5)\n",
      "memory usage: 17.2+ MB\n"
     ]
    }
   ],
   "source": [
    "df_us_ext.info()"
   ]
  },
  {
   "cell_type": "code",
   "execution_count": 15,
   "metadata": {},
   "outputs": [
    {
     "data": {
      "text/plain": [
       "code                      0\n",
       "created_datetime          0\n",
       "product_name            548\n",
       "brands                 1597\n",
       "ingredients_text       1588\n",
       "energy_100g            1921\n",
       "fat_100g               1890\n",
       "saturated-fat_100g    27682\n",
       "carbohydrates_100g     1765\n",
       "sugars_100g           13001\n",
       "salt_100g              2324\n",
       "sodium_100g            2324\n",
       "dtype: int64"
      ]
     },
     "execution_count": 15,
     "metadata": {},
     "output_type": "execute_result"
    }
   ],
   "source": [
    "df_us_ext.isnull().sum()"
   ]
  },
  {
   "cell_type": "code",
   "execution_count": 16,
   "metadata": {
    "collapsed": true
   },
   "outputs": [],
   "source": [
    "lst_ingridient = [\"energy_100g\",\"fat_100g\",\"saturated-fat_100g\",\"carbohydrates_100g\",\"sugars_100g\",\"salt_100g\",\"sodium_100g\"]"
   ]
  },
  {
   "cell_type": "code",
   "execution_count": 17,
   "metadata": {},
   "outputs": [
    {
     "name": "stderr",
     "output_type": "stream",
     "text": [
      "C:\\Users\\TaeWoo\\Anaconda3\\lib\\site-packages\\pandas\\core\\frame.py:2352: SettingWithCopyWarning: \n",
      "A value is trying to be set on a copy of a slice from a DataFrame.\n",
      "Try using .loc[row_indexer,col_indexer] = value instead\n",
      "\n",
      "See the caveats in the documentation: http://pandas.pydata.org/pandas-docs/stable/indexing.html#indexing-view-versus-copy\n",
      "  self[k1] = value[k2]\n"
     ]
    }
   ],
   "source": [
    "# I considered there is no mineral information. I set the 0 to the NaN.\n",
    "df_us_ext[lst_ingridient] = df_us_ext[lst_ingridient].fillna(0.0)"
   ]
  },
  {
   "cell_type": "code",
   "execution_count": 18,
   "metadata": {},
   "outputs": [
    {
     "data": {
      "text/plain": [
       "code                     0\n",
       "created_datetime         0\n",
       "product_name           548\n",
       "brands                1597\n",
       "ingredients_text      1588\n",
       "energy_100g              0\n",
       "fat_100g                 0\n",
       "saturated-fat_100g       0\n",
       "carbohydrates_100g       0\n",
       "sugars_100g              0\n",
       "salt_100g                0\n",
       "sodium_100g              0\n",
       "dtype: int64"
      ]
     },
     "execution_count": 18,
     "metadata": {},
     "output_type": "execute_result"
    }
   ],
   "source": [
    "df_us_ext.isnull().sum()"
   ]
  },
  {
   "cell_type": "code",
   "execution_count": 19,
   "metadata": {},
   "outputs": [
    {
     "data": {
      "text/plain": [
       "(173063, 12)"
      ]
     },
     "execution_count": 19,
     "metadata": {},
     "output_type": "execute_result"
    }
   ],
   "source": [
    "df_us_ext.shape"
   ]
  },
  {
   "cell_type": "code",
   "execution_count": 20,
   "metadata": {
    "collapsed": true
   },
   "outputs": [],
   "source": [
    "# remove rows to null product_name\n",
    "df_us_ext = df_us_ext[~df_us_ext['product_name'].isnull()]"
   ]
  },
  {
   "cell_type": "code",
   "execution_count": 21,
   "metadata": {},
   "outputs": [
    {
     "data": {
      "text/plain": [
       "(172515, 12)"
      ]
     },
     "execution_count": 21,
     "metadata": {},
     "output_type": "execute_result"
    }
   ],
   "source": [
    "# 173063 - 548 = 172515\n",
    "df_us_ext.shape"
   ]
  },
  {
   "cell_type": "code",
   "execution_count": 22,
   "metadata": {},
   "outputs": [
    {
     "name": "stderr",
     "output_type": "stream",
     "text": [
      "C:\\Users\\TaeWoo\\Anaconda3\\lib\\site-packages\\ipykernel_launcher.py:1: UserWarning: This pattern has match groups. To actually get the groups, use str.extract.\n",
      "  \"\"\"Entry point for launching an IPython kernel.\n"
     ]
    }
   ],
   "source": [
    "df_sugar = df_us_ext[(df_us_ext['sugars_100g'] > 80) & (df_us_ext['product_name'].str.contains(r\"(sugar|Sugar)\"))]"
   ]
  },
  {
   "cell_type": "code",
   "execution_count": 23,
   "metadata": {},
   "outputs": [
    {
     "data": {
      "text/html": [
       "<div>\n",
       "<style>\n",
       "    .dataframe thead tr:only-child th {\n",
       "        text-align: right;\n",
       "    }\n",
       "\n",
       "    .dataframe thead th {\n",
       "        text-align: left;\n",
       "    }\n",
       "\n",
       "    .dataframe tbody tr th {\n",
       "        vertical-align: top;\n",
       "    }\n",
       "</style>\n",
       "<table border=\"1\" class=\"dataframe\">\n",
       "  <thead>\n",
       "    <tr style=\"text-align: right;\">\n",
       "      <th></th>\n",
       "      <th>code</th>\n",
       "      <th>created_datetime</th>\n",
       "      <th>product_name</th>\n",
       "      <th>brands</th>\n",
       "      <th>ingredients_text</th>\n",
       "      <th>energy_100g</th>\n",
       "      <th>fat_100g</th>\n",
       "      <th>saturated-fat_100g</th>\n",
       "      <th>carbohydrates_100g</th>\n",
       "      <th>sugars_100g</th>\n",
       "      <th>salt_100g</th>\n",
       "      <th>sodium_100g</th>\n",
       "    </tr>\n",
       "  </thead>\n",
       "  <tbody>\n",
       "    <tr>\n",
       "      <th>36</th>\n",
       "      <td>18562</td>\n",
       "      <td>2017-03-09T09:07:42Z</td>\n",
       "      <td>Sweeteners, Demerara Turbinado Sugar</td>\n",
       "      <td>Wholesome,  Wholesome Sweeteners</td>\n",
       "      <td>Raw cane demerara sugar.</td>\n",
       "      <td>1569.0</td>\n",
       "      <td>0.0</td>\n",
       "      <td>0.0</td>\n",
       "      <td>100.00</td>\n",
       "      <td>100.00</td>\n",
       "      <td>0.0</td>\n",
       "      <td>0.0</td>\n",
       "    </tr>\n",
       "    <tr>\n",
       "      <th>74</th>\n",
       "      <td>33268</td>\n",
       "      <td>2017-03-09T10:34:13Z</td>\n",
       "      <td>Sweeteners, Organic Fair Trade Sugar</td>\n",
       "      <td>Wholesome,  Wholesome Sweeteners</td>\n",
       "      <td>Organic evaporated cane juice.</td>\n",
       "      <td>1569.0</td>\n",
       "      <td>0.0</td>\n",
       "      <td>0.0</td>\n",
       "      <td>100.00</td>\n",
       "      <td>100.00</td>\n",
       "      <td>0.0</td>\n",
       "      <td>0.0</td>\n",
       "    </tr>\n",
       "    <tr>\n",
       "      <th>169</th>\n",
       "      <td>58360</td>\n",
       "      <td>2017-03-09T10:35:30Z</td>\n",
       "      <td>Organic Unrefined Mascobado Sugar</td>\n",
       "      <td>Alter Eco</td>\n",
       "      <td>Organic unrefined mascobado sugar.</td>\n",
       "      <td>1569.0</td>\n",
       "      <td>0.0</td>\n",
       "      <td>0.0</td>\n",
       "      <td>100.00</td>\n",
       "      <td>100.00</td>\n",
       "      <td>0.0</td>\n",
       "      <td>0.0</td>\n",
       "    </tr>\n",
       "    <tr>\n",
       "      <th>2938</th>\n",
       "      <td>11110683267</td>\n",
       "      <td>2017-03-09T12:38:32Z</td>\n",
       "      <td>Sugar &amp; Cinnamon</td>\n",
       "      <td>Kroger</td>\n",
       "      <td>Sugar and cinnamon.</td>\n",
       "      <td>1795.0</td>\n",
       "      <td>0.0</td>\n",
       "      <td>0.0</td>\n",
       "      <td>85.71</td>\n",
       "      <td>85.71</td>\n",
       "      <td>0.0</td>\n",
       "      <td>0.0</td>\n",
       "    </tr>\n",
       "    <tr>\n",
       "      <th>2957</th>\n",
       "      <td>11110701794</td>\n",
       "      <td>2017-03-09T13:07:07Z</td>\n",
       "      <td>Dessert Topping, Red Sugar</td>\n",
       "      <td>Kroeger</td>\n",
       "      <td>Sugar, confectioner's glaze, red 3, carnauba w...</td>\n",
       "      <td>1569.0</td>\n",
       "      <td>0.0</td>\n",
       "      <td>0.0</td>\n",
       "      <td>100.00</td>\n",
       "      <td>100.00</td>\n",
       "      <td>0.0</td>\n",
       "      <td>0.0</td>\n",
       "    </tr>\n",
       "  </tbody>\n",
       "</table>\n",
       "</div>"
      ],
      "text/plain": [
       "             code      created_datetime                          product_name  \\\n",
       "36          18562  2017-03-09T09:07:42Z  Sweeteners, Demerara Turbinado Sugar   \n",
       "74          33268  2017-03-09T10:34:13Z  Sweeteners, Organic Fair Trade Sugar   \n",
       "169         58360  2017-03-09T10:35:30Z     Organic Unrefined Mascobado Sugar   \n",
       "2938  11110683267  2017-03-09T12:38:32Z                      Sugar & Cinnamon   \n",
       "2957  11110701794  2017-03-09T13:07:07Z            Dessert Topping, Red Sugar   \n",
       "\n",
       "                                brands  \\\n",
       "36    Wholesome,  Wholesome Sweeteners   \n",
       "74    Wholesome,  Wholesome Sweeteners   \n",
       "169                          Alter Eco   \n",
       "2938                            Kroger   \n",
       "2957                           Kroeger   \n",
       "\n",
       "                                       ingredients_text  energy_100g  \\\n",
       "36                             Raw cane demerara sugar.       1569.0   \n",
       "74                       Organic evaporated cane juice.       1569.0   \n",
       "169                  Organic unrefined mascobado sugar.       1569.0   \n",
       "2938                                Sugar and cinnamon.       1795.0   \n",
       "2957  Sugar, confectioner's glaze, red 3, carnauba w...       1569.0   \n",
       "\n",
       "      fat_100g  saturated-fat_100g  carbohydrates_100g  sugars_100g  \\\n",
       "36         0.0                 0.0              100.00       100.00   \n",
       "74         0.0                 0.0              100.00       100.00   \n",
       "169        0.0                 0.0              100.00       100.00   \n",
       "2938       0.0                 0.0               85.71        85.71   \n",
       "2957       0.0                 0.0              100.00       100.00   \n",
       "\n",
       "      salt_100g  sodium_100g  \n",
       "36          0.0          0.0  \n",
       "74          0.0          0.0  \n",
       "169         0.0          0.0  \n",
       "2938        0.0          0.0  \n",
       "2957        0.0          0.0  "
      ]
     },
     "execution_count": 23,
     "metadata": {},
     "output_type": "execute_result"
    }
   ],
   "source": [
    "df_sugar.head()"
   ]
  },
  {
   "cell_type": "code",
   "execution_count": 24,
   "metadata": {},
   "outputs": [
    {
     "data": {
      "text/plain": [
       "(493, 12)"
      ]
     },
     "execution_count": 24,
     "metadata": {},
     "output_type": "execute_result"
    }
   ],
   "source": [
    "df_sugar.shape"
   ]
  },
  {
   "cell_type": "code",
   "execution_count": 25,
   "metadata": {},
   "outputs": [
    {
     "name": "stderr",
     "output_type": "stream",
     "text": [
      "C:\\Users\\TaeWoo\\Anaconda3\\lib\\site-packages\\ipykernel_launcher.py:1: UserWarning: This pattern has match groups. To actually get the groups, use str.extract.\n",
      "  \"\"\"Entry point for launching an IPython kernel.\n"
     ]
    }
   ],
   "source": [
    "df_us_ext = df_us_ext[~(df_us_ext['sugars_100g'] > 80) | ~(df_us_ext['product_name'].str.contains(r\"(sugar|Sugar)\"))]"
   ]
  },
  {
   "cell_type": "code",
   "execution_count": 26,
   "metadata": {},
   "outputs": [
    {
     "data": {
      "text/plain": [
       "(172022, 12)"
      ]
     },
     "execution_count": 26,
     "metadata": {},
     "output_type": "execute_result"
    }
   ],
   "source": [
    "df_us_ext.shape"
   ]
  },
  {
   "cell_type": "code",
   "execution_count": 27,
   "metadata": {},
   "outputs": [
    {
     "name": "stderr",
     "output_type": "stream",
     "text": [
      "C:\\Users\\TaeWoo\\Anaconda3\\lib\\site-packages\\ipykernel_launcher.py:1: UserWarning: This pattern has match groups. To actually get the groups, use str.extract.\n",
      "  \"\"\"Entry point for launching an IPython kernel.\n"
     ]
    }
   ],
   "source": [
    "df_salt = df_us_ext[(df_us_ext['salt_100g'] > 80) & (df_us_ext['product_name'].str.contains(r\"(salt|Salt)\"))]"
   ]
  },
  {
   "cell_type": "code",
   "execution_count": 28,
   "metadata": {},
   "outputs": [
    {
     "data": {
      "text/html": [
       "<div>\n",
       "<style>\n",
       "    .dataframe thead tr:only-child th {\n",
       "        text-align: right;\n",
       "    }\n",
       "\n",
       "    .dataframe thead th {\n",
       "        text-align: left;\n",
       "    }\n",
       "\n",
       "    .dataframe tbody tr th {\n",
       "        vertical-align: top;\n",
       "    }\n",
       "</style>\n",
       "<table border=\"1\" class=\"dataframe\">\n",
       "  <thead>\n",
       "    <tr style=\"text-align: right;\">\n",
       "      <th></th>\n",
       "      <th>code</th>\n",
       "      <th>created_datetime</th>\n",
       "      <th>product_name</th>\n",
       "      <th>brands</th>\n",
       "      <th>ingredients_text</th>\n",
       "      <th>energy_100g</th>\n",
       "      <th>fat_100g</th>\n",
       "      <th>saturated-fat_100g</th>\n",
       "      <th>carbohydrates_100g</th>\n",
       "      <th>sugars_100g</th>\n",
       "      <th>salt_100g</th>\n",
       "      <th>sodium_100g</th>\n",
       "    </tr>\n",
       "  </thead>\n",
       "  <tbody>\n",
       "    <tr>\n",
       "      <th>25</th>\n",
       "      <td>18371</td>\n",
       "      <td>2017-03-09T10:35:13Z</td>\n",
       "      <td>Real Salt Granular</td>\n",
       "      <td>Redmond</td>\n",
       "      <td>Ancient sea salt with natural trace minerals</td>\n",
       "      <td>0.0</td>\n",
       "      <td>0.0</td>\n",
       "      <td>0.0</td>\n",
       "      <td>0.0</td>\n",
       "      <td>0.0</td>\n",
       "      <td>96.15678</td>\n",
       "      <td>37.857</td>\n",
       "    </tr>\n",
       "    <tr>\n",
       "      <th>73</th>\n",
       "      <td>33084</td>\n",
       "      <td>2017-03-09T10:35:09Z</td>\n",
       "      <td>Fine Sea Salt</td>\n",
       "      <td>Unfi</td>\n",
       "      <td>New zealand sea salt with natural trace elements.</td>\n",
       "      <td>0.0</td>\n",
       "      <td>0.0</td>\n",
       "      <td>0.0</td>\n",
       "      <td>0.0</td>\n",
       "      <td>0.0</td>\n",
       "      <td>99.90582</td>\n",
       "      <td>39.333</td>\n",
       "    </tr>\n",
       "    <tr>\n",
       "      <th>522</th>\n",
       "      <td>2124810206</td>\n",
       "      <td>2017-03-09T20:14:30Z</td>\n",
       "      <td>Mediterranean Sea Salt</td>\n",
       "      <td>Olde Thompson</td>\n",
       "      <td>Mediterranean sea salt.</td>\n",
       "      <td>0.0</td>\n",
       "      <td>0.0</td>\n",
       "      <td>0.0</td>\n",
       "      <td>0.0</td>\n",
       "      <td>0.0</td>\n",
       "      <td>105.83418</td>\n",
       "      <td>41.667</td>\n",
       "    </tr>\n",
       "    <tr>\n",
       "      <th>1784</th>\n",
       "      <td>11110002976</td>\n",
       "      <td>2017-03-09T12:38:35Z</td>\n",
       "      <td>Celery Salt</td>\n",
       "      <td>Kroger</td>\n",
       "      <td>Salt and ground celery seed.</td>\n",
       "      <td>0.0</td>\n",
       "      <td>0.0</td>\n",
       "      <td>0.0</td>\n",
       "      <td>0.0</td>\n",
       "      <td>0.0</td>\n",
       "      <td>83.45678</td>\n",
       "      <td>32.857</td>\n",
       "    </tr>\n",
       "    <tr>\n",
       "      <th>1785</th>\n",
       "      <td>11110003041</td>\n",
       "      <td>2017-03-09T12:38:37Z</td>\n",
       "      <td>Garlic Salt Seasoning</td>\n",
       "      <td>Kroger</td>\n",
       "      <td>Salt, dehydrated garlic, calcium stearate (ant...</td>\n",
       "      <td>0.0</td>\n",
       "      <td>0.0</td>\n",
       "      <td>0.0</td>\n",
       "      <td>0.0</td>\n",
       "      <td>0.0</td>\n",
       "      <td>87.92210</td>\n",
       "      <td>34.615</td>\n",
       "    </tr>\n",
       "  </tbody>\n",
       "</table>\n",
       "</div>"
      ],
      "text/plain": [
       "             code      created_datetime            product_name  \\\n",
       "25          18371  2017-03-09T10:35:13Z      Real Salt Granular   \n",
       "73          33084  2017-03-09T10:35:09Z           Fine Sea Salt   \n",
       "522    2124810206  2017-03-09T20:14:30Z  Mediterranean Sea Salt   \n",
       "1784  11110002976  2017-03-09T12:38:35Z             Celery Salt   \n",
       "1785  11110003041  2017-03-09T12:38:37Z   Garlic Salt Seasoning   \n",
       "\n",
       "             brands                                   ingredients_text  \\\n",
       "25          Redmond       Ancient sea salt with natural trace minerals   \n",
       "73             Unfi  New zealand sea salt with natural trace elements.   \n",
       "522   Olde Thompson                            Mediterranean sea salt.   \n",
       "1784         Kroger                       Salt and ground celery seed.   \n",
       "1785         Kroger  Salt, dehydrated garlic, calcium stearate (ant...   \n",
       "\n",
       "      energy_100g  fat_100g  saturated-fat_100g  carbohydrates_100g  \\\n",
       "25            0.0       0.0                 0.0                 0.0   \n",
       "73            0.0       0.0                 0.0                 0.0   \n",
       "522           0.0       0.0                 0.0                 0.0   \n",
       "1784          0.0       0.0                 0.0                 0.0   \n",
       "1785          0.0       0.0                 0.0                 0.0   \n",
       "\n",
       "      sugars_100g  salt_100g  sodium_100g  \n",
       "25            0.0   96.15678       37.857  \n",
       "73            0.0   99.90582       39.333  \n",
       "522           0.0  105.83418       41.667  \n",
       "1784          0.0   83.45678       32.857  \n",
       "1785          0.0   87.92210       34.615  "
      ]
     },
     "execution_count": 28,
     "metadata": {},
     "output_type": "execute_result"
    }
   ],
   "source": [
    "df_salt.head()"
   ]
  },
  {
   "cell_type": "code",
   "execution_count": 29,
   "metadata": {},
   "outputs": [
    {
     "data": {
      "text/plain": [
       "(476, 12)"
      ]
     },
     "execution_count": 29,
     "metadata": {},
     "output_type": "execute_result"
    }
   ],
   "source": [
    "df_salt.shape"
   ]
  },
  {
   "cell_type": "code",
   "execution_count": 30,
   "metadata": {},
   "outputs": [
    {
     "name": "stderr",
     "output_type": "stream",
     "text": [
      "C:\\Users\\TaeWoo\\Anaconda3\\lib\\site-packages\\ipykernel_launcher.py:1: UserWarning: This pattern has match groups. To actually get the groups, use str.extract.\n",
      "  \"\"\"Entry point for launching an IPython kernel.\n"
     ]
    }
   ],
   "source": [
    "df_us_ext = df_us_ext[~(df_us_ext['salt_100g'] > 80) | ~(df_us_ext['product_name'].str.contains(r\"(salt|Salt)\"))]"
   ]
  },
  {
   "cell_type": "code",
   "execution_count": 31,
   "metadata": {},
   "outputs": [
    {
     "data": {
      "text/plain": [
       "(171546, 12)"
      ]
     },
     "execution_count": 31,
     "metadata": {},
     "output_type": "execute_result"
    }
   ],
   "source": [
    "df_us_ext.shape"
   ]
  },
  {
   "cell_type": "code",
   "execution_count": 32,
   "metadata": {},
   "outputs": [
    {
     "data": {
      "text/plain": [
       "code                     0\n",
       "created_datetime         0\n",
       "product_name             0\n",
       "brands                1199\n",
       "ingredients_text      1100\n",
       "energy_100g              0\n",
       "fat_100g                 0\n",
       "saturated-fat_100g       0\n",
       "carbohydrates_100g       0\n",
       "sugars_100g              0\n",
       "salt_100g                0\n",
       "sodium_100g              0\n",
       "dtype: int64"
      ]
     },
     "execution_count": 32,
     "metadata": {},
     "output_type": "execute_result"
    }
   ],
   "source": [
    "df_us_ext.isnull().sum()"
   ]
  },
  {
   "cell_type": "code",
   "execution_count": 33,
   "metadata": {
    "collapsed": true
   },
   "outputs": [],
   "source": [
    "# remove rows to null brands\n",
    "df_us_ext = df_us_ext[~df_us_ext['brands'].isnull()]"
   ]
  },
  {
   "cell_type": "code",
   "execution_count": 34,
   "metadata": {},
   "outputs": [
    {
     "data": {
      "text/plain": [
       "(170347, 12)"
      ]
     },
     "execution_count": 34,
     "metadata": {},
     "output_type": "execute_result"
    }
   ],
   "source": [
    "#171546-1199 = 170347\n",
    "df_us_ext.shape"
   ]
  },
  {
   "cell_type": "code",
   "execution_count": 35,
   "metadata": {},
   "outputs": [
    {
     "data": {
      "text/plain": [
       "code                    0\n",
       "created_datetime        0\n",
       "product_name            0\n",
       "brands                  0\n",
       "ingredients_text      810\n",
       "energy_100g             0\n",
       "fat_100g                0\n",
       "saturated-fat_100g      0\n",
       "carbohydrates_100g      0\n",
       "sugars_100g             0\n",
       "salt_100g               0\n",
       "sodium_100g             0\n",
       "dtype: int64"
      ]
     },
     "execution_count": 35,
     "metadata": {},
     "output_type": "execute_result"
    }
   ],
   "source": [
    "df_us_ext.isnull().sum()"
   ]
  },
  {
   "cell_type": "code",
   "execution_count": 36,
   "metadata": {
    "collapsed": true
   },
   "outputs": [],
   "source": [
    "#df[df.duplicated(keep=False)]\n",
    "df_us_ext_dup = df_us_ext[df_us_ext['code'].duplicated(keep=False)]"
   ]
  },
  {
   "cell_type": "code",
   "execution_count": 37,
   "metadata": {},
   "outputs": [
    {
     "data": {
      "text/plain": [
       "(215, 12)"
      ]
     },
     "execution_count": 37,
     "metadata": {},
     "output_type": "execute_result"
    }
   ],
   "source": [
    "df_us_ext_dup.shape"
   ]
  },
  {
   "cell_type": "code",
   "execution_count": 38,
   "metadata": {
    "collapsed": true
   },
   "outputs": [],
   "source": [
    "df_us_ext_dup.to_csv('data/food-facts/en.extract.dup.tsv', sep='\\t', encoding='utf-8')"
   ]
  },
  {
   "cell_type": "code",
   "execution_count": 39,
   "metadata": {
    "collapsed": true
   },
   "outputs": [],
   "source": [
    "df_us_ext = df_us_ext.drop_duplicates(['code'], keep=\"first\")"
   ]
  },
  {
   "cell_type": "code",
   "execution_count": 40,
   "metadata": {},
   "outputs": [
    {
     "data": {
      "text/plain": [
       "(170239, 12)"
      ]
     },
     "execution_count": 40,
     "metadata": {},
     "output_type": "execute_result"
    }
   ],
   "source": [
    "df_us_ext.shape"
   ]
  },
  {
   "cell_type": "code",
   "execution_count": 41,
   "metadata": {},
   "outputs": [
    {
     "data": {
      "text/html": [
       "<div>\n",
       "<style>\n",
       "    .dataframe thead tr:only-child th {\n",
       "        text-align: right;\n",
       "    }\n",
       "\n",
       "    .dataframe thead th {\n",
       "        text-align: left;\n",
       "    }\n",
       "\n",
       "    .dataframe tbody tr th {\n",
       "        vertical-align: top;\n",
       "    }\n",
       "</style>\n",
       "<table border=\"1\" class=\"dataframe\">\n",
       "  <thead>\n",
       "    <tr style=\"text-align: right;\">\n",
       "      <th></th>\n",
       "      <th>code</th>\n",
       "      <th>created_datetime</th>\n",
       "      <th>product_name</th>\n",
       "      <th>brands</th>\n",
       "      <th>ingredients_text</th>\n",
       "      <th>energy_100g</th>\n",
       "      <th>fat_100g</th>\n",
       "      <th>saturated-fat_100g</th>\n",
       "      <th>carbohydrates_100g</th>\n",
       "      <th>sugars_100g</th>\n",
       "      <th>salt_100g</th>\n",
       "      <th>sodium_100g</th>\n",
       "    </tr>\n",
       "  </thead>\n",
       "  <tbody>\n",
       "    <tr>\n",
       "      <th>2</th>\n",
       "      <td>4559</td>\n",
       "      <td>2017-03-09T14:32:37Z</td>\n",
       "      <td>Peanuts</td>\n",
       "      <td>Torn &amp; Glasser</td>\n",
       "      <td>Peanuts, wheat flour, sugar, rice flour, tapio...</td>\n",
       "      <td>1941.0</td>\n",
       "      <td>17.86</td>\n",
       "      <td>0.00</td>\n",
       "      <td>60.71</td>\n",
       "      <td>17.86</td>\n",
       "      <td>0.63500</td>\n",
       "      <td>0.250</td>\n",
       "    </tr>\n",
       "    <tr>\n",
       "      <th>3</th>\n",
       "      <td>16087</td>\n",
       "      <td>2017-03-09T10:35:31Z</td>\n",
       "      <td>Organic Salted Nut Mix</td>\n",
       "      <td>Grizzlies</td>\n",
       "      <td>Organic hazelnuts, organic cashews, organic wa...</td>\n",
       "      <td>2540.0</td>\n",
       "      <td>57.14</td>\n",
       "      <td>5.36</td>\n",
       "      <td>17.86</td>\n",
       "      <td>3.57</td>\n",
       "      <td>1.22428</td>\n",
       "      <td>0.482</td>\n",
       "    </tr>\n",
       "    <tr>\n",
       "      <th>4</th>\n",
       "      <td>16094</td>\n",
       "      <td>2017-03-09T10:34:13Z</td>\n",
       "      <td>Organic Polenta</td>\n",
       "      <td>Bob's Red Mill</td>\n",
       "      <td>Organic polenta</td>\n",
       "      <td>1552.0</td>\n",
       "      <td>1.43</td>\n",
       "      <td>0.00</td>\n",
       "      <td>77.14</td>\n",
       "      <td>0.00</td>\n",
       "      <td>0.00000</td>\n",
       "      <td>0.000</td>\n",
       "    </tr>\n",
       "    <tr>\n",
       "      <th>5</th>\n",
       "      <td>16100</td>\n",
       "      <td>2017-03-09T10:34:11Z</td>\n",
       "      <td>Breadshop Honey Gone Nuts Granola</td>\n",
       "      <td>Unfi</td>\n",
       "      <td>Rolled oats, grape concentrate, expeller press...</td>\n",
       "      <td>1933.0</td>\n",
       "      <td>18.27</td>\n",
       "      <td>1.92</td>\n",
       "      <td>63.46</td>\n",
       "      <td>11.54</td>\n",
       "      <td>0.00000</td>\n",
       "      <td>0.000</td>\n",
       "    </tr>\n",
       "    <tr>\n",
       "      <th>6</th>\n",
       "      <td>16117</td>\n",
       "      <td>2017-03-09T10:35:30Z</td>\n",
       "      <td>Organic Long Grain White Rice</td>\n",
       "      <td>Lundberg</td>\n",
       "      <td>Organic long grain white rice</td>\n",
       "      <td>1490.0</td>\n",
       "      <td>0.00</td>\n",
       "      <td>0.00</td>\n",
       "      <td>80.00</td>\n",
       "      <td>0.00</td>\n",
       "      <td>0.00000</td>\n",
       "      <td>0.000</td>\n",
       "    </tr>\n",
       "  </tbody>\n",
       "</table>\n",
       "</div>"
      ],
      "text/plain": [
       "    code      created_datetime                       product_name  \\\n",
       "2   4559  2017-03-09T14:32:37Z                            Peanuts   \n",
       "3  16087  2017-03-09T10:35:31Z             Organic Salted Nut Mix   \n",
       "4  16094  2017-03-09T10:34:13Z                    Organic Polenta   \n",
       "5  16100  2017-03-09T10:34:11Z  Breadshop Honey Gone Nuts Granola   \n",
       "6  16117  2017-03-09T10:35:30Z      Organic Long Grain White Rice   \n",
       "\n",
       "           brands                                   ingredients_text  \\\n",
       "2  Torn & Glasser  Peanuts, wheat flour, sugar, rice flour, tapio...   \n",
       "3       Grizzlies  Organic hazelnuts, organic cashews, organic wa...   \n",
       "4  Bob's Red Mill                                    Organic polenta   \n",
       "5            Unfi  Rolled oats, grape concentrate, expeller press...   \n",
       "6        Lundberg                      Organic long grain white rice   \n",
       "\n",
       "   energy_100g  fat_100g  saturated-fat_100g  carbohydrates_100g  sugars_100g  \\\n",
       "2       1941.0     17.86                0.00               60.71        17.86   \n",
       "3       2540.0     57.14                5.36               17.86         3.57   \n",
       "4       1552.0      1.43                0.00               77.14         0.00   \n",
       "5       1933.0     18.27                1.92               63.46        11.54   \n",
       "6       1490.0      0.00                0.00               80.00         0.00   \n",
       "\n",
       "   salt_100g  sodium_100g  \n",
       "2    0.63500        0.250  \n",
       "3    1.22428        0.482  \n",
       "4    0.00000        0.000  \n",
       "5    0.00000        0.000  \n",
       "6    0.00000        0.000  "
      ]
     },
     "execution_count": 41,
     "metadata": {},
     "output_type": "execute_result"
    }
   ],
   "source": [
    "df_us_ext.head()"
   ]
  },
  {
   "cell_type": "code",
   "execution_count": 42,
   "metadata": {},
   "outputs": [
    {
     "data": {
      "text/plain": [
       "code                    0\n",
       "created_datetime        0\n",
       "product_name            0\n",
       "brands                  0\n",
       "ingredients_text      810\n",
       "energy_100g             0\n",
       "fat_100g                0\n",
       "saturated-fat_100g      0\n",
       "carbohydrates_100g      0\n",
       "sugars_100g             0\n",
       "salt_100g               0\n",
       "sodium_100g             0\n",
       "dtype: int64"
      ]
     },
     "execution_count": 42,
     "metadata": {},
     "output_type": "execute_result"
    }
   ],
   "source": [
    "df_us_ext.isnull().sum()"
   ]
  },
  {
   "cell_type": "code",
   "execution_count": 43,
   "metadata": {
    "collapsed": true
   },
   "outputs": [],
   "source": [
    "df_us_ext['created_datetime']  = \\\n",
    "    df_us_ext['created_datetime'].astype('datetime64[ns]').dt.strftime('%m/%d/%Y')\n",
    "#pd.to_datetime(df_us_column_filtered['created_datetime'], format='%Y%m%d', errors='ignore')"
   ]
  },
  {
   "cell_type": "code",
   "execution_count": 44,
   "metadata": {},
   "outputs": [
    {
     "data": {
      "text/plain": [
       "code                    0\n",
       "created_datetime        0\n",
       "product_name            0\n",
       "brands                  0\n",
       "ingredients_text      810\n",
       "energy_100g             0\n",
       "fat_100g                0\n",
       "saturated-fat_100g      0\n",
       "carbohydrates_100g      0\n",
       "sugars_100g             0\n",
       "salt_100g               0\n",
       "sodium_100g             0\n",
       "dtype: int64"
      ]
     },
     "execution_count": 44,
     "metadata": {},
     "output_type": "execute_result"
    }
   ],
   "source": [
    "df_us_ext.isnull().sum()"
   ]
  },
  {
   "cell_type": "code",
   "execution_count": 45,
   "metadata": {
    "collapsed": true
   },
   "outputs": [],
   "source": [
    "# NaN makes an error\n",
    "df_us_ext['ingredients_text'] = df_us_ext['ingredients_text'].fillna(\"None\").values"
   ]
  },
  {
   "cell_type": "code",
   "execution_count": 46,
   "metadata": {},
   "outputs": [
    {
     "data": {
      "text/html": [
       "<div>\n",
       "<style>\n",
       "    .dataframe thead tr:only-child th {\n",
       "        text-align: right;\n",
       "    }\n",
       "\n",
       "    .dataframe thead th {\n",
       "        text-align: left;\n",
       "    }\n",
       "\n",
       "    .dataframe tbody tr th {\n",
       "        vertical-align: top;\n",
       "    }\n",
       "</style>\n",
       "<table border=\"1\" class=\"dataframe\">\n",
       "  <thead>\n",
       "    <tr style=\"text-align: right;\">\n",
       "      <th></th>\n",
       "      <th>code</th>\n",
       "      <th>created_datetime</th>\n",
       "      <th>product_name</th>\n",
       "      <th>brands</th>\n",
       "      <th>ingredients_text</th>\n",
       "      <th>energy_100g</th>\n",
       "      <th>fat_100g</th>\n",
       "      <th>saturated-fat_100g</th>\n",
       "      <th>carbohydrates_100g</th>\n",
       "      <th>sugars_100g</th>\n",
       "      <th>salt_100g</th>\n",
       "      <th>sodium_100g</th>\n",
       "    </tr>\n",
       "  </thead>\n",
       "  <tbody>\n",
       "    <tr>\n",
       "      <th>2</th>\n",
       "      <td>4559</td>\n",
       "      <td>03/09/2017</td>\n",
       "      <td>Peanuts</td>\n",
       "      <td>Torn &amp; Glasser</td>\n",
       "      <td>Peanuts, wheat flour, sugar, rice flour, tapio...</td>\n",
       "      <td>1941.0</td>\n",
       "      <td>17.86</td>\n",
       "      <td>0.00</td>\n",
       "      <td>60.71</td>\n",
       "      <td>17.86</td>\n",
       "      <td>0.63500</td>\n",
       "      <td>0.250</td>\n",
       "    </tr>\n",
       "    <tr>\n",
       "      <th>3</th>\n",
       "      <td>16087</td>\n",
       "      <td>03/09/2017</td>\n",
       "      <td>Organic Salted Nut Mix</td>\n",
       "      <td>Grizzlies</td>\n",
       "      <td>Organic hazelnuts, organic cashews, organic wa...</td>\n",
       "      <td>2540.0</td>\n",
       "      <td>57.14</td>\n",
       "      <td>5.36</td>\n",
       "      <td>17.86</td>\n",
       "      <td>3.57</td>\n",
       "      <td>1.22428</td>\n",
       "      <td>0.482</td>\n",
       "    </tr>\n",
       "    <tr>\n",
       "      <th>4</th>\n",
       "      <td>16094</td>\n",
       "      <td>03/09/2017</td>\n",
       "      <td>Organic Polenta</td>\n",
       "      <td>Bob's Red Mill</td>\n",
       "      <td>Organic polenta</td>\n",
       "      <td>1552.0</td>\n",
       "      <td>1.43</td>\n",
       "      <td>0.00</td>\n",
       "      <td>77.14</td>\n",
       "      <td>0.00</td>\n",
       "      <td>0.00000</td>\n",
       "      <td>0.000</td>\n",
       "    </tr>\n",
       "    <tr>\n",
       "      <th>5</th>\n",
       "      <td>16100</td>\n",
       "      <td>03/09/2017</td>\n",
       "      <td>Breadshop Honey Gone Nuts Granola</td>\n",
       "      <td>Unfi</td>\n",
       "      <td>Rolled oats, grape concentrate, expeller press...</td>\n",
       "      <td>1933.0</td>\n",
       "      <td>18.27</td>\n",
       "      <td>1.92</td>\n",
       "      <td>63.46</td>\n",
       "      <td>11.54</td>\n",
       "      <td>0.00000</td>\n",
       "      <td>0.000</td>\n",
       "    </tr>\n",
       "    <tr>\n",
       "      <th>6</th>\n",
       "      <td>16117</td>\n",
       "      <td>03/09/2017</td>\n",
       "      <td>Organic Long Grain White Rice</td>\n",
       "      <td>Lundberg</td>\n",
       "      <td>Organic long grain white rice</td>\n",
       "      <td>1490.0</td>\n",
       "      <td>0.00</td>\n",
       "      <td>0.00</td>\n",
       "      <td>80.00</td>\n",
       "      <td>0.00</td>\n",
       "      <td>0.00000</td>\n",
       "      <td>0.000</td>\n",
       "    </tr>\n",
       "  </tbody>\n",
       "</table>\n",
       "</div>"
      ],
      "text/plain": [
       "    code created_datetime                       product_name          brands  \\\n",
       "2   4559       03/09/2017                            Peanuts  Torn & Glasser   \n",
       "3  16087       03/09/2017             Organic Salted Nut Mix       Grizzlies   \n",
       "4  16094       03/09/2017                    Organic Polenta  Bob's Red Mill   \n",
       "5  16100       03/09/2017  Breadshop Honey Gone Nuts Granola            Unfi   \n",
       "6  16117       03/09/2017      Organic Long Grain White Rice        Lundberg   \n",
       "\n",
       "                                    ingredients_text  energy_100g  fat_100g  \\\n",
       "2  Peanuts, wheat flour, sugar, rice flour, tapio...       1941.0     17.86   \n",
       "3  Organic hazelnuts, organic cashews, organic wa...       2540.0     57.14   \n",
       "4                                    Organic polenta       1552.0      1.43   \n",
       "5  Rolled oats, grape concentrate, expeller press...       1933.0     18.27   \n",
       "6                      Organic long grain white rice       1490.0      0.00   \n",
       "\n",
       "   saturated-fat_100g  carbohydrates_100g  sugars_100g  salt_100g  sodium_100g  \n",
       "2                0.00               60.71        17.86    0.63500        0.250  \n",
       "3                5.36               17.86         3.57    1.22428        0.482  \n",
       "4                0.00               77.14         0.00    0.00000        0.000  \n",
       "5                1.92               63.46        11.54    0.00000        0.000  \n",
       "6                0.00               80.00         0.00    0.00000        0.000  "
      ]
     },
     "execution_count": 46,
     "metadata": {},
     "output_type": "execute_result"
    }
   ],
   "source": [
    "df_us_ext.head()"
   ]
  },
  {
   "cell_type": "code",
   "execution_count": 47,
   "metadata": {},
   "outputs": [
    {
     "data": {
      "text/plain": [
       "(170239, 12)"
      ]
     },
     "execution_count": 47,
     "metadata": {},
     "output_type": "execute_result"
    }
   ],
   "source": [
    "df_us_ext.shape"
   ]
  },
  {
   "cell_type": "code",
   "execution_count": 48,
   "metadata": {
    "collapsed": true
   },
   "outputs": [],
   "source": [
    "# Using regex remove () and g, ml\n",
    "#df_us_rm_column_filtered['grams'] = df_us_rm_column_filtered.serving_size.str.replace(r' \\(.*\\)', '')\n",
    "#df_us_rm_column_filtered['grams'] = df_us_rm_column_filtered['grams'].str.extract(\"([0-9]*\\.?[0-9]+)\",expand=False)"
   ]
  },
  {
   "cell_type": "code",
   "execution_count": 49,
   "metadata": {
    "collapsed": true
   },
   "outputs": [],
   "source": [
    "# remove space\n",
    "df_us_ext['product_name'] = df_us_ext['product_name'].str.strip()\n",
    "df_us_ext['brands'] = df_us_ext['brands'].str.strip()"
   ]
  },
  {
   "cell_type": "code",
   "execution_count": 50,
   "metadata": {},
   "outputs": [],
   "source": [
    "# df_rm_dup.product_name.str.contains(r\"\\b(?:organic|Organic)\\b\", case=False)\n",
    "df_us_ext['organic'] = \\\n",
    "    np.where(df_us_ext.product_name.str.contains(r\"\\b(?:organic|Organic)\\b\", case=False),1,0)"
   ]
  },
  {
   "cell_type": "code",
   "execution_count": 134,
   "metadata": {},
   "outputs": [
    {
     "data": {
      "text/html": [
       "<div>\n",
       "<style>\n",
       "    .dataframe thead tr:only-child th {\n",
       "        text-align: right;\n",
       "    }\n",
       "\n",
       "    .dataframe thead th {\n",
       "        text-align: left;\n",
       "    }\n",
       "\n",
       "    .dataframe tbody tr th {\n",
       "        vertical-align: top;\n",
       "    }\n",
       "</style>\n",
       "<table border=\"1\" class=\"dataframe\">\n",
       "  <thead>\n",
       "    <tr style=\"text-align: right;\">\n",
       "      <th></th>\n",
       "      <th>code</th>\n",
       "      <th>created_datetime</th>\n",
       "      <th>product_name</th>\n",
       "      <th>brands</th>\n",
       "      <th>ingredients_text</th>\n",
       "      <th>energy_100g</th>\n",
       "      <th>fat_100g</th>\n",
       "      <th>saturated-fat_100g</th>\n",
       "      <th>carbohydrates_100g</th>\n",
       "      <th>sugars_100g</th>\n",
       "      <th>salt_100g</th>\n",
       "      <th>sodium_100g</th>\n",
       "      <th>organic</th>\n",
       "    </tr>\n",
       "  </thead>\n",
       "  <tbody>\n",
       "    <tr>\n",
       "      <th>2</th>\n",
       "      <td>4559</td>\n",
       "      <td>03/09/2017</td>\n",
       "      <td>Peanuts</td>\n",
       "      <td>Torn &amp; Glasser</td>\n",
       "      <td>Peanuts, wheat flour, sugar, rice flour, tapio...</td>\n",
       "      <td>1941.0</td>\n",
       "      <td>17.86</td>\n",
       "      <td>0.00</td>\n",
       "      <td>60.71</td>\n",
       "      <td>17.86</td>\n",
       "      <td>0.63500</td>\n",
       "      <td>0.250</td>\n",
       "      <td>None-Organic</td>\n",
       "    </tr>\n",
       "    <tr>\n",
       "      <th>3</th>\n",
       "      <td>16087</td>\n",
       "      <td>03/09/2017</td>\n",
       "      <td>Organic Salted Nut Mix</td>\n",
       "      <td>Grizzlies</td>\n",
       "      <td>Organic hazelnuts, organic cashews, organic wa...</td>\n",
       "      <td>2540.0</td>\n",
       "      <td>57.14</td>\n",
       "      <td>5.36</td>\n",
       "      <td>17.86</td>\n",
       "      <td>3.57</td>\n",
       "      <td>1.22428</td>\n",
       "      <td>0.482</td>\n",
       "      <td>Organic</td>\n",
       "    </tr>\n",
       "    <tr>\n",
       "      <th>4</th>\n",
       "      <td>16094</td>\n",
       "      <td>03/09/2017</td>\n",
       "      <td>Organic Polenta</td>\n",
       "      <td>Bob's Red Mill</td>\n",
       "      <td>Organic polenta</td>\n",
       "      <td>1552.0</td>\n",
       "      <td>1.43</td>\n",
       "      <td>0.00</td>\n",
       "      <td>77.14</td>\n",
       "      <td>0.00</td>\n",
       "      <td>0.00000</td>\n",
       "      <td>0.000</td>\n",
       "      <td>Organic</td>\n",
       "    </tr>\n",
       "    <tr>\n",
       "      <th>5</th>\n",
       "      <td>16100</td>\n",
       "      <td>03/09/2017</td>\n",
       "      <td>Breadshop Honey Gone Nuts Granola</td>\n",
       "      <td>Unfi</td>\n",
       "      <td>Rolled oats, grape concentrate, expeller press...</td>\n",
       "      <td>1933.0</td>\n",
       "      <td>18.27</td>\n",
       "      <td>1.92</td>\n",
       "      <td>63.46</td>\n",
       "      <td>11.54</td>\n",
       "      <td>0.00000</td>\n",
       "      <td>0.000</td>\n",
       "      <td>None-Organic</td>\n",
       "    </tr>\n",
       "    <tr>\n",
       "      <th>6</th>\n",
       "      <td>16117</td>\n",
       "      <td>03/09/2017</td>\n",
       "      <td>Organic Long Grain White Rice</td>\n",
       "      <td>Lundberg</td>\n",
       "      <td>Organic long grain white rice</td>\n",
       "      <td>1490.0</td>\n",
       "      <td>0.00</td>\n",
       "      <td>0.00</td>\n",
       "      <td>80.00</td>\n",
       "      <td>0.00</td>\n",
       "      <td>0.00000</td>\n",
       "      <td>0.000</td>\n",
       "      <td>Organic</td>\n",
       "    </tr>\n",
       "  </tbody>\n",
       "</table>\n",
       "</div>"
      ],
      "text/plain": [
       "    code created_datetime                       product_name          brands  \\\n",
       "2   4559       03/09/2017                            Peanuts  Torn & Glasser   \n",
       "3  16087       03/09/2017             Organic Salted Nut Mix       Grizzlies   \n",
       "4  16094       03/09/2017                    Organic Polenta  Bob's Red Mill   \n",
       "5  16100       03/09/2017  Breadshop Honey Gone Nuts Granola            Unfi   \n",
       "6  16117       03/09/2017      Organic Long Grain White Rice        Lundberg   \n",
       "\n",
       "                                    ingredients_text  energy_100g  fat_100g  \\\n",
       "2  Peanuts, wheat flour, sugar, rice flour, tapio...       1941.0     17.86   \n",
       "3  Organic hazelnuts, organic cashews, organic wa...       2540.0     57.14   \n",
       "4                                    Organic polenta       1552.0      1.43   \n",
       "5  Rolled oats, grape concentrate, expeller press...       1933.0     18.27   \n",
       "6                      Organic long grain white rice       1490.0      0.00   \n",
       "\n",
       "   saturated-fat_100g  carbohydrates_100g  sugars_100g  salt_100g  \\\n",
       "2                0.00               60.71        17.86    0.63500   \n",
       "3                5.36               17.86         3.57    1.22428   \n",
       "4                0.00               77.14         0.00    0.00000   \n",
       "5                1.92               63.46        11.54    0.00000   \n",
       "6                0.00               80.00         0.00    0.00000   \n",
       "\n",
       "   sodium_100g       organic  \n",
       "2        0.250  None-Organic  \n",
       "3        0.482       Organic  \n",
       "4        0.000       Organic  \n",
       "5        0.000  None-Organic  \n",
       "6        0.000       Organic  "
      ]
     },
     "execution_count": 134,
     "metadata": {},
     "output_type": "execute_result"
    }
   ],
   "source": [
    "df_us_ext.head()"
   ]
  },
  {
   "cell_type": "code",
   "execution_count": 135,
   "metadata": {
    "collapsed": true
   },
   "outputs": [],
   "source": [
    "# extract product name by salt & sugar\n",
    "#df_featured[ df_featured['product_name'].str.contains(r\"(sugar|Sugar)\", case=True)]\n",
    "#df_us_rm_column_filtered['titled_sugar'] = df_us_rm_column_filtered['product_name'].str.contains(r\"(sugar|Sugar)\")\n",
    "#df_us_rm_column_filtered['titled_salt'] = df_us_rm_column_filtered['product_name'].str.contains(r\"(salt|Salt)\")"
   ]
  },
  {
   "cell_type": "code",
   "execution_count": 136,
   "metadata": {},
   "outputs": [
    {
     "data": {
      "text/plain": [
       "(170239, 13)"
      ]
     },
     "execution_count": 136,
     "metadata": {},
     "output_type": "execute_result"
    }
   ],
   "source": [
    "df_us_ext.shape"
   ]
  },
  {
   "cell_type": "code",
   "execution_count": 140,
   "metadata": {},
   "outputs": [
    {
     "name": "stdout",
     "output_type": "stream",
     "text": [
      "<class 'pandas.core.frame.DataFrame'>\n",
      "Int64Index: 170239 entries, 2 to 356026\n",
      "Data columns (total 13 columns):\n",
      "code                  170239 non-null object\n",
      "created_datetime      170239 non-null object\n",
      "product_name          170239 non-null object\n",
      "brands                170239 non-null object\n",
      "ingredients_text      170239 non-null object\n",
      "energy_100g           170239 non-null float64\n",
      "fat_100g              170239 non-null float64\n",
      "saturated-fat_100g    170239 non-null float64\n",
      "carbohydrates_100g    170239 non-null float64\n",
      "sugars_100g           170239 non-null float64\n",
      "salt_100g             170239 non-null float64\n",
      "sodium_100g           170239 non-null float64\n",
      "organic               170239 non-null object\n",
      "dtypes: float64(7), object(6)\n",
      "memory usage: 18.2+ MB\n"
     ]
    }
   ],
   "source": [
    "df_us_ext.info()"
   ]
  },
  {
   "cell_type": "code",
   "execution_count": 137,
   "metadata": {
    "collapsed": true
   },
   "outputs": [],
   "source": [
    "#df_us_rm_column_filtered[\\\n",
    "#    (df_us_rm_column_filtered['sugars_100g'] > 80) & (df_us_rm_column_filtered['product_name'].str.contains(r\"(sugar|Sugar)\"))]\n",
    "#df_us_rm_column_filtered[\\\n",
    "#    (df_us_rm_column_filtered['sugars_100g'] < 80) & (df_us_rm_column_filtered['product_name'].str.contains(r\"(?!sugar|Sugar)\"))]"
   ]
  },
  {
   "cell_type": "code",
   "execution_count": 139,
   "metadata": {
    "collapsed": true
   },
   "outputs": [],
   "source": [
    "# save the dataframe go tsv file\n",
    "df_us_ext.to_csv('data/food-facts/data.featureEngineering.tsv', sep='\\t',  encoding='utf-8', index=False)"
   ]
  },
  {
   "cell_type": "code",
   "execution_count": null,
   "metadata": {
    "collapsed": true
   },
   "outputs": [],
   "source": []
  }
 ],
 "metadata": {
  "kernelspec": {
   "display_name": "Python 3",
   "language": "python",
   "name": "python3"
  },
  "language_info": {
   "codemirror_mode": {
    "name": "ipython",
    "version": 3
   },
   "file_extension": ".py",
   "mimetype": "text/x-python",
   "name": "python",
   "nbconvert_exporter": "python",
   "pygments_lexer": "ipython3",
   "version": "3.6.3"
  }
 },
 "nbformat": 4,
 "nbformat_minor": 2
}
