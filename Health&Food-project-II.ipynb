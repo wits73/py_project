{
 "cells": [
  {
   "cell_type": "code",
   "execution_count": 1,
   "metadata": {},
   "outputs": [],
   "source": [
    "import numpy as np\n",
    "import pandas as pd\n",
    "#import seaborn as sns\n",
    "#import matplotlib.pyplot as plt\n",
    "#%matplotlib inline"
   ]
  },
  {
   "cell_type": "code",
   "execution_count": 2,
   "metadata": {},
   "outputs": [],
   "source": [
    "df_base = pd.read_csv('data/food-facts/data.featureEngineering.tsv', sep='\\t', dtype={'code':str})"
   ]
  },
  {
   "cell_type": "code",
   "execution_count": 3,
   "metadata": {},
   "outputs": [
    {
     "data": {
      "text/plain": [
       "(170233, 9)"
      ]
     },
     "execution_count": 3,
     "metadata": {},
     "output_type": "execute_result"
    }
   ],
   "source": [
    "df_base.shape"
   ]
  },
  {
   "cell_type": "code",
   "execution_count": 4,
   "metadata": {},
   "outputs": [
    {
     "data": {
      "text/html": [
       "<div>\n",
       "<style scoped>\n",
       "    .dataframe tbody tr th:only-of-type {\n",
       "        vertical-align: middle;\n",
       "    }\n",
       "\n",
       "    .dataframe tbody tr th {\n",
       "        vertical-align: top;\n",
       "    }\n",
       "\n",
       "    .dataframe thead th {\n",
       "        text-align: right;\n",
       "    }\n",
       "</style>\n",
       "<table border=\"1\" class=\"dataframe\">\n",
       "  <thead>\n",
       "    <tr style=\"text-align: right;\">\n",
       "      <th></th>\n",
       "      <th>code</th>\n",
       "      <th>created_datetime</th>\n",
       "      <th>product_name</th>\n",
       "      <th>brands</th>\n",
       "      <th>ingredients_text</th>\n",
       "      <th>sugars_100g</th>\n",
       "      <th>salt_100g</th>\n",
       "      <th>sodium_100g</th>\n",
       "      <th>organic</th>\n",
       "    </tr>\n",
       "  </thead>\n",
       "  <tbody>\n",
       "    <tr>\n",
       "      <th>0</th>\n",
       "      <td>4559</td>\n",
       "      <td>03/09/2017</td>\n",
       "      <td>Peanuts</td>\n",
       "      <td>Torn &amp; Glasser</td>\n",
       "      <td>Peanuts, wheat flour, sugar, rice flour, tapio...</td>\n",
       "      <td>17.86</td>\n",
       "      <td>0.63500</td>\n",
       "      <td>0.250</td>\n",
       "      <td>0</td>\n",
       "    </tr>\n",
       "    <tr>\n",
       "      <th>1</th>\n",
       "      <td>16087</td>\n",
       "      <td>03/09/2017</td>\n",
       "      <td>Organic Salted Nut Mix</td>\n",
       "      <td>Grizzlies</td>\n",
       "      <td>Organic hazelnuts, organic cashews, organic wa...</td>\n",
       "      <td>3.57</td>\n",
       "      <td>1.22428</td>\n",
       "      <td>0.482</td>\n",
       "      <td>1</td>\n",
       "    </tr>\n",
       "    <tr>\n",
       "      <th>2</th>\n",
       "      <td>16094</td>\n",
       "      <td>03/09/2017</td>\n",
       "      <td>Organic Polenta</td>\n",
       "      <td>Bob's Red Mill</td>\n",
       "      <td>Organic polenta</td>\n",
       "      <td>0.00</td>\n",
       "      <td>0.00000</td>\n",
       "      <td>0.000</td>\n",
       "      <td>1</td>\n",
       "    </tr>\n",
       "    <tr>\n",
       "      <th>3</th>\n",
       "      <td>16100</td>\n",
       "      <td>03/09/2017</td>\n",
       "      <td>Breadshop Honey Gone Nuts Granola</td>\n",
       "      <td>Unfi</td>\n",
       "      <td>Rolled oats, grape concentrate, expeller press...</td>\n",
       "      <td>11.54</td>\n",
       "      <td>0.00000</td>\n",
       "      <td>0.000</td>\n",
       "      <td>0</td>\n",
       "    </tr>\n",
       "    <tr>\n",
       "      <th>4</th>\n",
       "      <td>16117</td>\n",
       "      <td>03/09/2017</td>\n",
       "      <td>Organic Long Grain White Rice</td>\n",
       "      <td>Lundberg</td>\n",
       "      <td>Organic long grain white rice</td>\n",
       "      <td>0.00</td>\n",
       "      <td>0.00000</td>\n",
       "      <td>0.000</td>\n",
       "      <td>1</td>\n",
       "    </tr>\n",
       "  </tbody>\n",
       "</table>\n",
       "</div>"
      ],
      "text/plain": [
       "    code created_datetime                       product_name          brands  \\\n",
       "0   4559       03/09/2017                            Peanuts  Torn & Glasser   \n",
       "1  16087       03/09/2017             Organic Salted Nut Mix       Grizzlies   \n",
       "2  16094       03/09/2017                    Organic Polenta  Bob's Red Mill   \n",
       "3  16100       03/09/2017  Breadshop Honey Gone Nuts Granola            Unfi   \n",
       "4  16117       03/09/2017      Organic Long Grain White Rice        Lundberg   \n",
       "\n",
       "                                    ingredients_text  sugars_100g  salt_100g  \\\n",
       "0  Peanuts, wheat flour, sugar, rice flour, tapio...        17.86    0.63500   \n",
       "1  Organic hazelnuts, organic cashews, organic wa...         3.57    1.22428   \n",
       "2                                    Organic polenta         0.00    0.00000   \n",
       "3  Rolled oats, grape concentrate, expeller press...        11.54    0.00000   \n",
       "4                      Organic long grain white rice         0.00    0.00000   \n",
       "\n",
       "   sodium_100g  organic  \n",
       "0        0.250        0  \n",
       "1        0.482        1  \n",
       "2        0.000        1  \n",
       "3        0.000        0  \n",
       "4        0.000        1  "
      ]
     },
     "execution_count": 4,
     "metadata": {},
     "output_type": "execute_result"
    }
   ],
   "source": [
    "df_base.head()"
   ]
  },
  {
   "cell_type": "code",
   "execution_count": 5,
   "metadata": {},
   "outputs": [],
   "source": [
    "grp_organic = df_base.groupby('organic')"
   ]
  },
  {
   "cell_type": "code",
   "execution_count": 6,
   "metadata": {},
   "outputs": [],
   "source": [
    "df_grp_organic = pd.DataFrame({'organic_count' : grp_organic.size()})"
   ]
  },
  {
   "cell_type": "code",
   "execution_count": 36,
   "metadata": {},
   "outputs": [],
   "source": [
    "#df_grp_organic.index = ['Non-organic','organic']"
   ]
  },
  {
   "cell_type": "code",
   "execution_count": 7,
   "metadata": {},
   "outputs": [],
   "source": [
    "df_grp_organic['organic_portion'] = df_grp_organic['organic_count'] / df_base.shape[0]"
   ]
  },
  {
   "cell_type": "code",
   "execution_count": 8,
   "metadata": {},
   "outputs": [],
   "source": [
    "df_grp_organic['total_sugar'] = df_base.pivot_table('sugars_100g', columns='organic', aggfunc=sum).T"
   ]
  },
  {
   "cell_type": "code",
   "execution_count": 9,
   "metadata": {},
   "outputs": [],
   "source": [
    "df_grp_organic['total_sugar_portion'] = df_grp_organic['total_sugar'] / df_grp_organic['total_sugar'].sum()"
   ]
  },
  {
   "cell_type": "code",
   "execution_count": 10,
   "metadata": {},
   "outputs": [],
   "source": [
    "df_grp_organic['total_salt'] = df_base.pivot_table('salt_100g', columns='organic', aggfunc=sum).T"
   ]
  },
  {
   "cell_type": "code",
   "execution_count": 11,
   "metadata": {},
   "outputs": [],
   "source": [
    "df_grp_organic['total_salt_portion'] = df_grp_organic['total_salt'] / df_grp_organic['total_salt'].sum()"
   ]
  },
  {
   "cell_type": "code",
   "execution_count": 12,
   "metadata": {},
   "outputs": [],
   "source": [
    "df_grp_organic.index = ['Non-organic','organic']"
   ]
  },
  {
   "cell_type": "code",
   "execution_count": 13,
   "metadata": {},
   "outputs": [
    {
     "data": {
      "text/html": [
       "<div>\n",
       "<style scoped>\n",
       "    .dataframe tbody tr th:only-of-type {\n",
       "        vertical-align: middle;\n",
       "    }\n",
       "\n",
       "    .dataframe tbody tr th {\n",
       "        vertical-align: top;\n",
       "    }\n",
       "\n",
       "    .dataframe thead th {\n",
       "        text-align: right;\n",
       "    }\n",
       "</style>\n",
       "<table border=\"1\" class=\"dataframe\">\n",
       "  <thead>\n",
       "    <tr style=\"text-align: right;\">\n",
       "      <th></th>\n",
       "      <th>organic_count</th>\n",
       "      <th>organic_portion</th>\n",
       "      <th>total_sugar</th>\n",
       "      <th>total_sugar_portion</th>\n",
       "      <th>total_salt</th>\n",
       "      <th>total_salt_portion</th>\n",
       "    </tr>\n",
       "  </thead>\n",
       "  <tbody>\n",
       "    <tr>\n",
       "      <th>Non-organic</th>\n",
       "      <td>161234</td>\n",
       "      <td>0.947137</td>\n",
       "      <td>2574143.986</td>\n",
       "      <td>0.959145</td>\n",
       "      <td>362371.076512</td>\n",
       "      <td>0.98335</td>\n",
       "    </tr>\n",
       "    <tr>\n",
       "      <th>organic</th>\n",
       "      <td>8999</td>\n",
       "      <td>0.052863</td>\n",
       "      <td>109646.387</td>\n",
       "      <td>0.040855</td>\n",
       "      <td>6135.461875</td>\n",
       "      <td>0.01665</td>\n",
       "    </tr>\n",
       "  </tbody>\n",
       "</table>\n",
       "</div>"
      ],
      "text/plain": [
       "             organic_count  organic_portion  total_sugar  total_sugar_portion  \\\n",
       "Non-organic         161234         0.947137  2574143.986             0.959145   \n",
       "organic               8999         0.052863   109646.387             0.040855   \n",
       "\n",
       "                total_salt  total_salt_portion  \n",
       "Non-organic  362371.076512             0.98335  \n",
       "organic        6135.461875             0.01665  "
      ]
     },
     "execution_count": 13,
     "metadata": {},
     "output_type": "execute_result"
    }
   ],
   "source": [
    "df_grp_organic"
   ]
  },
  {
   "cell_type": "code",
   "execution_count": 209,
   "metadata": {},
   "outputs": [
    {
     "data": {
      "image/png": "[encoded data removed]",
      "text/plain": [
       "<matplotlib.figure.Figure at 0x221793ff978>"
      ]
     },
     "metadata": {},
     "output_type": "display_data"
    }
   ],
   "source": [
    "import matplotlib.pyplot as plt\n",
    "%matplotlib inline\n",
    "#xpos = np.arange(len(df_grp_organic.index))\n",
    "#plt.bar(df_grp_organic.index, df_grp_organic.organic_count, label=\"Product Count\")\n",
    "plt.title(\"Total Count\", bbox={'facecolor':'2', 'pad':5})\n",
    "plt.axis(\"equal\")\n",
    "\n",
    "plt.pie(df_grp_organic.organic_count, labels=df_grp_organic.index, shadow=True, autopct='%1.2f%%',radius=1.5,explode=[0,0.1])\n",
    "plt.show()"
   ]
  },
  {
   "cell_type": "code",
   "execution_count": 47,
   "metadata": {},
   "outputs": [
    {
     "data": {
      "image/png": "[encoded data removed]",
      "text/plain": [
       "<matplotlib.figure.Figure at 0x22178a06c88>"
      ]
     },
     "metadata": {},
     "output_type": "display_data"
    }
   ],
   "source": [
    "fig = plt.figure()\n",
    "\n",
    "ax_sugar = fig.add_axes([0,0,1,1], aspect=1)\n",
    "ax_sugar.pie(df_grp_organic.total_sugar_portion, labels=df_grp_organic.index, \\\n",
    "                   shadow=True, autopct='%1.2f%%',radius=1,explode=[0,0.1])\n",
    "ax_sugar.set_title('Percentage Sugar')\n",
    "\n",
    "\n",
    "ax_salt = fig.add_axes([1,0,1,1], aspect=1)\n",
    "ax_salt.pie(df_grp_organic.total_salt_portion, labels=df_grp_organic.index, \\\n",
    "                   shadow=True, autopct='%1.2f%%',radius=1,explode=[0,0.1])\n",
    "ax_salt.set_title('Percentage Salt')\n",
    "plt.show()"
   ]
  },
  {
   "cell_type": "code",
   "execution_count": 48,
   "metadata": {},
   "outputs": [
    {
     "data": {
      "text/plain": [
       "(23977,)"
      ]
     },
     "execution_count": 48,
     "metadata": {},
     "output_type": "execute_result"
    }
   ],
   "source": [
    "df_base['brands'].value_counts().shape"
   ]
  },
  {
   "cell_type": "code",
   "execution_count": 155,
   "metadata": {},
   "outputs": [
    {
     "data": {
      "text/html": [
       "<div>\n",
       "<style scoped>\n",
       "    .dataframe tbody tr th:only-of-type {\n",
       "        vertical-align: middle;\n",
       "    }\n",
       "\n",
       "    .dataframe tbody tr th {\n",
       "        vertical-align: top;\n",
       "    }\n",
       "\n",
       "    .dataframe thead th {\n",
       "        text-align: right;\n",
       "    }\n",
       "</style>\n",
       "<table border=\"1\" class=\"dataframe\">\n",
       "  <thead>\n",
       "    <tr style=\"text-align: right;\">\n",
       "      <th></th>\n",
       "      <th>code</th>\n",
       "      <th>created_datetime</th>\n",
       "      <th>product_name</th>\n",
       "      <th>brands</th>\n",
       "      <th>ingredients_text</th>\n",
       "      <th>sugars_100g</th>\n",
       "      <th>salt_100g</th>\n",
       "      <th>sodium_100g</th>\n",
       "      <th>organic</th>\n",
       "    </tr>\n",
       "  </thead>\n",
       "  <tbody>\n",
       "    <tr>\n",
       "      <th>0</th>\n",
       "      <td>4559</td>\n",
       "      <td>03/09/2017</td>\n",
       "      <td>Peanuts</td>\n",
       "      <td>Torn &amp; Glasser</td>\n",
       "      <td>Peanuts, wheat flour, sugar, rice flour, tapio...</td>\n",
       "      <td>17.86</td>\n",
       "      <td>0.63500</td>\n",
       "      <td>0.250</td>\n",
       "      <td>0</td>\n",
       "    </tr>\n",
       "    <tr>\n",
       "      <th>1</th>\n",
       "      <td>16087</td>\n",
       "      <td>03/09/2017</td>\n",
       "      <td>Organic Salted Nut Mix</td>\n",
       "      <td>Grizzlies</td>\n",
       "      <td>Organic hazelnuts, organic cashews, organic wa...</td>\n",
       "      <td>3.57</td>\n",
       "      <td>1.22428</td>\n",
       "      <td>0.482</td>\n",
       "      <td>1</td>\n",
       "    </tr>\n",
       "    <tr>\n",
       "      <th>2</th>\n",
       "      <td>16094</td>\n",
       "      <td>03/09/2017</td>\n",
       "      <td>Organic Polenta</td>\n",
       "      <td>Bob's Red Mill</td>\n",
       "      <td>Organic polenta</td>\n",
       "      <td>0.00</td>\n",
       "      <td>0.00000</td>\n",
       "      <td>0.000</td>\n",
       "      <td>1</td>\n",
       "    </tr>\n",
       "    <tr>\n",
       "      <th>3</th>\n",
       "      <td>16100</td>\n",
       "      <td>03/09/2017</td>\n",
       "      <td>Breadshop Honey Gone Nuts Granola</td>\n",
       "      <td>Unfi</td>\n",
       "      <td>Rolled oats, grape concentrate, expeller press...</td>\n",
       "      <td>11.54</td>\n",
       "      <td>0.00000</td>\n",
       "      <td>0.000</td>\n",
       "      <td>0</td>\n",
       "    </tr>\n",
       "    <tr>\n",
       "      <th>4</th>\n",
       "      <td>16117</td>\n",
       "      <td>03/09/2017</td>\n",
       "      <td>Organic Long Grain White Rice</td>\n",
       "      <td>Lundberg</td>\n",
       "      <td>Organic long grain white rice</td>\n",
       "      <td>0.00</td>\n",
       "      <td>0.00000</td>\n",
       "      <td>0.000</td>\n",
       "      <td>1</td>\n",
       "    </tr>\n",
       "  </tbody>\n",
       "</table>\n",
       "</div>"
      ],
      "text/plain": [
       "    code created_datetime                       product_name          brands  \\\n",
       "0   4559       03/09/2017                            Peanuts  Torn & Glasser   \n",
       "1  16087       03/09/2017             Organic Salted Nut Mix       Grizzlies   \n",
       "2  16094       03/09/2017                    Organic Polenta  Bob's Red Mill   \n",
       "3  16100       03/09/2017  Breadshop Honey Gone Nuts Granola            Unfi   \n",
       "4  16117       03/09/2017      Organic Long Grain White Rice        Lundberg   \n",
       "\n",
       "                                    ingredients_text  sugars_100g  salt_100g  \\\n",
       "0  Peanuts, wheat flour, sugar, rice flour, tapio...        17.86    0.63500   \n",
       "1  Organic hazelnuts, organic cashews, organic wa...         3.57    1.22428   \n",
       "2                                    Organic polenta         0.00    0.00000   \n",
       "3  Rolled oats, grape concentrate, expeller press...        11.54    0.00000   \n",
       "4                      Organic long grain white rice         0.00    0.00000   \n",
       "\n",
       "   sodium_100g  organic  \n",
       "0        0.250        0  \n",
       "1        0.482        1  \n",
       "2        0.000        1  \n",
       "3        0.000        0  \n",
       "4        0.000        1  "
      ]
     },
     "execution_count": 155,
     "metadata": {},
     "output_type": "execute_result"
    }
   ],
   "source": [
    "df_base.head()"
   ]
  },
  {
   "cell_type": "code",
   "execution_count": 166,
   "metadata": {},
   "outputs": [
    {
     "data": {
      "text/plain": [
       "(170233, 9)"
      ]
     },
     "execution_count": 166,
     "metadata": {},
     "output_type": "execute_result"
    }
   ],
   "source": [
    "df_base.shape"
   ]
  },
  {
   "cell_type": "code",
   "execution_count": 169,
   "metadata": {},
   "outputs": [],
   "source": [
    "mask_brand = df_base['brands'].value_counts()[0:100].index"
   ]
  },
  {
   "cell_type": "code",
   "execution_count": 170,
   "metadata": {},
   "outputs": [
    {
     "data": {
      "text/plain": [
       "Index(['Meijer', 'Kroger', 'Great Value', 'Ahold', 'Spartan', 'Roundy's',\n",
       "       'Weis', 'Food Lion', 'Shoprite', 'Harris Teeter', 'Giant Eagle',\n",
       "       'Hy Vee', 'Food Club', 'Hannaford', 'Target Stores',\n",
       "       'Whole Foods Market', '365 Everyday Value', 'Wegmans',\n",
       "       'Essential Everyday', 'Market Pantry', 'Goya', 'Schnucks',\n",
       "       'Weis Quality', 'Giant', 'Trader Joe's', 'Tops', 'Fresh & Easy',\n",
       "       'Big Y', 'Winn Dixie', 'Clover Valley', 'Brookshire's', 'Key Food',\n",
       "       'Wal Mart Stores', 'Mccormick', 'Raley's', 'Nice', 'Western Family',\n",
       "       'Valu Time', 'Hormel', 'Signature Kitchens', 'Southern Home',\n",
       "       'Gold Emblem', 'Lowes Foods', 'Shurfine', 'Wilton', 'Private Selection',\n",
       "       'Dannon', 'Wild Harvest', 'Archer Farms', 'Safeway', 'Simply Balanced',\n",
       "       'Winco Foods', 'H E B', 'Galerie', 'Family Gourmet', 'Full Circle',\n",
       "       'Welch's', 'Del Monte', 'Bob's Red Mill', 'Daily Chef',\n",
       "       'Russell Stover', 'The Hain Celestial Group', 'Blue Bunny', 'Amy's',\n",
       "       'Dole', 'Weis Markets', 'The Bakery', 'The Fresh Market', 'Publix',\n",
       "       'Laura Lynn', 'Our Family', 'Utz', 'Signature', 'Ocean Spray',\n",
       "       'Tillamook', 'Kings', 'The Kroger', 'Snyder's Of Hanover', 'Ht Traders',\n",
       "       'Ferrara Candypany', 'Iga', 'Roland', 'The Moran Grouprporated',\n",
       "       'Food Town Stores', 'O Organics', 'Supervalu', 'Lipton', 'Jell O',\n",
       "       'Springfield', 'Pacific', 'Kettle', 'Price Chopper', 'Wellsley Farms',\n",
       "       'Jennie O', 'Simple Truth Organic', 'Lance', 'Aldi Bennerpany',\n",
       "       'Delallo', 'Taste Of Inspirations', 'Smart Sense'],\n",
       "      dtype='object')"
      ]
     },
     "execution_count": 170,
     "metadata": {},
     "output_type": "execute_result"
    }
   ],
   "source": [
    "mask_brand"
   ]
  },
  {
   "cell_type": "code",
   "execution_count": 171,
   "metadata": {},
   "outputs": [],
   "source": [
    "df_100brands = df_base[(df_base['brands'].isin(mask_brand))]"
   ]
  },
  {
   "cell_type": "code",
   "execution_count": 172,
   "metadata": {},
   "outputs": [
    {
     "data": {
      "text/plain": [
       "(48719, 9)"
      ]
     },
     "execution_count": 172,
     "metadata": {},
     "output_type": "execute_result"
    }
   ],
   "source": [
    "df_100brands.shape"
   ]
  },
  {
   "cell_type": "code",
   "execution_count": 215,
   "metadata": {},
   "outputs": [
    {
     "data": {
      "text/html": [
       "<div>\n",
       "<style scoped>\n",
       "    .dataframe tbody tr th:only-of-type {\n",
       "        vertical-align: middle;\n",
       "    }\n",
       "\n",
       "    .dataframe tbody tr th {\n",
       "        vertical-align: top;\n",
       "    }\n",
       "\n",
       "    .dataframe thead th {\n",
       "        text-align: right;\n",
       "    }\n",
       "</style>\n",
       "<table border=\"1\" class=\"dataframe\">\n",
       "  <thead>\n",
       "    <tr style=\"text-align: right;\">\n",
       "      <th></th>\n",
       "      <th>code</th>\n",
       "      <th>created_datetime</th>\n",
       "      <th>product_name</th>\n",
       "      <th>brands</th>\n",
       "      <th>ingredients_text</th>\n",
       "      <th>sugars_100g</th>\n",
       "      <th>salt_100g</th>\n",
       "      <th>sodium_100g</th>\n",
       "      <th>organic</th>\n",
       "    </tr>\n",
       "  </thead>\n",
       "  <tbody>\n",
       "    <tr>\n",
       "      <th>2</th>\n",
       "      <td>16094</td>\n",
       "      <td>03/09/2017</td>\n",
       "      <td>Organic Polenta</td>\n",
       "      <td>Bob's Red Mill</td>\n",
       "      <td>Organic polenta</td>\n",
       "      <td>0.00</td>\n",
       "      <td>0.00000</td>\n",
       "      <td>0.000</td>\n",
       "      <td>1</td>\n",
       "    </tr>\n",
       "    <tr>\n",
       "      <th>63</th>\n",
       "      <td>33060</td>\n",
       "      <td>03/09/2017</td>\n",
       "      <td>10-Grain Pancake Mix</td>\n",
       "      <td>Bob's Red Mill</td>\n",
       "      <td>Wheat, rye, triticale, oat, corn, barley, soy ...</td>\n",
       "      <td>5.17</td>\n",
       "      <td>2.75844</td>\n",
       "      <td>1.086</td>\n",
       "      <td>0</td>\n",
       "    </tr>\n",
       "    <tr>\n",
       "      <th>76</th>\n",
       "      <td>34425</td>\n",
       "      <td>03/09/2017</td>\n",
       "      <td>Foods, Spanish Peanuts</td>\n",
       "      <td>Kettle</td>\n",
       "      <td>Spanish peanuts, expeller pressed high monouns...</td>\n",
       "      <td>3.57</td>\n",
       "      <td>1.13284</td>\n",
       "      <td>0.446</td>\n",
       "      <td>0</td>\n",
       "    </tr>\n",
       "    <tr>\n",
       "      <th>77</th>\n",
       "      <td>34432</td>\n",
       "      <td>03/09/2017</td>\n",
       "      <td>Foods, Honey Roasted Nut Mix</td>\n",
       "      <td>Kettle</td>\n",
       "      <td>Peanuts, almonds, cashews, pecans, sucrose, ho...</td>\n",
       "      <td>3.57</td>\n",
       "      <td>1.08966</td>\n",
       "      <td>0.429</td>\n",
       "      <td>0</td>\n",
       "    </tr>\n",
       "    <tr>\n",
       "      <th>79</th>\n",
       "      <td>34456</td>\n",
       "      <td>03/09/2017</td>\n",
       "      <td>Foods, Deluxe Nut Mix</td>\n",
       "      <td>Kettle</td>\n",
       "      <td>Cashews, almonds, hazelnuts, pecans, brazil nu...</td>\n",
       "      <td>3.57</td>\n",
       "      <td>0.58928</td>\n",
       "      <td>0.232</td>\n",
       "      <td>0</td>\n",
       "    </tr>\n",
       "  </tbody>\n",
       "</table>\n",
       "</div>"
      ],
      "text/plain": [
       "     code created_datetime                  product_name          brands  \\\n",
       "2   16094       03/09/2017               Organic Polenta  Bob's Red Mill   \n",
       "63  33060       03/09/2017          10-Grain Pancake Mix  Bob's Red Mill   \n",
       "76  34425       03/09/2017        Foods, Spanish Peanuts          Kettle   \n",
       "77  34432       03/09/2017  Foods, Honey Roasted Nut Mix          Kettle   \n",
       "79  34456       03/09/2017         Foods, Deluxe Nut Mix          Kettle   \n",
       "\n",
       "                                     ingredients_text  sugars_100g  salt_100g  \\\n",
       "2                                     Organic polenta         0.00    0.00000   \n",
       "63  Wheat, rye, triticale, oat, corn, barley, soy ...         5.17    2.75844   \n",
       "76  Spanish peanuts, expeller pressed high monouns...         3.57    1.13284   \n",
       "77  Peanuts, almonds, cashews, pecans, sucrose, ho...         3.57    1.08966   \n",
       "79  Cashews, almonds, hazelnuts, pecans, brazil nu...         3.57    0.58928   \n",
       "\n",
       "    sodium_100g  organic  \n",
       "2         0.000        1  \n",
       "63        1.086        0  \n",
       "76        0.446        0  \n",
       "77        0.429        0  \n",
       "79        0.232        0  "
      ]
     },
     "execution_count": 215,
     "metadata": {},
     "output_type": "execute_result"
    }
   ],
   "source": [
    "df_100brands.head()"
   ]
  },
  {
   "cell_type": "code",
   "execution_count": 269,
   "metadata": {},
   "outputs": [],
   "source": [
    "grp_brand_sugar = df_100brands['sugars_100g'].groupby([df_100brands['brands'],df_100brands['organic']]).count()"
   ]
  },
  {
   "cell_type": "code",
   "execution_count": 270,
   "metadata": {},
   "outputs": [
    {
     "data": {
      "text/plain": [
       "brands              organic\n",
       "365 Everyday Value  0           616\n",
       "                    1           297\n",
       "Ahold               0          1285\n",
       "                    1            92\n",
       "Aldi Bennerpany     0           173\n",
       "Name: sugars_100g, dtype: int64"
      ]
     },
     "execution_count": 270,
     "metadata": {},
     "output_type": "execute_result"
    }
   ],
   "source": [
    "grp_brand_sugar.head()"
   ]
  },
  {
   "cell_type": "code",
   "execution_count": 271,
   "metadata": {},
   "outputs": [],
   "source": [
    "df_brand = grp_brand_sugar.unstack()"
   ]
  },
  {
   "cell_type": "code",
   "execution_count": 272,
   "metadata": {},
   "outputs": [],
   "source": [
    "df_brand.columns = ['Non-organic-count','Organic-count']"
   ]
  },
  {
   "cell_type": "code",
   "execution_count": 273,
   "metadata": {},
   "outputs": [
    {
     "data": {
      "text/html": [
       "<div>\n",
       "<style scoped>\n",
       "    .dataframe tbody tr th:only-of-type {\n",
       "        vertical-align: middle;\n",
       "    }\n",
       "\n",
       "    .dataframe tbody tr th {\n",
       "        vertical-align: top;\n",
       "    }\n",
       "\n",
       "    .dataframe thead th {\n",
       "        text-align: right;\n",
       "    }\n",
       "</style>\n",
       "<table border=\"1\" class=\"dataframe\">\n",
       "  <thead>\n",
       "    <tr style=\"text-align: right;\">\n",
       "      <th></th>\n",
       "      <th>Non-organic-count</th>\n",
       "      <th>Organic-count</th>\n",
       "    </tr>\n",
       "    <tr>\n",
       "      <th>brands</th>\n",
       "      <th></th>\n",
       "      <th></th>\n",
       "    </tr>\n",
       "  </thead>\n",
       "  <tbody>\n",
       "    <tr>\n",
       "      <th>365 Everyday Value</th>\n",
       "      <td>616.0</td>\n",
       "      <td>297.0</td>\n",
       "    </tr>\n",
       "    <tr>\n",
       "      <th>Ahold</th>\n",
       "      <td>1285.0</td>\n",
       "      <td>92.0</td>\n",
       "    </tr>\n",
       "    <tr>\n",
       "      <th>Aldi Bennerpany</th>\n",
       "      <td>173.0</td>\n",
       "      <td>9.0</td>\n",
       "    </tr>\n",
       "    <tr>\n",
       "      <th>Amy's</th>\n",
       "      <td>192.0</td>\n",
       "      <td>49.0</td>\n",
       "    </tr>\n",
       "    <tr>\n",
       "      <th>Archer Farms</th>\n",
       "      <td>309.0</td>\n",
       "      <td>3.0</td>\n",
       "    </tr>\n",
       "  </tbody>\n",
       "</table>\n",
       "</div>"
      ],
      "text/plain": [
       "                    Non-organic-count  Organic-count\n",
       "brands                                              \n",
       "365 Everyday Value              616.0          297.0\n",
       "Ahold                          1285.0           92.0\n",
       "Aldi Bennerpany                 173.0            9.0\n",
       "Amy's                           192.0           49.0\n",
       "Archer Farms                    309.0            3.0"
      ]
     },
     "execution_count": 273,
     "metadata": {},
     "output_type": "execute_result"
    }
   ],
   "source": [
    "df_brand.head()"
   ]
  },
  {
   "cell_type": "code",
   "execution_count": 274,
   "metadata": {},
   "outputs": [],
   "source": [
    "# Change type to int\n",
    "df_brand['Non-organic-count'] = df_brand['Non-organic-count'].astype(int)\n",
    "df_brand['Organic-count'] = df_brand['Organic-count'].fillna(0).astype(int)"
   ]
  },
  {
   "cell_type": "code",
   "execution_count": 275,
   "metadata": {},
   "outputs": [
    {
     "data": {
      "text/html": [
       "<div>\n",
       "<style scoped>\n",
       "    .dataframe tbody tr th:only-of-type {\n",
       "        vertical-align: middle;\n",
       "    }\n",
       "\n",
       "    .dataframe tbody tr th {\n",
       "        vertical-align: top;\n",
       "    }\n",
       "\n",
       "    .dataframe thead th {\n",
       "        text-align: right;\n",
       "    }\n",
       "</style>\n",
       "<table border=\"1\" class=\"dataframe\">\n",
       "  <thead>\n",
       "    <tr style=\"text-align: right;\">\n",
       "      <th></th>\n",
       "      <th>Non-organic-count</th>\n",
       "      <th>Organic-count</th>\n",
       "    </tr>\n",
       "    <tr>\n",
       "      <th>brands</th>\n",
       "      <th></th>\n",
       "      <th></th>\n",
       "    </tr>\n",
       "  </thead>\n",
       "  <tbody>\n",
       "    <tr>\n",
       "      <th>365 Everyday Value</th>\n",
       "      <td>616</td>\n",
       "      <td>297</td>\n",
       "    </tr>\n",
       "    <tr>\n",
       "      <th>Wild Harvest</th>\n",
       "      <td>114</td>\n",
       "      <td>198</td>\n",
       "    </tr>\n",
       "    <tr>\n",
       "      <th>O Organics</th>\n",
       "      <td>48</td>\n",
       "      <td>153</td>\n",
       "    </tr>\n",
       "    <tr>\n",
       "      <th>Meijer</th>\n",
       "      <td>2646</td>\n",
       "      <td>151</td>\n",
       "    </tr>\n",
       "    <tr>\n",
       "      <th>Simply Balanced</th>\n",
       "      <td>142</td>\n",
       "      <td>149</td>\n",
       "    </tr>\n",
       "  </tbody>\n",
       "</table>\n",
       "</div>"
      ],
      "text/plain": [
       "                    Non-organic-count  Organic-count\n",
       "brands                                              \n",
       "365 Everyday Value                616            297\n",
       "Wild Harvest                      114            198\n",
       "O Organics                         48            153\n",
       "Meijer                           2646            151\n",
       "Simply Balanced                   142            149"
      ]
     },
     "execution_count": 275,
     "metadata": {},
     "output_type": "execute_result"
    }
   ],
   "source": [
    "# sort by Organic count\n",
    "df_brand.sort_values(\"Organic-count\", inplace=True, ascending=False )\n",
    "df_brand.head()"
   ]
  },
  {
   "cell_type": "code",
   "execution_count": 276,
   "metadata": {},
   "outputs": [
    {
     "data": {
      "text/html": [
       "<div>\n",
       "<style scoped>\n",
       "    .dataframe tbody tr th:only-of-type {\n",
       "        vertical-align: middle;\n",
       "    }\n",
       "\n",
       "    .dataframe tbody tr th {\n",
       "        vertical-align: top;\n",
       "    }\n",
       "\n",
       "    .dataframe thead th {\n",
       "        text-align: right;\n",
       "    }\n",
       "</style>\n",
       "<table border=\"1\" class=\"dataframe\">\n",
       "  <thead>\n",
       "    <tr style=\"text-align: right;\">\n",
       "      <th></th>\n",
       "      <th>Non-organic-count</th>\n",
       "      <th>Organic-count</th>\n",
       "      <th>Non-Org_pcnt</th>\n",
       "      <th>Organic_pcnt</th>\n",
       "    </tr>\n",
       "    <tr>\n",
       "      <th>brands</th>\n",
       "      <th></th>\n",
       "      <th></th>\n",
       "      <th></th>\n",
       "      <th></th>\n",
       "    </tr>\n",
       "  </thead>\n",
       "  <tbody>\n",
       "    <tr>\n",
       "      <th>365 Everyday Value</th>\n",
       "      <td>616</td>\n",
       "      <td>297</td>\n",
       "      <td>0.674699</td>\n",
       "      <td>0.325061</td>\n",
       "    </tr>\n",
       "    <tr>\n",
       "      <th>Wild Harvest</th>\n",
       "      <td>114</td>\n",
       "      <td>198</td>\n",
       "      <td>0.365385</td>\n",
       "      <td>0.633873</td>\n",
       "    </tr>\n",
       "    <tr>\n",
       "      <th>O Organics</th>\n",
       "      <td>48</td>\n",
       "      <td>153</td>\n",
       "      <td>0.238806</td>\n",
       "      <td>0.760291</td>\n",
       "    </tr>\n",
       "    <tr>\n",
       "      <th>Meijer</th>\n",
       "      <td>2646</td>\n",
       "      <td>151</td>\n",
       "      <td>0.946014</td>\n",
       "      <td>0.053968</td>\n",
       "    </tr>\n",
       "    <tr>\n",
       "      <th>Simply Balanced</th>\n",
       "      <td>142</td>\n",
       "      <td>149</td>\n",
       "      <td>0.487973</td>\n",
       "      <td>0.511170</td>\n",
       "    </tr>\n",
       "  </tbody>\n",
       "</table>\n",
       "</div>"
      ],
      "text/plain": [
       "                    Non-organic-count  Organic-count  Non-Org_pcnt  \\\n",
       "brands                                                               \n",
       "365 Everyday Value                616            297      0.674699   \n",
       "Wild Harvest                      114            198      0.365385   \n",
       "O Organics                         48            153      0.238806   \n",
       "Meijer                           2646            151      0.946014   \n",
       "Simply Balanced                   142            149      0.487973   \n",
       "\n",
       "                    Organic_pcnt  \n",
       "brands                            \n",
       "365 Everyday Value      0.325061  \n",
       "Wild Harvest            0.633873  \n",
       "O Organics              0.760291  \n",
       "Meijer                  0.053968  \n",
       "Simply Balanced         0.511170  "
      ]
     },
     "execution_count": 276,
     "metadata": {},
     "output_type": "execute_result"
    }
   ],
   "source": [
    "df_brand['Non-Org_pcnt'] = df_brand['Non-organic-count'] / df_brand.sum(axis=1)\n",
    "df_brand['Organic_pcnt'] = df_brand['Organic-count'] / df_brand.sum(axis=1)\n",
    "df_brand.head()"
   ]
  },
  {
   "cell_type": "code",
   "execution_count": 277,
   "metadata": {},
   "outputs": [
    {
     "name": "stdout",
     "output_type": "stream",
     "text": [
      "(23, 4)\n"
     ]
    },
    {
     "data": {
      "text/html": [
       "<div>\n",
       "<style scoped>\n",
       "    .dataframe tbody tr th:only-of-type {\n",
       "        vertical-align: middle;\n",
       "    }\n",
       "\n",
       "    .dataframe tbody tr th {\n",
       "        vertical-align: top;\n",
       "    }\n",
       "\n",
       "    .dataframe thead th {\n",
       "        text-align: right;\n",
       "    }\n",
       "</style>\n",
       "<table border=\"1\" class=\"dataframe\">\n",
       "  <thead>\n",
       "    <tr style=\"text-align: right;\">\n",
       "      <th></th>\n",
       "      <th>Non-organic-count</th>\n",
       "      <th>Organic-count</th>\n",
       "      <th>Non-Org_pcnt</th>\n",
       "      <th>Organic_pcnt</th>\n",
       "    </tr>\n",
       "    <tr>\n",
       "      <th>brands</th>\n",
       "      <th></th>\n",
       "      <th></th>\n",
       "      <th></th>\n",
       "      <th></th>\n",
       "    </tr>\n",
       "  </thead>\n",
       "  <tbody>\n",
       "    <tr>\n",
       "      <th>365 Everyday Value</th>\n",
       "      <td>616</td>\n",
       "      <td>297</td>\n",
       "      <td>0.674699</td>\n",
       "      <td>0.325061</td>\n",
       "    </tr>\n",
       "    <tr>\n",
       "      <th>Wild Harvest</th>\n",
       "      <td>114</td>\n",
       "      <td>198</td>\n",
       "      <td>0.365385</td>\n",
       "      <td>0.633873</td>\n",
       "    </tr>\n",
       "    <tr>\n",
       "      <th>O Organics</th>\n",
       "      <td>48</td>\n",
       "      <td>153</td>\n",
       "      <td>0.238806</td>\n",
       "      <td>0.760291</td>\n",
       "    </tr>\n",
       "    <tr>\n",
       "      <th>Meijer</th>\n",
       "      <td>2646</td>\n",
       "      <td>151</td>\n",
       "      <td>0.946014</td>\n",
       "      <td>0.053968</td>\n",
       "    </tr>\n",
       "    <tr>\n",
       "      <th>Simply Balanced</th>\n",
       "      <td>142</td>\n",
       "      <td>149</td>\n",
       "      <td>0.487973</td>\n",
       "      <td>0.511170</td>\n",
       "    </tr>\n",
       "  </tbody>\n",
       "</table>\n",
       "</div>"
      ],
      "text/plain": [
       "                    Non-organic-count  Organic-count  Non-Org_pcnt  \\\n",
       "brands                                                               \n",
       "365 Everyday Value                616            297      0.674699   \n",
       "Wild Harvest                      114            198      0.365385   \n",
       "O Organics                         48            153      0.238806   \n",
       "Meijer                           2646            151      0.946014   \n",
       "Simply Balanced                   142            149      0.487973   \n",
       "\n",
       "                    Organic_pcnt  \n",
       "brands                            \n",
       "365 Everyday Value      0.325061  \n",
       "Wild Harvest            0.633873  \n",
       "O Organics              0.760291  \n",
       "Meijer                  0.053968  \n",
       "Simply Balanced         0.511170  "
      ]
     },
     "execution_count": 277,
     "metadata": {},
     "output_type": "execute_result"
    }
   ],
   "source": [
    "# make dataframe over 5% organic\n",
    "df_brand_org5 = df_brand[df_brand['Organic_pcnt'] > 0.05]\n",
    "print(df_brand_org5.shape)\n",
    "df_brand_org5.head()"
   ]
  },
  {
   "cell_type": "code",
   "execution_count": 278,
   "metadata": {},
   "outputs": [
    {
     "data": {
      "text/plain": [
       "Non-organic-count    10618\n",
       "Organic-count         2013\n",
       "dtype: int64"
      ]
     },
     "execution_count": 278,
     "metadata": {},
     "output_type": "execute_result"
    }
   ],
   "source": [
    "#df_brand_org5.describe()\n",
    "df_brand_org5[['Non-organic-count', 'Organic-count']].sum()"
   ]
  },
  {
   "cell_type": "code",
   "execution_count": 279,
   "metadata": {},
   "outputs": [
    {
     "data": {
      "image/png": "[encoded data removed]",
      "text/plain": [
       "<matplotlib.figure.Figure at 0x2217fb19400>"
      ]
     },
     "metadata": {},
     "output_type": "display_data"
    }
   ],
   "source": [
    "plt.title(\"Total Count by Brands\", bbox={'facecolor':'2', 'pad':5})\n",
    "plt.axis(\"equal\")\n",
    "\n",
    "plt.pie(df_brand_org5[['Non-organic-count', 'Organic-count']].sum(), labels=['Non-organic','Organic'],\\\n",
    "        shadow=True, autopct='%1.2f%%',radius=1.5,explode=[0,0.1])\n",
    "plt.show()"
   ]
  },
  {
   "cell_type": "code",
   "execution_count": 280,
   "metadata": {},
   "outputs": [
    {
     "data": {
      "image/png": "[encoded data removed]",
      "text/plain": [
       "<matplotlib.figure.Figure at 0x2217fb22080>"
      ]
     },
     "metadata": {},
     "output_type": "display_data"
    }
   ],
   "source": [
    "ax_brand_org5 = df_brand_org5[['Non-Org_pcnt','Organic_pcnt']]\\\n",
    "    .plot(kind=\"barh\", alpha=1, label=\"Brands\", figsize=(10,12), stacked=True)"
   ]
  },
  {
   "cell_type": "code",
   "execution_count": 281,
   "metadata": {},
   "outputs": [
    {
     "data": {
      "text/html": [
       "<div>\n",
       "<style scoped>\n",
       "    .dataframe tbody tr th:only-of-type {\n",
       "        vertical-align: middle;\n",
       "    }\n",
       "\n",
       "    .dataframe tbody tr th {\n",
       "        vertical-align: top;\n",
       "    }\n",
       "\n",
       "    .dataframe thead th {\n",
       "        text-align: right;\n",
       "    }\n",
       "</style>\n",
       "<table border=\"1\" class=\"dataframe\">\n",
       "  <thead>\n",
       "    <tr style=\"text-align: right;\">\n",
       "      <th></th>\n",
       "      <th>Non-organic-count</th>\n",
       "      <th>Organic-count</th>\n",
       "      <th>Non-Org_pcnt</th>\n",
       "      <th>Organic_pcnt</th>\n",
       "    </tr>\n",
       "    <tr>\n",
       "      <th>brands</th>\n",
       "      <th></th>\n",
       "      <th></th>\n",
       "      <th></th>\n",
       "      <th></th>\n",
       "    </tr>\n",
       "  </thead>\n",
       "  <tbody>\n",
       "    <tr>\n",
       "      <th>365 Everyday Value</th>\n",
       "      <td>616</td>\n",
       "      <td>297</td>\n",
       "      <td>0.674699</td>\n",
       "      <td>0.325061</td>\n",
       "    </tr>\n",
       "    <tr>\n",
       "      <th>Wild Harvest</th>\n",
       "      <td>114</td>\n",
       "      <td>198</td>\n",
       "      <td>0.365385</td>\n",
       "      <td>0.633873</td>\n",
       "    </tr>\n",
       "    <tr>\n",
       "      <th>O Organics</th>\n",
       "      <td>48</td>\n",
       "      <td>153</td>\n",
       "      <td>0.238806</td>\n",
       "      <td>0.760291</td>\n",
       "    </tr>\n",
       "    <tr>\n",
       "      <th>Meijer</th>\n",
       "      <td>2646</td>\n",
       "      <td>151</td>\n",
       "      <td>0.946014</td>\n",
       "      <td>0.053968</td>\n",
       "    </tr>\n",
       "    <tr>\n",
       "      <th>Simply Balanced</th>\n",
       "      <td>142</td>\n",
       "      <td>149</td>\n",
       "      <td>0.487973</td>\n",
       "      <td>0.511170</td>\n",
       "    </tr>\n",
       "  </tbody>\n",
       "</table>\n",
       "</div>"
      ],
      "text/plain": [
       "                    Non-organic-count  Organic-count  Non-Org_pcnt  \\\n",
       "brands                                                               \n",
       "365 Everyday Value                616            297      0.674699   \n",
       "Wild Harvest                      114            198      0.365385   \n",
       "O Organics                         48            153      0.238806   \n",
       "Meijer                           2646            151      0.946014   \n",
       "Simply Balanced                   142            149      0.487973   \n",
       "\n",
       "                    Organic_pcnt  \n",
       "brands                            \n",
       "365 Everyday Value      0.325061  \n",
       "Wild Harvest            0.633873  \n",
       "O Organics              0.760291  \n",
       "Meijer                  0.053968  \n",
       "Simply Balanced         0.511170  "
      ]
     },
     "execution_count": 281,
     "metadata": {},
     "output_type": "execute_result"
    }
   ],
   "source": [
    "df_brand_org5.head()"
   ]
  },
  {
   "cell_type": "code",
   "execution_count": 282,
   "metadata": {},
   "outputs": [
    {
     "data": {
      "text/html": [
       "<div>\n",
       "<style scoped>\n",
       "    .dataframe tbody tr th:only-of-type {\n",
       "        vertical-align: middle;\n",
       "    }\n",
       "\n",
       "    .dataframe tbody tr th {\n",
       "        vertical-align: top;\n",
       "    }\n",
       "\n",
       "    .dataframe thead th {\n",
       "        text-align: right;\n",
       "    }\n",
       "</style>\n",
       "<table border=\"1\" class=\"dataframe\">\n",
       "  <thead>\n",
       "    <tr style=\"text-align: right;\">\n",
       "      <th></th>\n",
       "      <th>code</th>\n",
       "      <th>created_datetime</th>\n",
       "      <th>product_name</th>\n",
       "      <th>brands</th>\n",
       "      <th>ingredients_text</th>\n",
       "      <th>sugars_100g</th>\n",
       "      <th>salt_100g</th>\n",
       "      <th>sodium_100g</th>\n",
       "      <th>organic</th>\n",
       "    </tr>\n",
       "  </thead>\n",
       "  <tbody>\n",
       "    <tr>\n",
       "      <th>0</th>\n",
       "      <td>4559</td>\n",
       "      <td>03/09/2017</td>\n",
       "      <td>Peanuts</td>\n",
       "      <td>Torn &amp; Glasser</td>\n",
       "      <td>Peanuts, wheat flour, sugar, rice flour, tapio...</td>\n",
       "      <td>17.86</td>\n",
       "      <td>0.63500</td>\n",
       "      <td>0.250</td>\n",
       "      <td>0</td>\n",
       "    </tr>\n",
       "    <tr>\n",
       "      <th>1</th>\n",
       "      <td>16087</td>\n",
       "      <td>03/09/2017</td>\n",
       "      <td>Organic Salted Nut Mix</td>\n",
       "      <td>Grizzlies</td>\n",
       "      <td>Organic hazelnuts, organic cashews, organic wa...</td>\n",
       "      <td>3.57</td>\n",
       "      <td>1.22428</td>\n",
       "      <td>0.482</td>\n",
       "      <td>1</td>\n",
       "    </tr>\n",
       "    <tr>\n",
       "      <th>2</th>\n",
       "      <td>16094</td>\n",
       "      <td>03/09/2017</td>\n",
       "      <td>Organic Polenta</td>\n",
       "      <td>Bob's Red Mill</td>\n",
       "      <td>Organic polenta</td>\n",
       "      <td>0.00</td>\n",
       "      <td>0.00000</td>\n",
       "      <td>0.000</td>\n",
       "      <td>1</td>\n",
       "    </tr>\n",
       "    <tr>\n",
       "      <th>3</th>\n",
       "      <td>16100</td>\n",
       "      <td>03/09/2017</td>\n",
       "      <td>Breadshop Honey Gone Nuts Granola</td>\n",
       "      <td>Unfi</td>\n",
       "      <td>Rolled oats, grape concentrate, expeller press...</td>\n",
       "      <td>11.54</td>\n",
       "      <td>0.00000</td>\n",
       "      <td>0.000</td>\n",
       "      <td>0</td>\n",
       "    </tr>\n",
       "    <tr>\n",
       "      <th>4</th>\n",
       "      <td>16117</td>\n",
       "      <td>03/09/2017</td>\n",
       "      <td>Organic Long Grain White Rice</td>\n",
       "      <td>Lundberg</td>\n",
       "      <td>Organic long grain white rice</td>\n",
       "      <td>0.00</td>\n",
       "      <td>0.00000</td>\n",
       "      <td>0.000</td>\n",
       "      <td>1</td>\n",
       "    </tr>\n",
       "  </tbody>\n",
       "</table>\n",
       "</div>"
      ],
      "text/plain": [
       "    code created_datetime                       product_name          brands  \\\n",
       "0   4559       03/09/2017                            Peanuts  Torn & Glasser   \n",
       "1  16087       03/09/2017             Organic Salted Nut Mix       Grizzlies   \n",
       "2  16094       03/09/2017                    Organic Polenta  Bob's Red Mill   \n",
       "3  16100       03/09/2017  Breadshop Honey Gone Nuts Granola            Unfi   \n",
       "4  16117       03/09/2017      Organic Long Grain White Rice        Lundberg   \n",
       "\n",
       "                                    ingredients_text  sugars_100g  salt_100g  \\\n",
       "0  Peanuts, wheat flour, sugar, rice flour, tapio...        17.86    0.63500   \n",
       "1  Organic hazelnuts, organic cashews, organic wa...         3.57    1.22428   \n",
       "2                                    Organic polenta         0.00    0.00000   \n",
       "3  Rolled oats, grape concentrate, expeller press...        11.54    0.00000   \n",
       "4                      Organic long grain white rice         0.00    0.00000   \n",
       "\n",
       "   sodium_100g  organic  \n",
       "0        0.250        0  \n",
       "1        0.482        1  \n",
       "2        0.000        1  \n",
       "3        0.000        0  \n",
       "4        0.000        1  "
      ]
     },
     "execution_count": 282,
     "metadata": {},
     "output_type": "execute_result"
    }
   ],
   "source": [
    "df_base.head()"
   ]
  },
  {
   "cell_type": "code",
   "execution_count": 283,
   "metadata": {},
   "outputs": [
    {
     "name": "stdout",
     "output_type": "stream",
     "text": [
      "(23, 2)\n"
     ]
    },
    {
     "data": {
      "text/html": [
       "<div>\n",
       "<style scoped>\n",
       "    .dataframe tbody tr th:only-of-type {\n",
       "        vertical-align: middle;\n",
       "    }\n",
       "\n",
       "    .dataframe tbody tr th {\n",
       "        vertical-align: top;\n",
       "    }\n",
       "\n",
       "    .dataframe thead th {\n",
       "        text-align: right;\n",
       "    }\n",
       "</style>\n",
       "<table border=\"1\" class=\"dataframe\">\n",
       "  <thead>\n",
       "    <tr style=\"text-align: right;\">\n",
       "      <th></th>\n",
       "      <th>Non-Org-sugar</th>\n",
       "      <th>Organic-sugar</th>\n",
       "    </tr>\n",
       "    <tr>\n",
       "      <th>brands</th>\n",
       "      <th></th>\n",
       "      <th></th>\n",
       "    </tr>\n",
       "  </thead>\n",
       "  <tbody>\n",
       "    <tr>\n",
       "      <th>365 Everyday Value</th>\n",
       "      <td>5851.36</td>\n",
       "      <td>2980.07</td>\n",
       "    </tr>\n",
       "    <tr>\n",
       "      <th>Ahold</th>\n",
       "      <td>18134.62</td>\n",
       "      <td>765.59</td>\n",
       "    </tr>\n",
       "    <tr>\n",
       "      <th>Amy's</th>\n",
       "      <td>752.57</td>\n",
       "      <td>398.18</td>\n",
       "    </tr>\n",
       "    <tr>\n",
       "      <th>Bob's Red Mill</th>\n",
       "      <td>1507.52</td>\n",
       "      <td>82.01</td>\n",
       "    </tr>\n",
       "    <tr>\n",
       "      <th>Daily Chef</th>\n",
       "      <td>2395.81</td>\n",
       "      <td>164.65</td>\n",
       "    </tr>\n",
       "  </tbody>\n",
       "</table>\n",
       "</div>"
      ],
      "text/plain": [
       "                    Non-Org-sugar  Organic-sugar\n",
       "brands                                          \n",
       "365 Everyday Value        5851.36        2980.07\n",
       "Ahold                    18134.62         765.59\n",
       "Amy's                      752.57         398.18\n",
       "Bob's Red Mill            1507.52          82.01\n",
       "Daily Chef                2395.81         164.65"
      ]
     },
     "execution_count": 283,
     "metadata": {},
     "output_type": "execute_result"
    }
   ],
   "source": [
    "#df_bands_sugar = df_100brands.pivot_table('sugars_100g', index=\"organic\", columns='brands', aggfunc=sum).T\n",
    "df_bands_sugar = df_base[(df_base['brands'].isin(df_brand_org5.index))].pivot_table(\\\n",
    "    'sugars_100g', index=\"organic\", columns='brands', aggfunc=sum).T\n",
    "df_bands_sugar.columns = ['Non-Org-sugar','Organic-sugar']\n",
    "df_bands_sugar['Organic-sugar'] = df_bands_sugar['Organic-sugar'].fillna(0.0)\n",
    "print(df_bands_sugar.shape)\n",
    "df_bands_sugar.head()"
   ]
  },
  {
   "cell_type": "code",
   "execution_count": 284,
   "metadata": {},
   "outputs": [],
   "source": [
    "df_bands_sugar['N-sugar-pcnt'] = df_bands_sugar['Non-Org-sugar'] / df_bands_sugar.sum(axis=1)\n",
    "df_bands_sugar['O-sugar-pcnt'] = df_bands_sugar['Organic-sugar'] / df_bands_sugar.sum(axis=1)"
   ]
  },
  {
   "cell_type": "code",
   "execution_count": 285,
   "metadata": {},
   "outputs": [
    {
     "name": "stdout",
     "output_type": "stream",
     "text": [
      "(23, 4)\n"
     ]
    },
    {
     "data": {
      "text/html": [
       "<div>\n",
       "<style scoped>\n",
       "    .dataframe tbody tr th:only-of-type {\n",
       "        vertical-align: middle;\n",
       "    }\n",
       "\n",
       "    .dataframe tbody tr th {\n",
       "        vertical-align: top;\n",
       "    }\n",
       "\n",
       "    .dataframe thead th {\n",
       "        text-align: right;\n",
       "    }\n",
       "</style>\n",
       "<table border=\"1\" class=\"dataframe\">\n",
       "  <thead>\n",
       "    <tr style=\"text-align: right;\">\n",
       "      <th></th>\n",
       "      <th>Non-Org-sugar</th>\n",
       "      <th>Organic-sugar</th>\n",
       "      <th>N-sugar-pcnt</th>\n",
       "      <th>O-sugar-pcnt</th>\n",
       "    </tr>\n",
       "    <tr>\n",
       "      <th>brands</th>\n",
       "      <th></th>\n",
       "      <th></th>\n",
       "      <th></th>\n",
       "      <th></th>\n",
       "    </tr>\n",
       "  </thead>\n",
       "  <tbody>\n",
       "    <tr>\n",
       "      <th>365 Everyday Value</th>\n",
       "      <td>5851.36</td>\n",
       "      <td>2980.07</td>\n",
       "      <td>0.662561</td>\n",
       "      <td>0.337414</td>\n",
       "    </tr>\n",
       "    <tr>\n",
       "      <th>Ahold</th>\n",
       "      <td>18134.62</td>\n",
       "      <td>765.59</td>\n",
       "      <td>0.959493</td>\n",
       "      <td>0.040505</td>\n",
       "    </tr>\n",
       "    <tr>\n",
       "      <th>Amy's</th>\n",
       "      <td>752.57</td>\n",
       "      <td>398.18</td>\n",
       "      <td>0.653982</td>\n",
       "      <td>0.345821</td>\n",
       "    </tr>\n",
       "    <tr>\n",
       "      <th>Bob's Red Mill</th>\n",
       "      <td>1507.52</td>\n",
       "      <td>82.01</td>\n",
       "      <td>0.948406</td>\n",
       "      <td>0.051563</td>\n",
       "    </tr>\n",
       "    <tr>\n",
       "      <th>Daily Chef</th>\n",
       "      <td>2395.81</td>\n",
       "      <td>164.65</td>\n",
       "      <td>0.935695</td>\n",
       "      <td>0.064281</td>\n",
       "    </tr>\n",
       "  </tbody>\n",
       "</table>\n",
       "</div>"
      ],
      "text/plain": [
       "                    Non-Org-sugar  Organic-sugar  N-sugar-pcnt  O-sugar-pcnt\n",
       "brands                                                                      \n",
       "365 Everyday Value        5851.36        2980.07      0.662561      0.337414\n",
       "Ahold                    18134.62         765.59      0.959493      0.040505\n",
       "Amy's                      752.57         398.18      0.653982      0.345821\n",
       "Bob's Red Mill            1507.52          82.01      0.948406      0.051563\n",
       "Daily Chef                2395.81         164.65      0.935695      0.064281"
      ]
     },
     "execution_count": 285,
     "metadata": {},
     "output_type": "execute_result"
    }
   ],
   "source": [
    "print(df_bands_sugar.shape)\n",
    "df_bands_sugar.head()"
   ]
  },
  {
   "cell_type": "code",
   "execution_count": 305,
   "metadata": {},
   "outputs": [
    {
     "data": {
      "image/png": "[encoded data removed]",
      "text/plain": [
       "<matplotlib.figure.Figure at 0x2210348b160>"
      ]
     },
     "metadata": {},
     "output_type": "display_data"
    }
   ],
   "source": [
    "fig = plt.figure()\n",
    "ax_brand_sugar_cnt = fig.add_axes([0,0,1,1], aspect=1)\n",
    "ax_brand_sugar_cnt.pie(df_brand_org5[['Non-organic-count', 'Organic-count']].sum(), labels=['Non-organic','Organic'], \\\n",
    "                   shadow=True, autopct='%1.2f%%',radius=1,explode=[0,0.1])\n",
    "ax_brand_sugar_cnt.set_title('Total Count by Brands')\n",
    "\n",
    "\n",
    "ax_brand_sugar_pcnt = fig.add_axes([1,0,1,1], aspect=1)\n",
    "ax_brand_sugar_pcnt.pie(df_bands_sugar[['N-sugar-pcnt','O-sugar-pcnt']].sum(), labels=['Non-Org-sugar-rate', 'Organic-sugar-rate'], \\\n",
    "                   shadow=True, autopct='%1.2f%%',radius=1,explode=[0,0.1])\n",
    "ax_brand_sugar_pcnt.set_title('Percentage Sugar by Brands')\n",
    "plt.show()"
   ]
  },
  {
   "cell_type": "code",
   "execution_count": 289,
   "metadata": {},
   "outputs": [
    {
     "name": "stdout",
     "output_type": "stream",
     "text": [
      "(23, 8)\n"
     ]
    },
    {
     "data": {
      "text/html": [
       "<div>\n",
       "<style scoped>\n",
       "    .dataframe tbody tr th:only-of-type {\n",
       "        vertical-align: middle;\n",
       "    }\n",
       "\n",
       "    .dataframe tbody tr th {\n",
       "        vertical-align: top;\n",
       "    }\n",
       "\n",
       "    .dataframe thead th {\n",
       "        text-align: right;\n",
       "    }\n",
       "</style>\n",
       "<table border=\"1\" class=\"dataframe\">\n",
       "  <thead>\n",
       "    <tr style=\"text-align: right;\">\n",
       "      <th></th>\n",
       "      <th>Non-organic-count</th>\n",
       "      <th>Organic-count</th>\n",
       "      <th>Non-Org_pcnt</th>\n",
       "      <th>Organic_pcnt</th>\n",
       "      <th>Non-Org-sugar</th>\n",
       "      <th>Organic-sugar</th>\n",
       "      <th>N-sugar-pcnt</th>\n",
       "      <th>O-sugar-pcnt</th>\n",
       "    </tr>\n",
       "    <tr>\n",
       "      <th>brands</th>\n",
       "      <th></th>\n",
       "      <th></th>\n",
       "      <th></th>\n",
       "      <th></th>\n",
       "      <th></th>\n",
       "      <th></th>\n",
       "      <th></th>\n",
       "      <th></th>\n",
       "    </tr>\n",
       "  </thead>\n",
       "  <tbody>\n",
       "    <tr>\n",
       "      <th>365 Everyday Value</th>\n",
       "      <td>616</td>\n",
       "      <td>297</td>\n",
       "      <td>0.674699</td>\n",
       "      <td>0.325061</td>\n",
       "      <td>5851.36</td>\n",
       "      <td>2980.07</td>\n",
       "      <td>0.662561</td>\n",
       "      <td>0.337414</td>\n",
       "    </tr>\n",
       "    <tr>\n",
       "      <th>Wild Harvest</th>\n",
       "      <td>114</td>\n",
       "      <td>198</td>\n",
       "      <td>0.365385</td>\n",
       "      <td>0.633873</td>\n",
       "      <td>1478.24</td>\n",
       "      <td>1812.87</td>\n",
       "      <td>0.449162</td>\n",
       "      <td>0.550763</td>\n",
       "    </tr>\n",
       "    <tr>\n",
       "      <th>O Organics</th>\n",
       "      <td>48</td>\n",
       "      <td>153</td>\n",
       "      <td>0.238806</td>\n",
       "      <td>0.760291</td>\n",
       "      <td>349.16</td>\n",
       "      <td>1595.56</td>\n",
       "      <td>0.179543</td>\n",
       "      <td>0.820382</td>\n",
       "    </tr>\n",
       "    <tr>\n",
       "      <th>Meijer</th>\n",
       "      <td>2646</td>\n",
       "      <td>151</td>\n",
       "      <td>0.946014</td>\n",
       "      <td>0.053968</td>\n",
       "      <td>36664.73</td>\n",
       "      <td>1498.87</td>\n",
       "      <td>0.960725</td>\n",
       "      <td>0.039274</td>\n",
       "    </tr>\n",
       "    <tr>\n",
       "      <th>Simply Balanced</th>\n",
       "      <td>142</td>\n",
       "      <td>149</td>\n",
       "      <td>0.487973</td>\n",
       "      <td>0.511170</td>\n",
       "      <td>2632.84</td>\n",
       "      <td>1381.84</td>\n",
       "      <td>0.655803</td>\n",
       "      <td>0.344141</td>\n",
       "    </tr>\n",
       "  </tbody>\n",
       "</table>\n",
       "</div>"
      ],
      "text/plain": [
       "                    Non-organic-count  Organic-count  Non-Org_pcnt  \\\n",
       "brands                                                               \n",
       "365 Everyday Value                616            297      0.674699   \n",
       "Wild Harvest                      114            198      0.365385   \n",
       "O Organics                         48            153      0.238806   \n",
       "Meijer                           2646            151      0.946014   \n",
       "Simply Balanced                   142            149      0.487973   \n",
       "\n",
       "                    Organic_pcnt  Non-Org-sugar  Organic-sugar  N-sugar-pcnt  \\\n",
       "brands                                                                         \n",
       "365 Everyday Value      0.325061        5851.36        2980.07      0.662561   \n",
       "Wild Harvest            0.633873        1478.24        1812.87      0.449162   \n",
       "O Organics              0.760291         349.16        1595.56      0.179543   \n",
       "Meijer                  0.053968       36664.73        1498.87      0.960725   \n",
       "Simply Balanced         0.511170        2632.84        1381.84      0.655803   \n",
       "\n",
       "                    O-sugar-pcnt  \n",
       "brands                            \n",
       "365 Everyday Value      0.337414  \n",
       "Wild Harvest            0.550763  \n",
       "O Organics              0.820382  \n",
       "Meijer                  0.039274  \n",
       "Simply Balanced         0.344141  "
      ]
     },
     "execution_count": 289,
     "metadata": {},
     "output_type": "execute_result"
    }
   ],
   "source": [
    "df_brand_set = pd.merge(df_brand_org5, df_bands_sugar, left_index = True, right_index = True)\n",
    "print(df_brand_set.shape)\n",
    "df_brand_set.head()"
   ]
  },
  {
   "cell_type": "code",
   "execution_count": 302,
   "metadata": {},
   "outputs": [
    {
     "name": "stdout",
     "output_type": "stream",
     "text": [
      "(23, 4)\n"
     ]
    },
    {
     "data": {
      "text/html": [
       "<div>\n",
       "<style scoped>\n",
       "    .dataframe tbody tr th:only-of-type {\n",
       "        vertical-align: middle;\n",
       "    }\n",
       "\n",
       "    .dataframe tbody tr th {\n",
       "        vertical-align: top;\n",
       "    }\n",
       "\n",
       "    .dataframe thead th {\n",
       "        text-align: right;\n",
       "    }\n",
       "</style>\n",
       "<table border=\"1\" class=\"dataframe\">\n",
       "  <thead>\n",
       "    <tr style=\"text-align: right;\">\n",
       "      <th></th>\n",
       "      <th>Non-Org-salt</th>\n",
       "      <th>Organic-salt</th>\n",
       "      <th>N-salt-pcnt</th>\n",
       "      <th>O-salt-pcnt</th>\n",
       "    </tr>\n",
       "    <tr>\n",
       "      <th>brands</th>\n",
       "      <th></th>\n",
       "      <th></th>\n",
       "      <th></th>\n",
       "      <th></th>\n",
       "    </tr>\n",
       "  </thead>\n",
       "  <tbody>\n",
       "    <tr>\n",
       "      <th>365 Everyday Value</th>\n",
       "      <td>631.16714</td>\n",
       "      <td>240.03254</td>\n",
       "      <td>0.724480</td>\n",
       "      <td>0.275291</td>\n",
       "    </tr>\n",
       "    <tr>\n",
       "      <th>Ahold</th>\n",
       "      <td>1436.64940</td>\n",
       "      <td>54.17820</td>\n",
       "      <td>0.963659</td>\n",
       "      <td>0.036318</td>\n",
       "    </tr>\n",
       "    <tr>\n",
       "      <th>Amy's</th>\n",
       "      <td>155.46906</td>\n",
       "      <td>32.82188</td>\n",
       "      <td>0.825685</td>\n",
       "      <td>0.173554</td>\n",
       "    </tr>\n",
       "    <tr>\n",
       "      <th>Bob's Red Mill</th>\n",
       "      <td>136.90600</td>\n",
       "      <td>3.03276</td>\n",
       "      <td>0.978328</td>\n",
       "      <td>0.021522</td>\n",
       "    </tr>\n",
       "    <tr>\n",
       "      <th>Daily Chef</th>\n",
       "      <td>285.49600</td>\n",
       "      <td>10.82040</td>\n",
       "      <td>0.963484</td>\n",
       "      <td>0.036398</td>\n",
       "    </tr>\n",
       "    <tr>\n",
       "      <th>Delallo</th>\n",
       "      <td>326.63130</td>\n",
       "      <td>0.50800</td>\n",
       "      <td>0.998447</td>\n",
       "      <td>0.001548</td>\n",
       "    </tr>\n",
       "    <tr>\n",
       "      <th>Full Circle</th>\n",
       "      <td>111.49838</td>\n",
       "      <td>79.20990</td>\n",
       "      <td>0.584654</td>\n",
       "      <td>0.414076</td>\n",
       "    </tr>\n",
       "    <tr>\n",
       "      <th>Giant</th>\n",
       "      <td>598.05302</td>\n",
       "      <td>24.21128</td>\n",
       "      <td>0.961092</td>\n",
       "      <td>0.038848</td>\n",
       "    </tr>\n",
       "    <tr>\n",
       "      <th>Kings</th>\n",
       "      <td>130.40614</td>\n",
       "      <td>6.85038</td>\n",
       "      <td>0.950091</td>\n",
       "      <td>0.049566</td>\n",
       "    </tr>\n",
       "    <tr>\n",
       "      <th>Meijer</th>\n",
       "      <td>3676.70102</td>\n",
       "      <td>77.98054</td>\n",
       "      <td>0.979231</td>\n",
       "      <td>0.020763</td>\n",
       "    </tr>\n",
       "    <tr>\n",
       "      <th>O Organics</th>\n",
       "      <td>84.86394</td>\n",
       "      <td>125.08738</td>\n",
       "      <td>0.404208</td>\n",
       "      <td>0.594647</td>\n",
       "    </tr>\n",
       "    <tr>\n",
       "      <th>Pacific</th>\n",
       "      <td>177.13706</td>\n",
       "      <td>38.27272</td>\n",
       "      <td>0.822326</td>\n",
       "      <td>0.176998</td>\n",
       "    </tr>\n",
       "    <tr>\n",
       "      <th>Raley's</th>\n",
       "      <td>689.09808</td>\n",
       "      <td>44.05376</td>\n",
       "      <td>0.939912</td>\n",
       "      <td>0.060011</td>\n",
       "    </tr>\n",
       "    <tr>\n",
       "      <th>Simple Truth Organic</th>\n",
       "      <td>105.25760</td>\n",
       "      <td>5.24764</td>\n",
       "      <td>0.952512</td>\n",
       "      <td>0.047082</td>\n",
       "    </tr>\n",
       "    <tr>\n",
       "      <th>Simply Balanced</th>\n",
       "      <td>93.37040</td>\n",
       "      <td>74.21372</td>\n",
       "      <td>0.557155</td>\n",
       "      <td>0.441377</td>\n",
       "    </tr>\n",
       "    <tr>\n",
       "      <th>Target Stores</th>\n",
       "      <td>745.72368</td>\n",
       "      <td>34.91992</td>\n",
       "      <td>0.955268</td>\n",
       "      <td>0.044678</td>\n",
       "    </tr>\n",
       "    <tr>\n",
       "      <th>The Fresh Market</th>\n",
       "      <td>318.05460</td>\n",
       "      <td>1.90246</td>\n",
       "      <td>0.994054</td>\n",
       "      <td>0.005928</td>\n",
       "    </tr>\n",
       "    <tr>\n",
       "      <th>The Hain Celestial Group</th>\n",
       "      <td>148.04136</td>\n",
       "      <td>8.57250</td>\n",
       "      <td>0.945263</td>\n",
       "      <td>0.054408</td>\n",
       "    </tr>\n",
       "    <tr>\n",
       "      <th>Trader Joe's</th>\n",
       "      <td>707.91346</td>\n",
       "      <td>32.55628</td>\n",
       "      <td>0.956033</td>\n",
       "      <td>0.043910</td>\n",
       "    </tr>\n",
       "    <tr>\n",
       "      <th>Wegmans</th>\n",
       "      <td>518.67444</td>\n",
       "      <td>62.34684</td>\n",
       "      <td>0.892694</td>\n",
       "      <td>0.107141</td>\n",
       "    </tr>\n",
       "    <tr>\n",
       "      <th>Wellsley Farms</th>\n",
       "      <td>233.72826</td>\n",
       "      <td>16.83258</td>\n",
       "      <td>0.932820</td>\n",
       "      <td>0.066930</td>\n",
       "    </tr>\n",
       "    <tr>\n",
       "      <th>Whole Foods Market</th>\n",
       "      <td>1243.57384</td>\n",
       "      <td>395.56944</td>\n",
       "      <td>0.758673</td>\n",
       "      <td>0.241215</td>\n",
       "    </tr>\n",
       "    <tr>\n",
       "      <th>Wild Harvest</th>\n",
       "      <td>104.64292</td>\n",
       "      <td>168.36898</td>\n",
       "      <td>0.383291</td>\n",
       "      <td>0.615845</td>\n",
       "    </tr>\n",
       "  </tbody>\n",
       "</table>\n",
       "</div>"
      ],
      "text/plain": [
       "                          Non-Org-salt  Organic-salt  N-salt-pcnt  O-salt-pcnt\n",
       "brands                                                                        \n",
       "365 Everyday Value           631.16714     240.03254     0.724480     0.275291\n",
       "Ahold                       1436.64940      54.17820     0.963659     0.036318\n",
       "Amy's                        155.46906      32.82188     0.825685     0.173554\n",
       "Bob's Red Mill               136.90600       3.03276     0.978328     0.021522\n",
       "Daily Chef                   285.49600      10.82040     0.963484     0.036398\n",
       "Delallo                      326.63130       0.50800     0.998447     0.001548\n",
       "Full Circle                  111.49838      79.20990     0.584654     0.414076\n",
       "Giant                        598.05302      24.21128     0.961092     0.038848\n",
       "Kings                        130.40614       6.85038     0.950091     0.049566\n",
       "Meijer                      3676.70102      77.98054     0.979231     0.020763\n",
       "O Organics                    84.86394     125.08738     0.404208     0.594647\n",
       "Pacific                      177.13706      38.27272     0.822326     0.176998\n",
       "Raley's                      689.09808      44.05376     0.939912     0.060011\n",
       "Simple Truth Organic         105.25760       5.24764     0.952512     0.047082\n",
       "Simply Balanced               93.37040      74.21372     0.557155     0.441377\n",
       "Target Stores                745.72368      34.91992     0.955268     0.044678\n",
       "The Fresh Market             318.05460       1.90246     0.994054     0.005928\n",
       "The Hain Celestial Group     148.04136       8.57250     0.945263     0.054408\n",
       "Trader Joe's                 707.91346      32.55628     0.956033     0.043910\n",
       "Wegmans                      518.67444      62.34684     0.892694     0.107141\n",
       "Wellsley Farms               233.72826      16.83258     0.932820     0.066930\n",
       "Whole Foods Market          1243.57384     395.56944     0.758673     0.241215\n",
       "Wild Harvest                 104.64292     168.36898     0.383291     0.615845"
      ]
     },
     "execution_count": 302,
     "metadata": {},
     "output_type": "execute_result"
    }
   ],
   "source": [
    "df_bands_salt = df_100brands[(df_100brands['brands'].isin(df_brand_org5.index))].pivot_table(\\\n",
    "    'salt_100g', index=\"organic\", columns='brands', aggfunc=sum).T\n",
    "df_bands_salt.columns = ['Non-Org-salt','Organic-salt']\n",
    "df_bands_salt['Organic-salt'] = df_bands_salt['Organic-salt'].fillna(0.0)\n",
    "df_bands_salt['N-salt-pcnt'] = df_bands_salt['Non-Org-salt'] / df_bands_salt.sum(axis=1)\n",
    "df_bands_salt['O-salt-pcnt'] = df_bands_salt['Organic-salt'] / df_bands_salt.sum(axis=1)\n",
    "print(df_bands_salt.shape)\n",
    "df_bands_salt"
   ]
  },
  {
   "cell_type": "code",
   "execution_count": 300,
   "metadata": {},
   "outputs": [
    {
     "data": {
      "text/plain": [
       "Non-Org-salt    12659.0571\n",
       "Organic-salt     1537.5901\n",
       "dtype: float64"
      ]
     },
     "execution_count": 300,
     "metadata": {},
     "output_type": "execute_result"
    }
   ],
   "source": [
    "df_bands_salt[['Non-Org-salt','Organic-salt']].sum()"
   ]
  },
  {
   "cell_type": "code",
   "execution_count": 303,
   "metadata": {},
   "outputs": [
    {
     "data": {
      "image/png": "[encoded data removed]",
      "text/plain": [
       "<matplotlib.figure.Figure at 0x22104b69470>"
      ]
     },
     "metadata": {},
     "output_type": "display_data"
    }
   ],
   "source": [
    "fig = plt.figure()\n",
    "ax_brand_salt_cnt = fig.add_axes([0,0,1,1], aspect=1)\n",
    "ax_brand_salt_cnt.pie(df_brand_org5[['Non-organic-count', 'Organic-count']].sum(), labels=['Non-organic','Organic'], \\\n",
    "                   shadow=True, autopct='%1.2f%%',radius=1,explode=[0,0.1])\n",
    "ax_brand_salt_cnt.set_title('Total Count by Brands')\n",
    "\n",
    "\n",
    "ax_brand_salt_pcnt = fig.add_axes([1,0,1,1], aspect=1)\n",
    "ax_brand_salt_pcnt.pie(df_bands_salt[['N-salt-pcnt','O-salt-pcnt']].sum(), labels=['Non-Org-salt-rate', 'Organic-salt-rate'], \\\n",
    "                   shadow=True, autopct='%1.2f%%',radius=1,explode=[0,0.1])\n",
    "ax_brand_salt_pcnt.set_title('Percentage Salt by Brands')\n",
    "plt.show()"
   ]
  },
  {
   "cell_type": "code",
   "execution_count": 291,
   "metadata": {},
   "outputs": [
    {
     "name": "stdout",
     "output_type": "stream",
     "text": [
      "(23, 12)\n"
     ]
    },
    {
     "data": {
      "text/html": [
       "<div>\n",
       "<style scoped>\n",
       "    .dataframe tbody tr th:only-of-type {\n",
       "        vertical-align: middle;\n",
       "    }\n",
       "\n",
       "    .dataframe tbody tr th {\n",
       "        vertical-align: top;\n",
       "    }\n",
       "\n",
       "    .dataframe thead th {\n",
       "        text-align: right;\n",
       "    }\n",
       "</style>\n",
       "<table border=\"1\" class=\"dataframe\">\n",
       "  <thead>\n",
       "    <tr style=\"text-align: right;\">\n",
       "      <th></th>\n",
       "      <th>Non-organic-count</th>\n",
       "      <th>Organic-count</th>\n",
       "      <th>Non-Org_pcnt</th>\n",
       "      <th>Organic_pcnt</th>\n",
       "      <th>Non-Org-sugar</th>\n",
       "      <th>Organic-sugar</th>\n",
       "      <th>N-sugar-pcnt</th>\n",
       "      <th>O-sugar-pcnt</th>\n",
       "      <th>Non-Org-salt</th>\n",
       "      <th>Organic-salt</th>\n",
       "      <th>N-salt-pcnt</th>\n",
       "      <th>O-salt-pcnt</th>\n",
       "    </tr>\n",
       "    <tr>\n",
       "      <th>brands</th>\n",
       "      <th></th>\n",
       "      <th></th>\n",
       "      <th></th>\n",
       "      <th></th>\n",
       "      <th></th>\n",
       "      <th></th>\n",
       "      <th></th>\n",
       "      <th></th>\n",
       "      <th></th>\n",
       "      <th></th>\n",
       "      <th></th>\n",
       "      <th></th>\n",
       "    </tr>\n",
       "  </thead>\n",
       "  <tbody>\n",
       "    <tr>\n",
       "      <th>365 Everyday Value</th>\n",
       "      <td>616</td>\n",
       "      <td>297</td>\n",
       "      <td>0.674699</td>\n",
       "      <td>0.325061</td>\n",
       "      <td>5851.36</td>\n",
       "      <td>2980.07</td>\n",
       "      <td>0.662561</td>\n",
       "      <td>0.337414</td>\n",
       "      <td>631.16714</td>\n",
       "      <td>240.03254</td>\n",
       "      <td>0.724480</td>\n",
       "      <td>0.275291</td>\n",
       "    </tr>\n",
       "    <tr>\n",
       "      <th>Wild Harvest</th>\n",
       "      <td>114</td>\n",
       "      <td>198</td>\n",
       "      <td>0.365385</td>\n",
       "      <td>0.633873</td>\n",
       "      <td>1478.24</td>\n",
       "      <td>1812.87</td>\n",
       "      <td>0.449162</td>\n",
       "      <td>0.550763</td>\n",
       "      <td>104.64292</td>\n",
       "      <td>168.36898</td>\n",
       "      <td>0.383291</td>\n",
       "      <td>0.615845</td>\n",
       "    </tr>\n",
       "    <tr>\n",
       "      <th>O Organics</th>\n",
       "      <td>48</td>\n",
       "      <td>153</td>\n",
       "      <td>0.238806</td>\n",
       "      <td>0.760291</td>\n",
       "      <td>349.16</td>\n",
       "      <td>1595.56</td>\n",
       "      <td>0.179543</td>\n",
       "      <td>0.820382</td>\n",
       "      <td>84.86394</td>\n",
       "      <td>125.08738</td>\n",
       "      <td>0.404208</td>\n",
       "      <td>0.594647</td>\n",
       "    </tr>\n",
       "    <tr>\n",
       "      <th>Meijer</th>\n",
       "      <td>2646</td>\n",
       "      <td>151</td>\n",
       "      <td>0.946014</td>\n",
       "      <td>0.053968</td>\n",
       "      <td>36664.73</td>\n",
       "      <td>1498.87</td>\n",
       "      <td>0.960725</td>\n",
       "      <td>0.039274</td>\n",
       "      <td>3676.70102</td>\n",
       "      <td>77.98054</td>\n",
       "      <td>0.979231</td>\n",
       "      <td>0.020763</td>\n",
       "    </tr>\n",
       "    <tr>\n",
       "      <th>Simply Balanced</th>\n",
       "      <td>142</td>\n",
       "      <td>149</td>\n",
       "      <td>0.487973</td>\n",
       "      <td>0.511170</td>\n",
       "      <td>2632.84</td>\n",
       "      <td>1381.84</td>\n",
       "      <td>0.655803</td>\n",
       "      <td>0.344141</td>\n",
       "      <td>93.37040</td>\n",
       "      <td>74.21372</td>\n",
       "      <td>0.557155</td>\n",
       "      <td>0.441377</td>\n",
       "    </tr>\n",
       "  </tbody>\n",
       "</table>\n",
       "</div>"
      ],
      "text/plain": [
       "                    Non-organic-count  Organic-count  Non-Org_pcnt  \\\n",
       "brands                                                               \n",
       "365 Everyday Value                616            297      0.674699   \n",
       "Wild Harvest                      114            198      0.365385   \n",
       "O Organics                         48            153      0.238806   \n",
       "Meijer                           2646            151      0.946014   \n",
       "Simply Balanced                   142            149      0.487973   \n",
       "\n",
       "                    Organic_pcnt  Non-Org-sugar  Organic-sugar  N-sugar-pcnt  \\\n",
       "brands                                                                         \n",
       "365 Everyday Value      0.325061        5851.36        2980.07      0.662561   \n",
       "Wild Harvest            0.633873        1478.24        1812.87      0.449162   \n",
       "O Organics              0.760291         349.16        1595.56      0.179543   \n",
       "Meijer                  0.053968       36664.73        1498.87      0.960725   \n",
       "Simply Balanced         0.511170        2632.84        1381.84      0.655803   \n",
       "\n",
       "                    O-sugar-pcnt  Non-Org-salt  Organic-salt  N-salt-pcnt  \\\n",
       "brands                                                                      \n",
       "365 Everyday Value      0.337414     631.16714     240.03254     0.724480   \n",
       "Wild Harvest            0.550763     104.64292     168.36898     0.383291   \n",
       "O Organics              0.820382      84.86394     125.08738     0.404208   \n",
       "Meijer                  0.039274    3676.70102      77.98054     0.979231   \n",
       "Simply Balanced         0.344141      93.37040      74.21372     0.557155   \n",
       "\n",
       "                    O-salt-pcnt  \n",
       "brands                           \n",
       "365 Everyday Value     0.275291  \n",
       "Wild Harvest           0.615845  \n",
       "O Organics             0.594647  \n",
       "Meijer                 0.020763  \n",
       "Simply Balanced        0.441377  "
      ]
     },
     "execution_count": 291,
     "metadata": {},
     "output_type": "execute_result"
    }
   ],
   "source": [
    "df_brand_set = pd.merge(df_brand_set, df_bands_salt, left_index = True, right_index = True)\n",
    "print(df_brand_set.shape)\n",
    "df_brand_set.head()"
   ]
  },
  {
   "cell_type": "code",
   "execution_count": null,
   "metadata": {},
   "outputs": [],
   "source": []
  },
  {
   "cell_type": "code",
   "execution_count": 292,
   "metadata": {},
   "outputs": [
    {
     "data": {
      "text/plain": [
       "Non-organic    0.959145\n",
       "organic        0.040855\n",
       "Name: total_sugar_portion, dtype: float64"
      ]
     },
     "execution_count": 292,
     "metadata": {},
     "output_type": "execute_result"
    }
   ],
   "source": [
    "df_grp_organic.total_sugar_portion"
   ]
  },
  {
   "cell_type": "code",
   "execution_count": null,
   "metadata": {},
   "outputs": [],
   "source": []
  }
 ],
 "metadata": {
  "kernelspec": {
   "display_name": "Python 3",
   "language": "python",
   "name": "python3"
  },
  "language_info": {
   "codemirror_mode": {
    "name": "ipython",
    "version": 3
   },
   "file_extension": ".py",
   "mimetype": "text/x-python",
   "name": "python",
   "nbconvert_exporter": "python",
   "pygments_lexer": "ipython3",
   "version": "3.6.4"
  }
 },
 "nbformat": 4,
 "nbformat_minor": 2
}
