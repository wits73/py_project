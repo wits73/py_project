{
 "cells": [
  {
   "cell_type": "code",
   "execution_count": 1,
   "metadata": {},
   "outputs": [],
   "source": [
    "%matplotlib inline\n",
    "\n",
    "import numpy as np\n",
    "import pandas as pd\n",
    "import seaborn as sns\n",
    "import matplotlib.pyplot as plt"
   ]
  },
  {
   "cell_type": "code",
   "execution_count": 12,
   "metadata": {},
   "outputs": [],
   "source": [
    "df_base = pd.read_csv('data/food-facts/data.featureEngineering.tsv', sep='\\t', dtype={'code':str})"
   ]
  },
  {
   "cell_type": "code",
   "execution_count": 13,
   "metadata": {},
   "outputs": [
    {
     "data": {
      "text/plain": [
       "(170233, 9)"
      ]
     },
     "execution_count": 13,
     "metadata": {},
     "output_type": "execute_result"
    }
   ],
   "source": [
    "df_base.shape"
   ]
  },
  {
   "cell_type": "code",
   "execution_count": 14,
   "metadata": {},
   "outputs": [
    {
     "data": {
      "text/html": [
       "<div>\n",
       "<style scoped>\n",
       "    .dataframe tbody tr th:only-of-type {\n",
       "        vertical-align: middle;\n",
       "    }\n",
       "\n",
       "    .dataframe tbody tr th {\n",
       "        vertical-align: top;\n",
       "    }\n",
       "\n",
       "    .dataframe thead th {\n",
       "        text-align: right;\n",
       "    }\n",
       "</style>\n",
       "<table border=\"1\" class=\"dataframe\">\n",
       "  <thead>\n",
       "    <tr style=\"text-align: right;\">\n",
       "      <th></th>\n",
       "      <th>code</th>\n",
       "      <th>created_datetime</th>\n",
       "      <th>product_name</th>\n",
       "      <th>brands</th>\n",
       "      <th>ingredients_text</th>\n",
       "      <th>sugars_100g</th>\n",
       "      <th>salt_100g</th>\n",
       "      <th>sodium_100g</th>\n",
       "      <th>organic</th>\n",
       "    </tr>\n",
       "  </thead>\n",
       "  <tbody>\n",
       "    <tr>\n",
       "      <th>0</th>\n",
       "      <td>4559</td>\n",
       "      <td>03/09/2017</td>\n",
       "      <td>Peanuts</td>\n",
       "      <td>Torn &amp; Glasser</td>\n",
       "      <td>Peanuts, wheat flour, sugar, rice flour, tapio...</td>\n",
       "      <td>17.86</td>\n",
       "      <td>0.63500</td>\n",
       "      <td>0.250</td>\n",
       "      <td>0</td>\n",
       "    </tr>\n",
       "    <tr>\n",
       "      <th>1</th>\n",
       "      <td>16087</td>\n",
       "      <td>03/09/2017</td>\n",
       "      <td>Organic Salted Nut Mix</td>\n",
       "      <td>Grizzlies</td>\n",
       "      <td>Organic hazelnuts, organic cashews, organic wa...</td>\n",
       "      <td>3.57</td>\n",
       "      <td>1.22428</td>\n",
       "      <td>0.482</td>\n",
       "      <td>1</td>\n",
       "    </tr>\n",
       "    <tr>\n",
       "      <th>2</th>\n",
       "      <td>16094</td>\n",
       "      <td>03/09/2017</td>\n",
       "      <td>Organic Polenta</td>\n",
       "      <td>Bob's Red Mill</td>\n",
       "      <td>Organic polenta</td>\n",
       "      <td>0.00</td>\n",
       "      <td>0.00000</td>\n",
       "      <td>0.000</td>\n",
       "      <td>1</td>\n",
       "    </tr>\n",
       "    <tr>\n",
       "      <th>3</th>\n",
       "      <td>16100</td>\n",
       "      <td>03/09/2017</td>\n",
       "      <td>Breadshop Honey Gone Nuts Granola</td>\n",
       "      <td>Unfi</td>\n",
       "      <td>Rolled oats, grape concentrate, expeller press...</td>\n",
       "      <td>11.54</td>\n",
       "      <td>0.00000</td>\n",
       "      <td>0.000</td>\n",
       "      <td>0</td>\n",
       "    </tr>\n",
       "    <tr>\n",
       "      <th>4</th>\n",
       "      <td>16117</td>\n",
       "      <td>03/09/2017</td>\n",
       "      <td>Organic Long Grain White Rice</td>\n",
       "      <td>Lundberg</td>\n",
       "      <td>Organic long grain white rice</td>\n",
       "      <td>0.00</td>\n",
       "      <td>0.00000</td>\n",
       "      <td>0.000</td>\n",
       "      <td>1</td>\n",
       "    </tr>\n",
       "  </tbody>\n",
       "</table>\n",
       "</div>"
      ],
      "text/plain": [
       "    code created_datetime                       product_name          brands  \\\n",
       "0   4559       03/09/2017                            Peanuts  Torn & Glasser   \n",
       "1  16087       03/09/2017             Organic Salted Nut Mix       Grizzlies   \n",
       "2  16094       03/09/2017                    Organic Polenta  Bob's Red Mill   \n",
       "3  16100       03/09/2017  Breadshop Honey Gone Nuts Granola            Unfi   \n",
       "4  16117       03/09/2017      Organic Long Grain White Rice        Lundberg   \n",
       "\n",
       "                                    ingredients_text  sugars_100g  salt_100g  \\\n",
       "0  Peanuts, wheat flour, sugar, rice flour, tapio...        17.86    0.63500   \n",
       "1  Organic hazelnuts, organic cashews, organic wa...         3.57    1.22428   \n",
       "2                                    Organic polenta         0.00    0.00000   \n",
       "3  Rolled oats, grape concentrate, expeller press...        11.54    0.00000   \n",
       "4                      Organic long grain white rice         0.00    0.00000   \n",
       "\n",
       "   sodium_100g  organic  \n",
       "0        0.250        0  \n",
       "1        0.482        1  \n",
       "2        0.000        1  \n",
       "3        0.000        0  \n",
       "4        0.000        1  "
      ]
     },
     "execution_count": 14,
     "metadata": {},
     "output_type": "execute_result"
    }
   ],
   "source": [
    "df_base.head()"
   ]
  },
  {
   "cell_type": "code",
   "execution_count": 15,
   "metadata": {},
   "outputs": [],
   "source": [
    "grp_organic = df_base.groupby('organic')"
   ]
  },
  {
   "cell_type": "code",
   "execution_count": 35,
   "metadata": {},
   "outputs": [],
   "source": [
    "df_grp_organic = pd.DataFrame({'organic_count' : grp_organic.size()})"
   ]
  },
  {
   "cell_type": "code",
   "execution_count": 36,
   "metadata": {},
   "outputs": [],
   "source": [
    "#df_grp_organic.index = ['Non-organic','organic']"
   ]
  },
  {
   "cell_type": "code",
   "execution_count": 37,
   "metadata": {},
   "outputs": [],
   "source": [
    "df_grp_organic['organic_portion'] = df_grp_organic['organic_count'] / df_base.shape[0]"
   ]
  },
  {
   "cell_type": "code",
   "execution_count": 39,
   "metadata": {},
   "outputs": [],
   "source": [
    "df_grp_organic['total_sugar'] = df_base.pivot_table('sugars_100g', columns='organic', aggfunc=sum).T"
   ]
  },
  {
   "cell_type": "code",
   "execution_count": 41,
   "metadata": {},
   "outputs": [],
   "source": [
    "df_grp_organic['total_sugar_portion'] = df_grp_organic['total_sugar'] / df_grp_organic['total_sugar'].sum()"
   ]
  },
  {
   "cell_type": "code",
   "execution_count": 43,
   "metadata": {},
   "outputs": [],
   "source": [
    "df_grp_organic['total_salt'] = df_base.pivot_table('salt_100g', columns='organic', aggfunc=sum).T"
   ]
  },
  {
   "cell_type": "code",
   "execution_count": 45,
   "metadata": {},
   "outputs": [],
   "source": [
    "df_grp_organic['total_salt_portion'] = df_grp_organic['total_salt'] / df_grp_organic['total_salt'].sum()"
   ]
  },
  {
   "cell_type": "code",
   "execution_count": 47,
   "metadata": {},
   "outputs": [],
   "source": [
    "df_grp_organic.index = ['Non-organic','organic']"
   ]
  },
  {
   "cell_type": "code",
   "execution_count": 48,
   "metadata": {},
   "outputs": [
    {
     "data": {
      "text/html": [
       "<div>\n",
       "<style scoped>\n",
       "    .dataframe tbody tr th:only-of-type {\n",
       "        vertical-align: middle;\n",
       "    }\n",
       "\n",
       "    .dataframe tbody tr th {\n",
       "        vertical-align: top;\n",
       "    }\n",
       "\n",
       "    .dataframe thead th {\n",
       "        text-align: right;\n",
       "    }\n",
       "</style>\n",
       "<table border=\"1\" class=\"dataframe\">\n",
       "  <thead>\n",
       "    <tr style=\"text-align: right;\">\n",
       "      <th></th>\n",
       "      <th>organic_count</th>\n",
       "      <th>organic_portion</th>\n",
       "      <th>total_sugar</th>\n",
       "      <th>total_sugar_portion</th>\n",
       "      <th>total_salt</th>\n",
       "      <th>total_salt_portion</th>\n",
       "    </tr>\n",
       "  </thead>\n",
       "  <tbody>\n",
       "    <tr>\n",
       "      <th>Non-organic</th>\n",
       "      <td>161234</td>\n",
       "      <td>0.947137</td>\n",
       "      <td>2574143.986</td>\n",
       "      <td>0.959145</td>\n",
       "      <td>362371.076512</td>\n",
       "      <td>0.98335</td>\n",
       "    </tr>\n",
       "    <tr>\n",
       "      <th>organic</th>\n",
       "      <td>8999</td>\n",
       "      <td>0.052863</td>\n",
       "      <td>109646.387</td>\n",
       "      <td>0.040855</td>\n",
       "      <td>6135.461875</td>\n",
       "      <td>0.01665</td>\n",
       "    </tr>\n",
       "  </tbody>\n",
       "</table>\n",
       "</div>"
      ],
      "text/plain": [
       "             organic_count  organic_portion  total_sugar  total_sugar_portion  \\\n",
       "Non-organic         161234         0.947137  2574143.986             0.959145   \n",
       "organic               8999         0.052863   109646.387             0.040855   \n",
       "\n",
       "                total_salt  total_salt_portion  \n",
       "Non-organic  362371.076512             0.98335  \n",
       "organic        6135.461875             0.01665  "
      ]
     },
     "execution_count": 48,
     "metadata": {},
     "output_type": "execute_result"
    }
   ],
   "source": [
    "df_grp_organic"
   ]
  },
  {
   "cell_type": "code",
   "execution_count": 50,
   "metadata": {},
   "outputs": [
    {
     "data": {
      "text/plain": [
       "(23977,)"
      ]
     },
     "execution_count": 50,
     "metadata": {},
     "output_type": "execute_result"
    }
   ],
   "source": [
    "df_base['brands'].value_counts().shape"
   ]
  },
  {
   "cell_type": "code",
   "execution_count": 51,
   "metadata": {},
   "outputs": [],
   "source": [
    "mask_brand = df_base['brands'].value_counts()[0:50].index"
   ]
  },
  {
   "cell_type": "code",
   "execution_count": 52,
   "metadata": {},
   "outputs": [
    {
     "data": {
      "text/plain": [
       "Index(['Meijer', 'Kroger', 'Great Value', 'Ahold', 'Spartan', 'Roundy's',\n",
       "       'Weis', 'Food Lion', 'Shoprite', 'Harris Teeter', 'Giant Eagle',\n",
       "       'Hy Vee', 'Food Club', 'Hannaford', 'Target Stores',\n",
       "       'Whole Foods Market', '365 Everyday Value', 'Wegmans',\n",
       "       'Essential Everyday', 'Market Pantry', 'Goya', 'Schnucks',\n",
       "       'Weis Quality', 'Giant', 'Trader Joe's', 'Fresh & Easy', 'Tops',\n",
       "       'Big Y', 'Winn Dixie', 'Clover Valley', 'Brookshire's', 'Key Food',\n",
       "       'Wal Mart Stores', 'Mccormick', 'Raley's', 'Nice', 'Western Family',\n",
       "       'Valu Time', 'Hormel', 'Signature Kitchens', 'Southern Home',\n",
       "       'Gold Emblem', 'Lowes Foods', 'Shurfine', 'Wilton', 'Private Selection',\n",
       "       'Dannon', 'Archer Farms', 'Wild Harvest', 'Safeway'],\n",
       "      dtype='object')"
      ]
     },
     "execution_count": 52,
     "metadata": {},
     "output_type": "execute_result"
    }
   ],
   "source": [
    "mask_brand"
   ]
  },
  {
   "cell_type": "code",
   "execution_count": 56,
   "metadata": {},
   "outputs": [],
   "source": [
    "df_50brands = df_base[(df_base['brands'].isin(mask_brand))]"
   ]
  },
  {
   "cell_type": "code",
   "execution_count": 58,
   "metadata": {},
   "outputs": [
    {
     "data": {
      "text/plain": [
       "(37610, 9)"
      ]
     },
     "execution_count": 58,
     "metadata": {},
     "output_type": "execute_result"
    }
   ],
   "source": [
    "df_50brands.shape"
   ]
  },
  {
   "cell_type": "code",
   "execution_count": 59,
   "metadata": {},
   "outputs": [
    {
     "data": {
      "text/html": [
       "<div>\n",
       "<style scoped>\n",
       "    .dataframe tbody tr th:only-of-type {\n",
       "        vertical-align: middle;\n",
       "    }\n",
       "\n",
       "    .dataframe tbody tr th {\n",
       "        vertical-align: top;\n",
       "    }\n",
       "\n",
       "    .dataframe thead th {\n",
       "        text-align: right;\n",
       "    }\n",
       "</style>\n",
       "<table border=\"1\" class=\"dataframe\">\n",
       "  <thead>\n",
       "    <tr style=\"text-align: right;\">\n",
       "      <th></th>\n",
       "      <th>code</th>\n",
       "      <th>created_datetime</th>\n",
       "      <th>product_name</th>\n",
       "      <th>brands</th>\n",
       "      <th>ingredients_text</th>\n",
       "      <th>sugars_100g</th>\n",
       "      <th>salt_100g</th>\n",
       "      <th>sodium_100g</th>\n",
       "      <th>organic</th>\n",
       "    </tr>\n",
       "  </thead>\n",
       "  <tbody>\n",
       "    <tr>\n",
       "      <th>158</th>\n",
       "      <td>20039127</td>\n",
       "      <td>03/10/2017</td>\n",
       "      <td>Butter Croissants</td>\n",
       "      <td>Fresh &amp; Easy</td>\n",
       "      <td>Wheat flour, butter (cream), water, yeast, sug...</td>\n",
       "      <td>5.19</td>\n",
       "      <td>1.08966</td>\n",
       "      <td>0.429</td>\n",
       "      <td>0</td>\n",
       "    </tr>\n",
       "    <tr>\n",
       "      <th>159</th>\n",
       "      <td>20039707</td>\n",
       "      <td>03/10/2017</td>\n",
       "      <td>Wild Blueberry Muffins</td>\n",
       "      <td>Fresh &amp; Easy</td>\n",
       "      <td>Enriched wheat flour (wheat flour, malted barl...</td>\n",
       "      <td>25.93</td>\n",
       "      <td>0.72898</td>\n",
       "      <td>0.287</td>\n",
       "      <td>0</td>\n",
       "    </tr>\n",
       "    <tr>\n",
       "      <th>160</th>\n",
       "      <td>20042509</td>\n",
       "      <td>03/10/2017</td>\n",
       "      <td>Bolillos</td>\n",
       "      <td>Fresh &amp; Easy</td>\n",
       "      <td>Enriched wheat flour (wheat flour niacin, redu...</td>\n",
       "      <td>2.13</td>\n",
       "      <td>1.27000</td>\n",
       "      <td>0.500</td>\n",
       "      <td>0</td>\n",
       "    </tr>\n",
       "    <tr>\n",
       "      <th>161</th>\n",
       "      <td>20043070</td>\n",
       "      <td>03/10/2017</td>\n",
       "      <td>Biscuit</td>\n",
       "      <td>Fresh &amp; Easy</td>\n",
       "      <td>Enriched wheat flour (niacin, reduced iron, th...</td>\n",
       "      <td>2.67</td>\n",
       "      <td>1.42240</td>\n",
       "      <td>0.560</td>\n",
       "      <td>0</td>\n",
       "    </tr>\n",
       "    <tr>\n",
       "      <th>162</th>\n",
       "      <td>20043087</td>\n",
       "      <td>03/10/2017</td>\n",
       "      <td>Biscuit</td>\n",
       "      <td>Fresh &amp; Easy</td>\n",
       "      <td>Enriched wheat flour (niacin, reduced iron, th...</td>\n",
       "      <td>9.33</td>\n",
       "      <td>1.15062</td>\n",
       "      <td>0.453</td>\n",
       "      <td>0</td>\n",
       "    </tr>\n",
       "  </tbody>\n",
       "</table>\n",
       "</div>"
      ],
      "text/plain": [
       "         code created_datetime            product_name        brands  \\\n",
       "158  20039127       03/10/2017       Butter Croissants  Fresh & Easy   \n",
       "159  20039707       03/10/2017  Wild Blueberry Muffins  Fresh & Easy   \n",
       "160  20042509       03/10/2017                Bolillos  Fresh & Easy   \n",
       "161  20043070       03/10/2017                 Biscuit  Fresh & Easy   \n",
       "162  20043087       03/10/2017                 Biscuit  Fresh & Easy   \n",
       "\n",
       "                                      ingredients_text  sugars_100g  \\\n",
       "158  Wheat flour, butter (cream), water, yeast, sug...         5.19   \n",
       "159  Enriched wheat flour (wheat flour, malted barl...        25.93   \n",
       "160  Enriched wheat flour (wheat flour niacin, redu...         2.13   \n",
       "161  Enriched wheat flour (niacin, reduced iron, th...         2.67   \n",
       "162  Enriched wheat flour (niacin, reduced iron, th...         9.33   \n",
       "\n",
       "     salt_100g  sodium_100g  organic  \n",
       "158    1.08966        0.429        0  \n",
       "159    0.72898        0.287        0  \n",
       "160    1.27000        0.500        0  \n",
       "161    1.42240        0.560        0  \n",
       "162    1.15062        0.453        0  "
      ]
     },
     "execution_count": 59,
     "metadata": {},
     "output_type": "execute_result"
    }
   ],
   "source": [
    "df_50brands.head()"
   ]
  },
  {
   "cell_type": "code",
   "execution_count": 146,
   "metadata": {},
   "outputs": [],
   "source": [
    "grp_brand_sugar = df_50brands['sugars_100g'].groupby([df_50brands['brands'],df_50brands['organic']]).count()"
   ]
  },
  {
   "cell_type": "code",
   "execution_count": 147,
   "metadata": {},
   "outputs": [
    {
     "data": {
      "text/plain": [
       "brands              organic\n",
       "365 Everyday Value  0           616\n",
       "                    1           297\n",
       "Ahold               0          1285\n",
       "                    1            92\n",
       "Archer Farms        0           309\n",
       "Name: sugars_100g, dtype: int64"
      ]
     },
     "execution_count": 147,
     "metadata": {},
     "output_type": "execute_result"
    }
   ],
   "source": [
    "grp_brand_sugar.head()"
   ]
  },
  {
   "cell_type": "code",
   "execution_count": 148,
   "metadata": {},
   "outputs": [],
   "source": [
    "df_brand = grp_brand_sugar.unstack()"
   ]
  },
  {
   "cell_type": "code",
   "execution_count": 149,
   "metadata": {},
   "outputs": [],
   "source": [
    "df_brand.columns = ['Non-organic-count','Organic-count']"
   ]
  },
  {
   "cell_type": "code",
   "execution_count": 150,
   "metadata": {},
   "outputs": [],
   "source": [
    "df_brand['Non-organic-count'] = df_brand['Non-organic-count'].astype(int)\n",
    "df_brand['Organic-count'] = df_brand['Organic-count'].fillna(0).astype(int)"
   ]
  },
  {
   "cell_type": "code",
   "execution_count": 151,
   "metadata": {},
   "outputs": [
    {
     "name": "stdout",
     "output_type": "stream",
     "text": [
      "<class 'pandas.core.frame.DataFrame'>\n",
      "Index: 50 entries, 365 Everyday Value to Winn Dixie\n",
      "Data columns (total 2 columns):\n",
      "Non-organic-count    50 non-null int32\n",
      "Organic-count        50 non-null int32\n",
      "dtypes: int32(2)\n",
      "memory usage: 800.0+ bytes\n"
     ]
    }
   ],
   "source": [
    "df_brand.info()"
   ]
  },
  {
   "cell_type": "code",
   "execution_count": 152,
   "metadata": {},
   "outputs": [],
   "source": [
    "df_brand['Non-organic-portion'] = df_brand['Non-organic-count'] / df_brand.sum(axis=1)\n",
    "df_brand['Organic-portion'] = df_brand['Organic-count'] / df_brand.sum(axis=1)"
   ]
  },
  {
   "cell_type": "code",
   "execution_count": 153,
   "metadata": {},
   "outputs": [
    {
     "data": {
      "text/html": [
       "<div>\n",
       "<style scoped>\n",
       "    .dataframe tbody tr th:only-of-type {\n",
       "        vertical-align: middle;\n",
       "    }\n",
       "\n",
       "    .dataframe tbody tr th {\n",
       "        vertical-align: top;\n",
       "    }\n",
       "\n",
       "    .dataframe thead th {\n",
       "        text-align: right;\n",
       "    }\n",
       "</style>\n",
       "<table border=\"1\" class=\"dataframe\">\n",
       "  <thead>\n",
       "    <tr style=\"text-align: right;\">\n",
       "      <th></th>\n",
       "      <th>Non-organic-count</th>\n",
       "      <th>Organic-count</th>\n",
       "      <th>Non-organic-portion</th>\n",
       "      <th>Organic-portion</th>\n",
       "    </tr>\n",
       "    <tr>\n",
       "      <th>brands</th>\n",
       "      <th></th>\n",
       "      <th></th>\n",
       "      <th></th>\n",
       "      <th></th>\n",
       "    </tr>\n",
       "  </thead>\n",
       "  <tbody>\n",
       "    <tr>\n",
       "      <th>365 Everyday Value</th>\n",
       "      <td>616</td>\n",
       "      <td>297</td>\n",
       "      <td>0.674699</td>\n",
       "      <td>0.325061</td>\n",
       "    </tr>\n",
       "    <tr>\n",
       "      <th>Ahold</th>\n",
       "      <td>1285</td>\n",
       "      <td>92</td>\n",
       "      <td>0.933188</td>\n",
       "      <td>0.066767</td>\n",
       "    </tr>\n",
       "    <tr>\n",
       "      <th>Archer Farms</th>\n",
       "      <td>309</td>\n",
       "      <td>3</td>\n",
       "      <td>0.990385</td>\n",
       "      <td>0.009585</td>\n",
       "    </tr>\n",
       "    <tr>\n",
       "      <th>Big Y</th>\n",
       "      <td>513</td>\n",
       "      <td>0</td>\n",
       "      <td>1.000000</td>\n",
       "      <td>0.000000</td>\n",
       "    </tr>\n",
       "    <tr>\n",
       "      <th>Brookshire's</th>\n",
       "      <td>457</td>\n",
       "      <td>0</td>\n",
       "      <td>1.000000</td>\n",
       "      <td>0.000000</td>\n",
       "    </tr>\n",
       "  </tbody>\n",
       "</table>\n",
       "</div>"
      ],
      "text/plain": [
       "                    Non-organic-count  Organic-count  Non-organic-portion  \\\n",
       "brands                                                                      \n",
       "365 Everyday Value                616            297             0.674699   \n",
       "Ahold                            1285             92             0.933188   \n",
       "Archer Farms                      309              3             0.990385   \n",
       "Big Y                             513              0             1.000000   \n",
       "Brookshire's                      457              0             1.000000   \n",
       "\n",
       "                    Organic-portion  \n",
       "brands                               \n",
       "365 Everyday Value         0.325061  \n",
       "Ahold                      0.066767  \n",
       "Archer Farms               0.009585  \n",
       "Big Y                      0.000000  \n",
       "Brookshire's               0.000000  "
      ]
     },
     "execution_count": 153,
     "metadata": {},
     "output_type": "execute_result"
    }
   ],
   "source": [
    "df_brand.head()"
   ]
  },
  {
   "cell_type": "code",
   "execution_count": 154,
   "metadata": {},
   "outputs": [],
   "source": [
    "df_bands_sugar = df_50brands.pivot_table('sugars_100g', index=\"organic\", columns='brands', aggfunc=sum).T"
   ]
  },
  {
   "cell_type": "code",
   "execution_count": 155,
   "metadata": {},
   "outputs": [],
   "source": [
    "df_bands_sugar.columns = ['Non-organic-sugar','Organic-sugar']"
   ]
  },
  {
   "cell_type": "code",
   "execution_count": 156,
   "metadata": {},
   "outputs": [],
   "source": [
    "df_bands_sugar['Organic-sugar'] = df_bands_sugar['Organic-sugar'].fillna(0.0)"
   ]
  },
  {
   "cell_type": "code",
   "execution_count": 157,
   "metadata": {},
   "outputs": [],
   "source": [
    "df_bands_sugar['N-sugar-portion'] = df_bands_sugar['Non-organic-sugar'] / df_bands_sugar.sum(axis=1)\n",
    "df_bands_sugar['O-sugar-portion'] = df_bands_sugar['Organic-sugar'] / df_bands_sugar.sum(axis=1)"
   ]
  },
  {
   "cell_type": "code",
   "execution_count": 158,
   "metadata": {},
   "outputs": [
    {
     "data": {
      "text/html": [
       "<div>\n",
       "<style scoped>\n",
       "    .dataframe tbody tr th:only-of-type {\n",
       "        vertical-align: middle;\n",
       "    }\n",
       "\n",
       "    .dataframe tbody tr th {\n",
       "        vertical-align: top;\n",
       "    }\n",
       "\n",
       "    .dataframe thead th {\n",
       "        text-align: right;\n",
       "    }\n",
       "</style>\n",
       "<table border=\"1\" class=\"dataframe\">\n",
       "  <thead>\n",
       "    <tr style=\"text-align: right;\">\n",
       "      <th></th>\n",
       "      <th>Non-organic-sugar</th>\n",
       "      <th>Organic-sugar</th>\n",
       "      <th>N-sugar-portion</th>\n",
       "      <th>O-sugar-portion</th>\n",
       "    </tr>\n",
       "    <tr>\n",
       "      <th>brands</th>\n",
       "      <th></th>\n",
       "      <th></th>\n",
       "      <th></th>\n",
       "      <th></th>\n",
       "    </tr>\n",
       "  </thead>\n",
       "  <tbody>\n",
       "    <tr>\n",
       "      <th>365 Everyday Value</th>\n",
       "      <td>5851.36</td>\n",
       "      <td>2980.07</td>\n",
       "      <td>0.662561</td>\n",
       "      <td>0.337414</td>\n",
       "    </tr>\n",
       "    <tr>\n",
       "      <th>Ahold</th>\n",
       "      <td>18134.62</td>\n",
       "      <td>765.59</td>\n",
       "      <td>0.959493</td>\n",
       "      <td>0.040505</td>\n",
       "    </tr>\n",
       "    <tr>\n",
       "      <th>Archer Farms</th>\n",
       "      <td>4852.67</td>\n",
       "      <td>6.94</td>\n",
       "      <td>0.998572</td>\n",
       "      <td>0.001428</td>\n",
       "    </tr>\n",
       "    <tr>\n",
       "      <th>Big Y</th>\n",
       "      <td>6022.27</td>\n",
       "      <td>0.00</td>\n",
       "      <td>1.000000</td>\n",
       "      <td>0.000000</td>\n",
       "    </tr>\n",
       "    <tr>\n",
       "      <th>Brookshire's</th>\n",
       "      <td>7176.99</td>\n",
       "      <td>0.00</td>\n",
       "      <td>1.000000</td>\n",
       "      <td>0.000000</td>\n",
       "    </tr>\n",
       "  </tbody>\n",
       "</table>\n",
       "</div>"
      ],
      "text/plain": [
       "                    Non-organic-sugar  Organic-sugar  N-sugar-portion  \\\n",
       "brands                                                                  \n",
       "365 Everyday Value            5851.36        2980.07         0.662561   \n",
       "Ahold                        18134.62         765.59         0.959493   \n",
       "Archer Farms                  4852.67           6.94         0.998572   \n",
       "Big Y                         6022.27           0.00         1.000000   \n",
       "Brookshire's                  7176.99           0.00         1.000000   \n",
       "\n",
       "                    O-sugar-portion  \n",
       "brands                               \n",
       "365 Everyday Value         0.337414  \n",
       "Ahold                      0.040505  \n",
       "Archer Farms               0.001428  \n",
       "Big Y                      0.000000  \n",
       "Brookshire's               0.000000  "
      ]
     },
     "execution_count": 158,
     "metadata": {},
     "output_type": "execute_result"
    }
   ],
   "source": [
    "df_bands_sugar.head()"
   ]
  },
  {
   "cell_type": "code",
   "execution_count": 159,
   "metadata": {},
   "outputs": [],
   "source": [
    "df_brand = pd.merge(df_brand, df_bands_sugar, left_index = True, right_index = True)"
   ]
  },
  {
   "cell_type": "code",
   "execution_count": 160,
   "metadata": {},
   "outputs": [
    {
     "data": {
      "text/html": [
       "<div>\n",
       "<style scoped>\n",
       "    .dataframe tbody tr th:only-of-type {\n",
       "        vertical-align: middle;\n",
       "    }\n",
       "\n",
       "    .dataframe tbody tr th {\n",
       "        vertical-align: top;\n",
       "    }\n",
       "\n",
       "    .dataframe thead th {\n",
       "        text-align: right;\n",
       "    }\n",
       "</style>\n",
       "<table border=\"1\" class=\"dataframe\">\n",
       "  <thead>\n",
       "    <tr style=\"text-align: right;\">\n",
       "      <th></th>\n",
       "      <th>Non-organic-count</th>\n",
       "      <th>Organic-count</th>\n",
       "      <th>Non-organic-portion</th>\n",
       "      <th>Organic-portion</th>\n",
       "      <th>Non-organic-sugar</th>\n",
       "      <th>Organic-sugar</th>\n",
       "      <th>N-sugar-portion</th>\n",
       "      <th>O-sugar-portion</th>\n",
       "    </tr>\n",
       "    <tr>\n",
       "      <th>brands</th>\n",
       "      <th></th>\n",
       "      <th></th>\n",
       "      <th></th>\n",
       "      <th></th>\n",
       "      <th></th>\n",
       "      <th></th>\n",
       "      <th></th>\n",
       "      <th></th>\n",
       "    </tr>\n",
       "  </thead>\n",
       "  <tbody>\n",
       "    <tr>\n",
       "      <th>365 Everyday Value</th>\n",
       "      <td>616</td>\n",
       "      <td>297</td>\n",
       "      <td>0.674699</td>\n",
       "      <td>0.325061</td>\n",
       "      <td>5851.36</td>\n",
       "      <td>2980.07</td>\n",
       "      <td>0.662561</td>\n",
       "      <td>0.337414</td>\n",
       "    </tr>\n",
       "    <tr>\n",
       "      <th>Ahold</th>\n",
       "      <td>1285</td>\n",
       "      <td>92</td>\n",
       "      <td>0.933188</td>\n",
       "      <td>0.066767</td>\n",
       "      <td>18134.62</td>\n",
       "      <td>765.59</td>\n",
       "      <td>0.959493</td>\n",
       "      <td>0.040505</td>\n",
       "    </tr>\n",
       "    <tr>\n",
       "      <th>Archer Farms</th>\n",
       "      <td>309</td>\n",
       "      <td>3</td>\n",
       "      <td>0.990385</td>\n",
       "      <td>0.009585</td>\n",
       "      <td>4852.67</td>\n",
       "      <td>6.94</td>\n",
       "      <td>0.998572</td>\n",
       "      <td>0.001428</td>\n",
       "    </tr>\n",
       "    <tr>\n",
       "      <th>Big Y</th>\n",
       "      <td>513</td>\n",
       "      <td>0</td>\n",
       "      <td>1.000000</td>\n",
       "      <td>0.000000</td>\n",
       "      <td>6022.27</td>\n",
       "      <td>0.00</td>\n",
       "      <td>1.000000</td>\n",
       "      <td>0.000000</td>\n",
       "    </tr>\n",
       "    <tr>\n",
       "      <th>Brookshire's</th>\n",
       "      <td>457</td>\n",
       "      <td>0</td>\n",
       "      <td>1.000000</td>\n",
       "      <td>0.000000</td>\n",
       "      <td>7176.99</td>\n",
       "      <td>0.00</td>\n",
       "      <td>1.000000</td>\n",
       "      <td>0.000000</td>\n",
       "    </tr>\n",
       "  </tbody>\n",
       "</table>\n",
       "</div>"
      ],
      "text/plain": [
       "                    Non-organic-count  Organic-count  Non-organic-portion  \\\n",
       "brands                                                                      \n",
       "365 Everyday Value                616            297             0.674699   \n",
       "Ahold                            1285             92             0.933188   \n",
       "Archer Farms                      309              3             0.990385   \n",
       "Big Y                             513              0             1.000000   \n",
       "Brookshire's                      457              0             1.000000   \n",
       "\n",
       "                    Organic-portion  Non-organic-sugar  Organic-sugar  \\\n",
       "brands                                                                  \n",
       "365 Everyday Value         0.325061            5851.36        2980.07   \n",
       "Ahold                      0.066767           18134.62         765.59   \n",
       "Archer Farms               0.009585            4852.67           6.94   \n",
       "Big Y                      0.000000            6022.27           0.00   \n",
       "Brookshire's               0.000000            7176.99           0.00   \n",
       "\n",
       "                    N-sugar-portion  O-sugar-portion  \n",
       "brands                                                \n",
       "365 Everyday Value         0.662561         0.337414  \n",
       "Ahold                      0.959493         0.040505  \n",
       "Archer Farms               0.998572         0.001428  \n",
       "Big Y                      1.000000         0.000000  \n",
       "Brookshire's               1.000000         0.000000  "
      ]
     },
     "execution_count": 160,
     "metadata": {},
     "output_type": "execute_result"
    }
   ],
   "source": [
    "df_brand.head()"
   ]
  },
  {
   "cell_type": "code",
   "execution_count": 161,
   "metadata": {},
   "outputs": [
    {
     "data": {
      "text/plain": [
       "(50, 8)"
      ]
     },
     "execution_count": 161,
     "metadata": {},
     "output_type": "execute_result"
    }
   ],
   "source": [
    "df_brand.shape"
   ]
  },
  {
   "cell_type": "code",
   "execution_count": 162,
   "metadata": {},
   "outputs": [],
   "source": [
    "df_bands_salt = df_50brands.pivot_table('salt_100g', index=\"organic\", columns='brands', aggfunc=sum).T\n",
    "df_bands_salt.columns = ['Non-organic-salt','Organic-salt']\n",
    "df_bands_salt['Organic-salt'] = df_bands_salt['Organic-salt'].fillna(0.0)\n",
    "df_bands_salt['N-salt-portion'] = df_bands_salt['Non-organic-salt'] / df_bands_salt.sum(axis=1)\n",
    "df_bands_salt['O-salt-portion'] = df_bands_salt['Organic-salt'] / df_bands_salt.sum(axis=1)"
   ]
  },
  {
   "cell_type": "code",
   "execution_count": 163,
   "metadata": {},
   "outputs": [
    {
     "data": {
      "text/html": [
       "<div>\n",
       "<style scoped>\n",
       "    .dataframe tbody tr th:only-of-type {\n",
       "        vertical-align: middle;\n",
       "    }\n",
       "\n",
       "    .dataframe tbody tr th {\n",
       "        vertical-align: top;\n",
       "    }\n",
       "\n",
       "    .dataframe thead th {\n",
       "        text-align: right;\n",
       "    }\n",
       "</style>\n",
       "<table border=\"1\" class=\"dataframe\">\n",
       "  <thead>\n",
       "    <tr style=\"text-align: right;\">\n",
       "      <th></th>\n",
       "      <th>Non-organic-salt</th>\n",
       "      <th>Organic-salt</th>\n",
       "      <th>N-salt-portion</th>\n",
       "      <th>O-salt-portion</th>\n",
       "    </tr>\n",
       "    <tr>\n",
       "      <th>brands</th>\n",
       "      <th></th>\n",
       "      <th></th>\n",
       "      <th></th>\n",
       "      <th></th>\n",
       "    </tr>\n",
       "  </thead>\n",
       "  <tbody>\n",
       "    <tr>\n",
       "      <th>365 Everyday Value</th>\n",
       "      <td>631.16714</td>\n",
       "      <td>240.03254</td>\n",
       "      <td>0.724480</td>\n",
       "      <td>0.275291</td>\n",
       "    </tr>\n",
       "    <tr>\n",
       "      <th>Ahold</th>\n",
       "      <td>1436.64940</td>\n",
       "      <td>54.17820</td>\n",
       "      <td>0.963659</td>\n",
       "      <td>0.036318</td>\n",
       "    </tr>\n",
       "    <tr>\n",
       "      <th>Archer Farms</th>\n",
       "      <td>409.94330</td>\n",
       "      <td>1.92786</td>\n",
       "      <td>0.995319</td>\n",
       "      <td>0.004669</td>\n",
       "    </tr>\n",
       "    <tr>\n",
       "      <th>Big Y</th>\n",
       "      <td>569.35938</td>\n",
       "      <td>0.00000</td>\n",
       "      <td>1.000000</td>\n",
       "      <td>0.000000</td>\n",
       "    </tr>\n",
       "    <tr>\n",
       "      <th>Brookshire's</th>\n",
       "      <td>1205.75324</td>\n",
       "      <td>0.00000</td>\n",
       "      <td>1.000000</td>\n",
       "      <td>0.000000</td>\n",
       "    </tr>\n",
       "  </tbody>\n",
       "</table>\n",
       "</div>"
      ],
      "text/plain": [
       "                    Non-organic-salt  Organic-salt  N-salt-portion  \\\n",
       "brands                                                               \n",
       "365 Everyday Value         631.16714     240.03254        0.724480   \n",
       "Ahold                     1436.64940      54.17820        0.963659   \n",
       "Archer Farms               409.94330       1.92786        0.995319   \n",
       "Big Y                      569.35938       0.00000        1.000000   \n",
       "Brookshire's              1205.75324       0.00000        1.000000   \n",
       "\n",
       "                    O-salt-portion  \n",
       "brands                              \n",
       "365 Everyday Value        0.275291  \n",
       "Ahold                     0.036318  \n",
       "Archer Farms              0.004669  \n",
       "Big Y                     0.000000  \n",
       "Brookshire's              0.000000  "
      ]
     },
     "execution_count": 163,
     "metadata": {},
     "output_type": "execute_result"
    }
   ],
   "source": [
    "df_bands_salt.head()"
   ]
  },
  {
   "cell_type": "code",
   "execution_count": 164,
   "metadata": {},
   "outputs": [],
   "source": [
    "df_brand = pd.merge(df_brand, df_bands_salt, left_index = True, right_index = True)"
   ]
  },
  {
   "cell_type": "code",
   "execution_count": 165,
   "metadata": {},
   "outputs": [
    {
     "data": {
      "text/html": [
       "<div>\n",
       "<style scoped>\n",
       "    .dataframe tbody tr th:only-of-type {\n",
       "        vertical-align: middle;\n",
       "    }\n",
       "\n",
       "    .dataframe tbody tr th {\n",
       "        vertical-align: top;\n",
       "    }\n",
       "\n",
       "    .dataframe thead th {\n",
       "        text-align: right;\n",
       "    }\n",
       "</style>\n",
       "<table border=\"1\" class=\"dataframe\">\n",
       "  <thead>\n",
       "    <tr style=\"text-align: right;\">\n",
       "      <th></th>\n",
       "      <th>Non-organic-count</th>\n",
       "      <th>Organic-count</th>\n",
       "      <th>Non-organic-portion</th>\n",
       "      <th>Organic-portion</th>\n",
       "      <th>Non-organic-sugar</th>\n",
       "      <th>Organic-sugar</th>\n",
       "      <th>N-sugar-portion</th>\n",
       "      <th>O-sugar-portion</th>\n",
       "      <th>Non-organic-salt</th>\n",
       "      <th>Organic-salt</th>\n",
       "      <th>N-salt-portion</th>\n",
       "      <th>O-salt-portion</th>\n",
       "    </tr>\n",
       "    <tr>\n",
       "      <th>brands</th>\n",
       "      <th></th>\n",
       "      <th></th>\n",
       "      <th></th>\n",
       "      <th></th>\n",
       "      <th></th>\n",
       "      <th></th>\n",
       "      <th></th>\n",
       "      <th></th>\n",
       "      <th></th>\n",
       "      <th></th>\n",
       "      <th></th>\n",
       "      <th></th>\n",
       "    </tr>\n",
       "  </thead>\n",
       "  <tbody>\n",
       "    <tr>\n",
       "      <th>365 Everyday Value</th>\n",
       "      <td>616</td>\n",
       "      <td>297</td>\n",
       "      <td>0.674699</td>\n",
       "      <td>0.325061</td>\n",
       "      <td>5851.36</td>\n",
       "      <td>2980.07</td>\n",
       "      <td>0.662561</td>\n",
       "      <td>0.337414</td>\n",
       "      <td>631.16714</td>\n",
       "      <td>240.03254</td>\n",
       "      <td>0.724480</td>\n",
       "      <td>0.275291</td>\n",
       "    </tr>\n",
       "    <tr>\n",
       "      <th>Ahold</th>\n",
       "      <td>1285</td>\n",
       "      <td>92</td>\n",
       "      <td>0.933188</td>\n",
       "      <td>0.066767</td>\n",
       "      <td>18134.62</td>\n",
       "      <td>765.59</td>\n",
       "      <td>0.959493</td>\n",
       "      <td>0.040505</td>\n",
       "      <td>1436.64940</td>\n",
       "      <td>54.17820</td>\n",
       "      <td>0.963659</td>\n",
       "      <td>0.036318</td>\n",
       "    </tr>\n",
       "    <tr>\n",
       "      <th>Archer Farms</th>\n",
       "      <td>309</td>\n",
       "      <td>3</td>\n",
       "      <td>0.990385</td>\n",
       "      <td>0.009585</td>\n",
       "      <td>4852.67</td>\n",
       "      <td>6.94</td>\n",
       "      <td>0.998572</td>\n",
       "      <td>0.001428</td>\n",
       "      <td>409.94330</td>\n",
       "      <td>1.92786</td>\n",
       "      <td>0.995319</td>\n",
       "      <td>0.004669</td>\n",
       "    </tr>\n",
       "    <tr>\n",
       "      <th>Big Y</th>\n",
       "      <td>513</td>\n",
       "      <td>0</td>\n",
       "      <td>1.000000</td>\n",
       "      <td>0.000000</td>\n",
       "      <td>6022.27</td>\n",
       "      <td>0.00</td>\n",
       "      <td>1.000000</td>\n",
       "      <td>0.000000</td>\n",
       "      <td>569.35938</td>\n",
       "      <td>0.00000</td>\n",
       "      <td>1.000000</td>\n",
       "      <td>0.000000</td>\n",
       "    </tr>\n",
       "    <tr>\n",
       "      <th>Brookshire's</th>\n",
       "      <td>457</td>\n",
       "      <td>0</td>\n",
       "      <td>1.000000</td>\n",
       "      <td>0.000000</td>\n",
       "      <td>7176.99</td>\n",
       "      <td>0.00</td>\n",
       "      <td>1.000000</td>\n",
       "      <td>0.000000</td>\n",
       "      <td>1205.75324</td>\n",
       "      <td>0.00000</td>\n",
       "      <td>1.000000</td>\n",
       "      <td>0.000000</td>\n",
       "    </tr>\n",
       "  </tbody>\n",
       "</table>\n",
       "</div>"
      ],
      "text/plain": [
       "                    Non-organic-count  Organic-count  Non-organic-portion  \\\n",
       "brands                                                                      \n",
       "365 Everyday Value                616            297             0.674699   \n",
       "Ahold                            1285             92             0.933188   \n",
       "Archer Farms                      309              3             0.990385   \n",
       "Big Y                             513              0             1.000000   \n",
       "Brookshire's                      457              0             1.000000   \n",
       "\n",
       "                    Organic-portion  Non-organic-sugar  Organic-sugar  \\\n",
       "brands                                                                  \n",
       "365 Everyday Value         0.325061            5851.36        2980.07   \n",
       "Ahold                      0.066767           18134.62         765.59   \n",
       "Archer Farms               0.009585            4852.67           6.94   \n",
       "Big Y                      0.000000            6022.27           0.00   \n",
       "Brookshire's               0.000000            7176.99           0.00   \n",
       "\n",
       "                    N-sugar-portion  O-sugar-portion  Non-organic-salt  \\\n",
       "brands                                                                   \n",
       "365 Everyday Value         0.662561         0.337414         631.16714   \n",
       "Ahold                      0.959493         0.040505        1436.64940   \n",
       "Archer Farms               0.998572         0.001428         409.94330   \n",
       "Big Y                      1.000000         0.000000         569.35938   \n",
       "Brookshire's               1.000000         0.000000        1205.75324   \n",
       "\n",
       "                    Organic-salt  N-salt-portion  O-salt-portion  \n",
       "brands                                                            \n",
       "365 Everyday Value     240.03254        0.724480        0.275291  \n",
       "Ahold                   54.17820        0.963659        0.036318  \n",
       "Archer Farms             1.92786        0.995319        0.004669  \n",
       "Big Y                    0.00000        1.000000        0.000000  \n",
       "Brookshire's             0.00000        1.000000        0.000000  "
      ]
     },
     "execution_count": 165,
     "metadata": {},
     "output_type": "execute_result"
    }
   ],
   "source": [
    "df_brand.head()"
   ]
  },
  {
   "cell_type": "code",
   "execution_count": 167,
   "metadata": {},
   "outputs": [
    {
     "data": {
      "text/html": [
       "<div>\n",
       "<style scoped>\n",
       "    .dataframe tbody tr th:only-of-type {\n",
       "        vertical-align: middle;\n",
       "    }\n",
       "\n",
       "    .dataframe tbody tr th {\n",
       "        vertical-align: top;\n",
       "    }\n",
       "\n",
       "    .dataframe thead th {\n",
       "        text-align: right;\n",
       "    }\n",
       "</style>\n",
       "<table border=\"1\" class=\"dataframe\">\n",
       "  <thead>\n",
       "    <tr style=\"text-align: right;\">\n",
       "      <th></th>\n",
       "      <th>organic_count</th>\n",
       "      <th>organic_portion</th>\n",
       "      <th>total_sugar</th>\n",
       "      <th>total_sugar_portion</th>\n",
       "      <th>total_salt</th>\n",
       "      <th>total_salt_portion</th>\n",
       "    </tr>\n",
       "  </thead>\n",
       "  <tbody>\n",
       "    <tr>\n",
       "      <th>Non-organic</th>\n",
       "      <td>161234</td>\n",
       "      <td>0.947137</td>\n",
       "      <td>2574143.986</td>\n",
       "      <td>0.959145</td>\n",
       "      <td>362371.076512</td>\n",
       "      <td>0.98335</td>\n",
       "    </tr>\n",
       "    <tr>\n",
       "      <th>organic</th>\n",
       "      <td>8999</td>\n",
       "      <td>0.052863</td>\n",
       "      <td>109646.387</td>\n",
       "      <td>0.040855</td>\n",
       "      <td>6135.461875</td>\n",
       "      <td>0.01665</td>\n",
       "    </tr>\n",
       "  </tbody>\n",
       "</table>\n",
       "</div>"
      ],
      "text/plain": [
       "             organic_count  organic_portion  total_sugar  total_sugar_portion  \\\n",
       "Non-organic         161234         0.947137  2574143.986             0.959145   \n",
       "organic               8999         0.052863   109646.387             0.040855   \n",
       "\n",
       "                total_salt  total_salt_portion  \n",
       "Non-organic  362371.076512             0.98335  \n",
       "organic        6135.461875             0.01665  "
      ]
     },
     "execution_count": 167,
     "metadata": {},
     "output_type": "execute_result"
    }
   ],
   "source": [
    "df_grp_organic.head()"
   ]
  },
  {
   "cell_type": "code",
   "execution_count": 179,
   "metadata": {},
   "outputs": [
    {
     "data": {
      "text/plain": [
       "<matplotlib.axes._subplots.AxesSubplot at 0x23130922a90>"
      ]
     },
     "execution_count": 179,
     "metadata": {},
     "output_type": "execute_result"
    },
    {
     "data": {
      "image/png": "[encoded data removed]",
      "text/plain": [
       "<matplotlib.figure.Figure at 0x231308f2400>"
      ]
     },
     "metadata": {},
     "output_type": "display_data"
    }
   ],
   "source": [
    "df_grp_organic['organic_count'].plot(kind='pie', figsize=(5,5))"
   ]
  },
  {
   "cell_type": "code",
   "execution_count": 182,
   "metadata": {},
   "outputs": [],
   "source": [
    "#plt.scatter(df_base['salt_100g'],df_base['sugars_100g'])"
   ]
  },
  {
   "cell_type": "code",
   "execution_count": null,
   "metadata": {},
   "outputs": [],
   "source": []
  }
 ],
 "metadata": {
  "kernelspec": {
   "display_name": "Python 3",
   "language": "python",
   "name": "python3"
  },
  "language_info": {
   "codemirror_mode": {
    "name": "ipython",
    "version": 3
   },
   "file_extension": ".py",
   "mimetype": "text/x-python",
   "name": "python",
   "nbconvert_exporter": "python",
   "pygments_lexer": "ipython3",
   "version": "3.6.4"
  }
 },
 "nbformat": 4,
 "nbformat_minor": 2
}
