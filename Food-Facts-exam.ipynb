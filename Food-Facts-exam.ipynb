{
 "cells": [
  {
   "cell_type": "code",
   "execution_count": 1,
   "metadata": {
    "collapsed": true
   },
   "outputs": [],
   "source": [
    "%matplotlib inline\n",
    "\n",
    "import numpy as np\n",
    "import pandas as pd\n",
    "import seaborn as sns\n",
    "import matplotlib.pyplot as plt"
   ]
  },
  {
   "cell_type": "markdown",
   "metadata": {},
   "source": [
    "# How Much Sugar Do We Eat?\n",
    "After watching That Sugar Film and getting more into cooking and food in general, I thought it would be interesting to see how much of particular ingredients the people of certain countries eat in their food."
   ]
  },
  {
   "cell_type": "markdown",
   "metadata": {},
   "source": [
    "## Sugar\n",
    "The first check was how much sugar a number of countries take in. Companies have been putting more and more sugar into the products we eat for a number of decades now, particularly in products like soft drinks/sodas, which isn't great for our bodies. There are some stereotypical guesses one could make about the countries that consume the most sugar, but doing some data analysis is generally more informative."
   ]
  },
  {
   "cell_type": "code",
   "execution_count": null,
   "metadata": {
    "collapsed": true
   },
   "outputs": [],
   "source": []
  },
  {
   "cell_type": "code",
   "execution_count": null,
   "metadata": {
    "collapsed": true
   },
   "outputs": [],
   "source": []
  },
  {
   "cell_type": "code",
   "execution_count": 3,
   "metadata": {},
   "outputs": [
    {
     "name": "stderr",
     "output_type": "stream",
     "text": [
      "C:\\Users\\TaeWoo\\Anaconda3\\lib\\site-packages\\IPython\\core\\interactiveshell.py:2698: DtypeWarning: Columns (0,3,5,19,20,24,25,26,27,28,36,37,38,39,48) have mixed types. Specify dtype option on import or set low_memory=False.\n",
      "  interactivity=interactivity, compiler=compiler, result=result)\n"
     ]
    }
   ],
   "source": [
    "df_base = pd.read_csv('data/food-facts/en.openfoodfacts.org.products.tsv', sep='\\t')"
   ]
  },
  {
   "cell_type": "code",
   "execution_count": 13,
   "metadata": {},
   "outputs": [
    {
     "data": {
      "image/png": "[encoded data removed]",
      "text/plain": [
       "<matplotlib.figure.Figure at 0x8b367f9b38>"
      ]
     },
     "metadata": {},
     "output_type": "display_data"
    }
   ],
   "source": [
    "df_base.countries = df_base.countries.str.lower()\n",
    "\n",
    "# 1. using groupby to group the rows by the country\n",
    "# 2. as_index prevents forming of country as the second index and keeps it as a column. \n",
    "#    If you don't do this country will no longer be accesible as an column\n",
    "# 3. using mean() to find the mean of each group. aggegate(np.mean()) can also be used but mean() is cythonized so is faster\n",
    "mean_by_country = df_base.groupby('countries', as_index = False).mean()\n",
    "\n",
    "# define desired countries and access their means to plot\n",
    "ind = mean_by_country.countries.isin(['france', 'south africa', 'united states', 'united kingdom', 'india', 'china']) \n",
    "mean_by_country.loc[ind].plot(x='countries', y='sugars_100g', kind ='bar')\n",
    "\n",
    "# plot labelling\n",
    "plt.title('Average total sugar content per 100g')\n",
    "plt.ylabel('Sugar/100g')\n",
    "plt.show()"
   ]
  },
  {
   "cell_type": "code",
   "execution_count": 15,
   "metadata": {},
   "outputs": [
    {
     "data": {
      "image/png": "[encoded data removed]",
      "text/plain": [
       "<matplotlib.figure.Figure at 0x8b424680f0>"
      ]
     },
     "metadata": {},
     "output_type": "display_data"
    }
   ],
   "source": [
    "def mean(l):\n",
    "    return float(sum(l)) / len(l)\n",
    "\n",
    "world_sugars = df_base[df_base.sugars_100g.notnull()]\n",
    "\n",
    "def return_sugars(country):\n",
    "    return world_sugars[world_sugars.countries == country].sugars_100g.tolist()\n",
    "    \n",
    "# Get list of sugars per 100g for some countries\n",
    "fr_sugars = return_sugars('france') + return_sugars('en:fr')\n",
    "za_sugars = return_sugars('south africa')\n",
    "uk_sugars = return_sugars('united kingdom') + return_sugars('en:gb')\n",
    "us_sugars = return_sugars('united states') + return_sugars('en:us') + return_sugars('us')\n",
    "sp_sugars = return_sugars('spain') + return_sugars('españa') + return_sugars('en:es')\n",
    "nd_sugars = return_sugars('netherlands') + return_sugars('holland')\n",
    "au_sugars = return_sugars('australia') + return_sugars('en:au')\n",
    "cn_sugars = return_sugars('canada') + return_sugars('en:cn')\n",
    "de_sugars = return_sugars('germany')\n",
    "\n",
    "countries = ['FR', 'ZA', 'UK', 'US', 'ES', 'ND', 'AU', 'CN', 'DE']\n",
    "sugars_l = [mean(fr_sugars), \n",
    "            mean(za_sugars), \n",
    "            mean(uk_sugars), \n",
    "            mean(us_sugars), \n",
    "            mean(sp_sugars), \n",
    "            mean(nd_sugars),\n",
    "            mean(au_sugars),\n",
    "            mean(cn_sugars),\n",
    "            mean(de_sugars)]\n",
    "            \n",
    "y_pos = np.arange(len(countries))\n",
    "    \n",
    "plt.bar(y_pos, sugars_l, align='center', alpha=0.5)\n",
    "plt.title('Average total sugar content per 100g')\n",
    "plt.xticks(y_pos, countries)\n",
    "plt.ylabel('Sugar/100g')\n",
    "    \n",
    "plt.show()"
   ]
  },
  {
   "cell_type": "markdown",
   "metadata": {},
   "source": [
    "## Which countries eat the most sugar?\n",
    "Interesting results, although for a number of countries the amount of data is a lot less (particularly countries like South Africa), and thus the data can be skewed. Another interesting note is the lack of any data on total sugars for Asian countries such as Japan and China. There are not many data entries for these countries either, but there are enough to make me wonder why there is no data on their sugar intake.\n",
    "\n",
    "I'm making an assumption that food in the database, tied to a country, is consumed on a regular basis by its citizens, or at least often enough to keep these products on the shelves. The ranking of the countries analysed was this:\n",
    "\n",
    "- Netherlands\n",
    "- Canada\n",
    "- UK/USA\n",
    "- Australia\n",
    "- France\n",
    "- Germany\n",
    "- Spain\n",
    "- South Africa"
   ]
  },
  {
   "cell_type": "code",
   "execution_count": 9,
   "metadata": {},
   "outputs": [
    {
     "data": {
      "text/plain": [
       "(356027, 163)"
      ]
     },
     "execution_count": 9,
     "metadata": {},
     "output_type": "execute_result"
    }
   ],
   "source": [
    "df_base.shape"
   ]
  },
  {
   "cell_type": "code",
   "execution_count": 12,
   "metadata": {},
   "outputs": [
    {
     "data": {
      "text/html": [
       "<div>\n",
       "<style>\n",
       "    .dataframe thead tr:only-child th {\n",
       "        text-align: right;\n",
       "    }\n",
       "\n",
       "    .dataframe thead th {\n",
       "        text-align: left;\n",
       "    }\n",
       "\n",
       "    .dataframe tbody tr th {\n",
       "        vertical-align: top;\n",
       "    }\n",
       "</style>\n",
       "<table border=\"1\" class=\"dataframe\">\n",
       "  <thead>\n",
       "    <tr style=\"text-align: right;\">\n",
       "      <th></th>\n",
       "      <th>code</th>\n",
       "      <th>url</th>\n",
       "      <th>creator</th>\n",
       "      <th>created_t</th>\n",
       "      <th>created_datetime</th>\n",
       "      <th>last_modified_t</th>\n",
       "      <th>last_modified_datetime</th>\n",
       "      <th>product_name</th>\n",
       "      <th>generic_name</th>\n",
       "      <th>quantity</th>\n",
       "      <th>...</th>\n",
       "      <th>fruits-vegetables-nuts_100g</th>\n",
       "      <th>fruits-vegetables-nuts-estimate_100g</th>\n",
       "      <th>collagen-meat-protein-ratio_100g</th>\n",
       "      <th>cocoa_100g</th>\n",
       "      <th>chlorophyl_100g</th>\n",
       "      <th>carbon-footprint_100g</th>\n",
       "      <th>nutrition-score-fr_100g</th>\n",
       "      <th>nutrition-score-uk_100g</th>\n",
       "      <th>glycemic-index_100g</th>\n",
       "      <th>water-hardness_100g</th>\n",
       "    </tr>\n",
       "  </thead>\n",
       "  <tbody>\n",
       "    <tr>\n",
       "      <th>0</th>\n",
       "      <td>3087</td>\n",
       "      <td>http://world-en.openfoodfacts.org/product/0000...</td>\n",
       "      <td>openfoodfacts-contributors</td>\n",
       "      <td>1474103866</td>\n",
       "      <td>2016-09-17T09:17:46Z</td>\n",
       "      <td>1474103893</td>\n",
       "      <td>2016-09-17T09:18:13Z</td>\n",
       "      <td>Farine de blé noir</td>\n",
       "      <td>NaN</td>\n",
       "      <td>1kg</td>\n",
       "      <td>...</td>\n",
       "      <td>NaN</td>\n",
       "      <td>NaN</td>\n",
       "      <td>NaN</td>\n",
       "      <td>NaN</td>\n",
       "      <td>NaN</td>\n",
       "      <td>NaN</td>\n",
       "      <td>NaN</td>\n",
       "      <td>NaN</td>\n",
       "      <td>NaN</td>\n",
       "      <td>NaN</td>\n",
       "    </tr>\n",
       "    <tr>\n",
       "      <th>1</th>\n",
       "      <td>4530</td>\n",
       "      <td>http://world-en.openfoodfacts.org/product/0000...</td>\n",
       "      <td>usda-ndb-import</td>\n",
       "      <td>1489069957</td>\n",
       "      <td>2017-03-09T14:32:37Z</td>\n",
       "      <td>1489069957</td>\n",
       "      <td>2017-03-09T14:32:37Z</td>\n",
       "      <td>Banana Chips Sweetened (Whole)</td>\n",
       "      <td>NaN</td>\n",
       "      <td>NaN</td>\n",
       "      <td>...</td>\n",
       "      <td>NaN</td>\n",
       "      <td>NaN</td>\n",
       "      <td>NaN</td>\n",
       "      <td>NaN</td>\n",
       "      <td>NaN</td>\n",
       "      <td>NaN</td>\n",
       "      <td>14.0</td>\n",
       "      <td>14.0</td>\n",
       "      <td>NaN</td>\n",
       "      <td>NaN</td>\n",
       "    </tr>\n",
       "    <tr>\n",
       "      <th>2</th>\n",
       "      <td>4559</td>\n",
       "      <td>http://world-en.openfoodfacts.org/product/0000...</td>\n",
       "      <td>usda-ndb-import</td>\n",
       "      <td>1489069957</td>\n",
       "      <td>2017-03-09T14:32:37Z</td>\n",
       "      <td>1489069957</td>\n",
       "      <td>2017-03-09T14:32:37Z</td>\n",
       "      <td>Peanuts</td>\n",
       "      <td>NaN</td>\n",
       "      <td>NaN</td>\n",
       "      <td>...</td>\n",
       "      <td>NaN</td>\n",
       "      <td>NaN</td>\n",
       "      <td>NaN</td>\n",
       "      <td>NaN</td>\n",
       "      <td>NaN</td>\n",
       "      <td>NaN</td>\n",
       "      <td>0.0</td>\n",
       "      <td>0.0</td>\n",
       "      <td>NaN</td>\n",
       "      <td>NaN</td>\n",
       "    </tr>\n",
       "    <tr>\n",
       "      <th>3</th>\n",
       "      <td>16087</td>\n",
       "      <td>http://world-en.openfoodfacts.org/product/0000...</td>\n",
       "      <td>usda-ndb-import</td>\n",
       "      <td>1489055731</td>\n",
       "      <td>2017-03-09T10:35:31Z</td>\n",
       "      <td>1489055731</td>\n",
       "      <td>2017-03-09T10:35:31Z</td>\n",
       "      <td>Organic Salted Nut Mix</td>\n",
       "      <td>NaN</td>\n",
       "      <td>NaN</td>\n",
       "      <td>...</td>\n",
       "      <td>NaN</td>\n",
       "      <td>NaN</td>\n",
       "      <td>NaN</td>\n",
       "      <td>NaN</td>\n",
       "      <td>NaN</td>\n",
       "      <td>NaN</td>\n",
       "      <td>12.0</td>\n",
       "      <td>12.0</td>\n",
       "      <td>NaN</td>\n",
       "      <td>NaN</td>\n",
       "    </tr>\n",
       "    <tr>\n",
       "      <th>4</th>\n",
       "      <td>16094</td>\n",
       "      <td>http://world-en.openfoodfacts.org/product/0000...</td>\n",
       "      <td>usda-ndb-import</td>\n",
       "      <td>1489055653</td>\n",
       "      <td>2017-03-09T10:34:13Z</td>\n",
       "      <td>1489055653</td>\n",
       "      <td>2017-03-09T10:34:13Z</td>\n",
       "      <td>Organic Polenta</td>\n",
       "      <td>NaN</td>\n",
       "      <td>NaN</td>\n",
       "      <td>...</td>\n",
       "      <td>NaN</td>\n",
       "      <td>NaN</td>\n",
       "      <td>NaN</td>\n",
       "      <td>NaN</td>\n",
       "      <td>NaN</td>\n",
       "      <td>NaN</td>\n",
       "      <td>NaN</td>\n",
       "      <td>NaN</td>\n",
       "      <td>NaN</td>\n",
       "      <td>NaN</td>\n",
       "    </tr>\n",
       "  </tbody>\n",
       "</table>\n",
       "<p>5 rows × 163 columns</p>\n",
       "</div>"
      ],
      "text/plain": [
       "    code                                                url  \\\n",
       "0   3087  http://world-en.openfoodfacts.org/product/0000...   \n",
       "1   4530  http://world-en.openfoodfacts.org/product/0000...   \n",
       "2   4559  http://world-en.openfoodfacts.org/product/0000...   \n",
       "3  16087  http://world-en.openfoodfacts.org/product/0000...   \n",
       "4  16094  http://world-en.openfoodfacts.org/product/0000...   \n",
       "\n",
       "                      creator   created_t      created_datetime  \\\n",
       "0  openfoodfacts-contributors  1474103866  2016-09-17T09:17:46Z   \n",
       "1             usda-ndb-import  1489069957  2017-03-09T14:32:37Z   \n",
       "2             usda-ndb-import  1489069957  2017-03-09T14:32:37Z   \n",
       "3             usda-ndb-import  1489055731  2017-03-09T10:35:31Z   \n",
       "4             usda-ndb-import  1489055653  2017-03-09T10:34:13Z   \n",
       "\n",
       "  last_modified_t last_modified_datetime                    product_name  \\\n",
       "0      1474103893   2016-09-17T09:18:13Z              Farine de blé noir   \n",
       "1      1489069957   2017-03-09T14:32:37Z  Banana Chips Sweetened (Whole)   \n",
       "2      1489069957   2017-03-09T14:32:37Z                         Peanuts   \n",
       "3      1489055731   2017-03-09T10:35:31Z          Organic Salted Nut Mix   \n",
       "4      1489055653   2017-03-09T10:34:13Z                 Organic Polenta   \n",
       "\n",
       "  generic_name quantity         ...         fruits-vegetables-nuts_100g  \\\n",
       "0          NaN      1kg         ...                                 NaN   \n",
       "1          NaN      NaN         ...                                 NaN   \n",
       "2          NaN      NaN         ...                                 NaN   \n",
       "3          NaN      NaN         ...                                 NaN   \n",
       "4          NaN      NaN         ...                                 NaN   \n",
       "\n",
       "  fruits-vegetables-nuts-estimate_100g collagen-meat-protein-ratio_100g  \\\n",
       "0                                  NaN                              NaN   \n",
       "1                                  NaN                              NaN   \n",
       "2                                  NaN                              NaN   \n",
       "3                                  NaN                              NaN   \n",
       "4                                  NaN                              NaN   \n",
       "\n",
       "  cocoa_100g chlorophyl_100g carbon-footprint_100g nutrition-score-fr_100g  \\\n",
       "0        NaN             NaN                   NaN                     NaN   \n",
       "1        NaN             NaN                   NaN                    14.0   \n",
       "2        NaN             NaN                   NaN                     0.0   \n",
       "3        NaN             NaN                   NaN                    12.0   \n",
       "4        NaN             NaN                   NaN                     NaN   \n",
       "\n",
       "  nutrition-score-uk_100g glycemic-index_100g water-hardness_100g  \n",
       "0                     NaN                 NaN                 NaN  \n",
       "1                    14.0                 NaN                 NaN  \n",
       "2                     0.0                 NaN                 NaN  \n",
       "3                    12.0                 NaN                 NaN  \n",
       "4                     NaN                 NaN                 NaN  \n",
       "\n",
       "[5 rows x 163 columns]"
      ]
     },
     "execution_count": 12,
     "metadata": {},
     "output_type": "execute_result"
    }
   ],
   "source": [
    "df_base.head()"
   ]
  },
  {
   "cell_type": "code",
   "execution_count": 8,
   "metadata": {},
   "outputs": [
    {
     "data": {
      "text/plain": [
       "array(['code', 'url', 'creator', 'created_t', 'created_datetime',\n",
       "       'last_modified_t', 'last_modified_datetime', 'product_name',\n",
       "       'generic_name', 'quantity', 'packaging', 'packaging_tags', 'brands',\n",
       "       'brands_tags', 'categories', 'categories_tags', 'categories_en',\n",
       "       'origins', 'origins_tags', 'manufacturing_places',\n",
       "       'manufacturing_places_tags', 'labels', 'labels_tags', 'labels_en',\n",
       "       'emb_codes', 'emb_codes_tags', 'first_packaging_code_geo', 'cities',\n",
       "       'cities_tags', 'purchase_places', 'stores', 'countries',\n",
       "       'countries_tags', 'countries_en', 'ingredients_text', 'allergens',\n",
       "       'allergens_en', 'traces', 'traces_tags', 'traces_en',\n",
       "       'serving_size', 'no_nutriments', 'additives_n', 'additives',\n",
       "       'additives_tags', 'additives_en', 'ingredients_from_palm_oil_n',\n",
       "       'ingredients_from_palm_oil', 'ingredients_from_palm_oil_tags',\n",
       "       'ingredients_that_may_be_from_palm_oil_n',\n",
       "       'ingredients_that_may_be_from_palm_oil',\n",
       "       'ingredients_that_may_be_from_palm_oil_tags', 'nutrition_grade_uk',\n",
       "       'nutrition_grade_fr', 'pnns_groups_1', 'pnns_groups_2', 'states',\n",
       "       'states_tags', 'states_en', 'main_category', 'main_category_en',\n",
       "       'image_url', 'image_small_url', 'energy_100g',\n",
       "       'energy-from-fat_100g', 'fat_100g', 'saturated-fat_100g',\n",
       "       '-butyric-acid_100g', '-caproic-acid_100g', '-caprylic-acid_100g',\n",
       "       '-capric-acid_100g', '-lauric-acid_100g', '-myristic-acid_100g',\n",
       "       '-palmitic-acid_100g', '-stearic-acid_100g', '-arachidic-acid_100g',\n",
       "       '-behenic-acid_100g', '-lignoceric-acid_100g', '-cerotic-acid_100g',\n",
       "       '-montanic-acid_100g', '-melissic-acid_100g',\n",
       "       'monounsaturated-fat_100g', 'polyunsaturated-fat_100g',\n",
       "       'omega-3-fat_100g', '-alpha-linolenic-acid_100g',\n",
       "       '-eicosapentaenoic-acid_100g', '-docosahexaenoic-acid_100g',\n",
       "       'omega-6-fat_100g', '-linoleic-acid_100g', '-arachidonic-acid_100g',\n",
       "       '-gamma-linolenic-acid_100g', '-dihomo-gamma-linolenic-acid_100g',\n",
       "       'omega-9-fat_100g', '-oleic-acid_100g', '-elaidic-acid_100g',\n",
       "       '-gondoic-acid_100g', '-mead-acid_100g', '-erucic-acid_100g',\n",
       "       '-nervonic-acid_100g', 'trans-fat_100g', 'cholesterol_100g',\n",
       "       'carbohydrates_100g', 'sugars_100g', '-sucrose_100g',\n",
       "       '-glucose_100g', '-fructose_100g', '-lactose_100g', '-maltose_100g',\n",
       "       '-maltodextrins_100g', 'starch_100g', 'polyols_100g', 'fiber_100g',\n",
       "       'proteins_100g', 'casein_100g', 'serum-proteins_100g',\n",
       "       'nucleotides_100g', 'salt_100g', 'sodium_100g', 'alcohol_100g',\n",
       "       'vitamin-a_100g', 'beta-carotene_100g', 'vitamin-d_100g',\n",
       "       'vitamin-e_100g', 'vitamin-k_100g', 'vitamin-c_100g',\n",
       "       'vitamin-b1_100g', 'vitamin-b2_100g', 'vitamin-pp_100g',\n",
       "       'vitamin-b6_100g', 'vitamin-b9_100g', 'folates_100g',\n",
       "       'vitamin-b12_100g', 'biotin_100g', 'pantothenic-acid_100g',\n",
       "       'silica_100g', 'bicarbonate_100g', 'potassium_100g',\n",
       "       'chloride_100g', 'calcium_100g', 'phosphorus_100g', 'iron_100g',\n",
       "       'magnesium_100g', 'zinc_100g', 'copper_100g', 'manganese_100g',\n",
       "       'fluoride_100g', 'selenium_100g', 'chromium_100g',\n",
       "       'molybdenum_100g', 'iodine_100g', 'caffeine_100g', 'taurine_100g',\n",
       "       'ph_100g', 'fruits-vegetables-nuts_100g',\n",
       "       'fruits-vegetables-nuts-estimate_100g',\n",
       "       'collagen-meat-protein-ratio_100g', 'cocoa_100g', 'chlorophyl_100g',\n",
       "       'carbon-footprint_100g', 'nutrition-score-fr_100g',\n",
       "       'nutrition-score-uk_100g', 'glycemic-index_100g',\n",
       "       'water-hardness_100g'], dtype=object)"
      ]
     },
     "execution_count": 8,
     "metadata": {},
     "output_type": "execute_result"
    }
   ],
   "source": [
    "df_base.columns.values"
   ]
  },
  {
   "cell_type": "code",
   "execution_count": 17,
   "metadata": {},
   "outputs": [
    {
     "data": {
      "image/png": "[encoded data removed]",
      "text/plain": [
       "<matplotlib.figure.Figure at 0x8b717e8ef0>"
      ]
     },
     "metadata": {},
     "output_type": "display_data"
    }
   ],
   "source": [
    "world_sodium = df_base[df_base.sodium_100g.notnull()]\n",
    "\n",
    "def return_sodium(country):\n",
    "    return world_sodium[world_sodium.countries == country].sodium_100g.tolist()\n",
    "    \n",
    "# Get list of sodium per 100g for some countries\n",
    "fr_sodium = return_sodium('france') + return_sodium('en:fr')\n",
    "za_sodium = return_sodium('south africa')\n",
    "uk_sodium = return_sodium('united kingdom') + return_sodium('en:gb')\n",
    "us_sodium = return_sodium('united states') + return_sodium('en:us') + return_sodium('us')\n",
    "sp_sodium = return_sodium('spain') + return_sodium('españa') + return_sodium('en:es')\n",
    "ch_sodium = return_sodium('china')\n",
    "nd_sodium = return_sodium('netherlands') + return_sodium('holland')\n",
    "au_sodium = return_sodium('australia') + return_sodium('en:au')\n",
    "jp_sodium = return_sodium('japan') + return_sodium('en:jp')\n",
    "de_sodium = return_sodium('germany')\n",
    "\n",
    "countries = ['FR', 'ZA', 'UK', 'USA', 'ES', 'CH', 'ND', 'AU', 'JP', 'DE']\n",
    "sodium_l = [mean(fr_sodium), \n",
    "            mean(za_sodium), \n",
    "            mean(uk_sodium), \n",
    "            mean(us_sodium), \n",
    "            mean(sp_sodium), \n",
    "            mean(ch_sodium),\n",
    "            mean(nd_sodium),\n",
    "            mean(au_sodium),\n",
    "            mean(jp_sodium),\n",
    "            mean(de_sodium)]\n",
    "\n",
    "y_pos = np.arange(len(countries))\n",
    "    \n",
    "plt.bar(y_pos, sodium_l, align='center', alpha=0.5)\n",
    "plt.title('Average sodium content per 100g')\n",
    "plt.xticks(y_pos, countries)\n",
    "plt.ylabel('Sodium/100g')\n",
    "    \n",
    "plt.show()"
   ]
  },
  {
   "cell_type": "markdown",
   "metadata": {},
   "source": [
    "## Which countries eat the most salt?\n",
    "Same as before, based on the same assumptions. Also of interest is that the amount of sodium in food, on average per 100g, is far, far less than the amount of sugar.\n",
    "\n",
    "The countries analysed were ranked like so:\n",
    "\n",
    "- China\n",
    "- Netherlands\n",
    "- USA\n",
    "- Australia\n",
    "- Spain\n",
    "- France\n",
    "- Germany\n",
    "- UK\n",
    "- South Africa\n",
    "- Japan"
   ]
  },
  {
   "cell_type": "markdown",
   "metadata": {},
   "source": [
    "## How Many Additives Are In Our Food?\n",
    "Next is how many additives are in our food on average"
   ]
  },
  {
   "cell_type": "code",
   "execution_count": 18,
   "metadata": {},
   "outputs": [
    {
     "data": {
      "image/png": "[encoded data removed]",
      "text/plain": [
       "<matplotlib.figure.Figure at 0x8b00003828>"
      ]
     },
     "metadata": {},
     "output_type": "display_data"
    }
   ],
   "source": [
    "world_additives = df_base[df_base.additives_n.notnull()]\n",
    "\n",
    "def return_additives(country):\n",
    "    return world_additives[world_additives.countries == country].additives_n.tolist()\n",
    "    \n",
    "# Get list of additives amounts for some countries\n",
    "fr_additives = return_additives('france') + return_additives('en:fr')\n",
    "za_additives = return_additives('south africa')\n",
    "uk_additives = return_additives('united kingdom') + return_additives('en:gb')\n",
    "us_additives = return_additives('united states') + return_additives('en:us') + return_additives('us')\n",
    "sp_additives = return_additives('spain') + return_additives('españa') + return_additives('en:es')\n",
    "ch_additives = return_additives('china')\n",
    "nd_additives = return_additives('netherlands') + return_additives('holland')\n",
    "au_additives = return_additives('australia') + return_additives('en:au')\n",
    "jp_additives = return_additives('japan') + return_additives('en:jp')\n",
    "de_additives = return_additives('germany')\n",
    "\n",
    "countries = ['FR', 'ZA', 'UK', 'US', 'ES', 'CH', 'ND', 'AU', 'JP', 'DE']\n",
    "additives_l = [mean(fr_additives), \n",
    "            mean(za_additives), \n",
    "            mean(uk_additives), \n",
    "            mean(us_additives), \n",
    "            mean(sp_additives), \n",
    "            mean(ch_additives),\n",
    "            mean(nd_additives),\n",
    "            mean(au_additives),\n",
    "            mean(jp_additives),\n",
    "            mean(de_additives)]\n",
    "\n",
    "y_pos = np.arange(len(countries))\n",
    "    \n",
    "plt.bar(y_pos, sodium_l, align='center', alpha=0.5)\n",
    "plt.title('Average amount of additives')\n",
    "plt.xticks(y_pos, countries)\n",
    "plt.ylabel('Amount of additives')\n",
    "    \n",
    "plt.show()"
   ]
  },
  {
   "cell_type": "markdown",
   "metadata": {},
   "source": [
    "## Which countries' food contains the most additives?\n",
    "I don't really worry about how many additives are in my food, but the results here are interesting again, mostly because it seems like there aren't any countries who consistently have the loweset/highest averages for these supposedly unhealthy ingredients.\n",
    "\n",
    "The possible exceptions to this would be China, the Netherlands, and the USA. South Africa and Japan consistently have lower amounts, but they also have only a few entries in the dataset in general, which means their results could be biased in relation to other countries.\n",
    "\n",
    "Ranking of countries by the amount of additives in their food:\n",
    "\n",
    "- China\n",
    "- Netherlands\n",
    "- USA\n",
    "- France\n",
    "- Australia\n",
    "- Spain\n",
    "- Germany\n",
    "- UK\n",
    "- South Africa\n",
    "- Japan"
   ]
  },
  {
   "cell_type": "code",
   "execution_count": null,
   "metadata": {
    "collapsed": true
   },
   "outputs": [],
   "source": []
  }
 ],
 "metadata": {
  "kernelspec": {
   "display_name": "Python 3",
   "language": "python",
   "name": "python3"
  },
  "language_info": {
   "codemirror_mode": {
    "name": "ipython",
    "version": 3
   },
   "file_extension": ".py",
   "mimetype": "text/x-python",
   "name": "python",
   "nbconvert_exporter": "python",
   "pygments_lexer": "ipython3",
   "version": "3.6.3"
  }
 },
 "nbformat": 4,
 "nbformat_minor": 2
}
