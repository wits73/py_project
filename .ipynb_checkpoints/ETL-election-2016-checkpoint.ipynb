{
 "cells": [
  {
   "cell_type": "code",
   "execution_count": 1,
   "metadata": {},
   "outputs": [],
   "source": [
    "import pandas as pd\n",
    "import numpy as np\n",
    "from bs4 import BeautifulSoup\n",
    "import requests\n",
    "from IPython.display import display, display_pretty, Javascript, HTML"
   ]
  },
  {
   "cell_type": "markdown",
   "metadata": {},
   "source": [
    "# Flow\n",
    "- Download and preprocess county-level results\n",
    "- Downlaod and preprocess county-level metadata\n",
    "- Combine datasets\n",
    "- Export county-level results\n",
    "- Visualize"
   ]
  },
  {
   "cell_type": "markdown",
   "metadata": {},
   "source": [
    "## Townhall data"
   ]
  },
  {
   "cell_type": "code",
   "execution_count": 3,
   "metadata": {},
   "outputs": [],
   "source": [
    "# each page has a summary table that rolls up results at the state level\n",
    "# get rid of it\n",
    "def cond(x):\n",
    "    if x:\n",
    "        return x.startswith(\"table ec-table\") and not \"table ec-table ec-table-summary\" in x\n",
    "    else:\n",
    "        return False"
   ]
  },
  {
   "cell_type": "code",
   "execution_count": 4,
   "metadata": {},
   "outputs": [],
   "source": [
    "# list of state abbreviations\n",
    "states = ['AL','AK','AZ','AR','CA','CO','CT','DC','DE','FL','GA','HI','ID','IL','IN','IA','KS','KY','LA','ME','MD','MA','MI','MN','MS','MO','MT','NE','NV','NH','NJ','NM','NY','NC','ND','OH','OK','OR','PA','RI','SC','SD','TN','TX','UT','VT','VA','WA','WV','WI','WY']\n",
    "\n",
    "# headers for csv export\n",
    "data = [['state_abbr', 'county_name', 'party', 'votes_total']]"
   ]
  },
  {
   "cell_type": "code",
   "execution_count": 9,
   "metadata": {},
   "outputs": [],
   "source": [
    "# loop through each state's web page http://townhall.com/election/2016/president/%s/county, where %s is the state abbr\n",
    "for state in states:\n",
    "    #r = req.urlopen('http://townhall.com/election/2016/president/' + state + '/county')\n",
    "    page = requests.get('http://townhall.com/election/2016/president/' + state + '/county')\n",
    "    soup = BeautifulSoup(page.text, 'html.parser')\n",
    "    \n",
    "    # loop through each <table> tag with .ec-table class\n",
    "    tables = soup.findAll('table', attrs={'class':cond})\n",
    "    \n",
    "    for table in tables:\n",
    "        if table.findParent(\"table\") is None:\n",
    "            table_body = table.find('tbody')\n",
    "\n",
    "            rows = table_body.find_all('tr')\n",
    "            for row in rows:\n",
    "                cols = row.find_all('td')\n",
    "                # first tbody tr has four td\n",
    "                if len(cols) == 4:\n",
    "                    # strip text from each td\n",
    "                    divs = cols[0].find_all('div')\n",
    "                    county = divs[0].text.strip()\n",
    "                    party = cols[1]['class'][0]\n",
    "                    total_votes = int(cols[2].text.strip().replace(',','').replace('-','0'))\n",
    "                # all other tbody tr have three td\n",
    "                else:\n",
    "                    party = cols[1]['class'][0]\n",
    "                    total_votes = int(cols[1].text.strip().replace(',','').replace('-','0'))\n",
    "                    \n",
    "                #combine each row's results\n",
    "                rowData = [state,county,party,total_votes]\n",
    "                data.append(rowData)\n"
   ]
  },
  {
   "cell_type": "code",
   "execution_count": 10,
   "metadata": {},
   "outputs": [
    {
     "name": "stdout",
     "output_type": "stream",
     "text": [
      "14188\n"
     ]
    },
    {
     "data": {
      "text/html": [
       "<div>\n",
       "<style scoped>\n",
       "    .dataframe tbody tr th:only-of-type {\n",
       "        vertical-align: middle;\n",
       "    }\n",
       "\n",
       "    .dataframe tbody tr th {\n",
       "        vertical-align: top;\n",
       "    }\n",
       "\n",
       "    .dataframe thead th {\n",
       "        text-align: right;\n",
       "    }\n",
       "</style>\n",
       "<table border=\"1\" class=\"dataframe\">\n",
       "  <thead>\n",
       "    <tr style=\"text-align: right;\">\n",
       "      <th></th>\n",
       "      <th>state_abbr</th>\n",
       "      <th>county_name</th>\n",
       "      <th>party</th>\n",
       "      <th>votes_total</th>\n",
       "    </tr>\n",
       "  </thead>\n",
       "  <tbody>\n",
       "    <tr>\n",
       "      <th>1</th>\n",
       "      <td>AL</td>\n",
       "      <td>Autauga</td>\n",
       "      <td>GOP</td>\n",
       "      <td>18110.0</td>\n",
       "    </tr>\n",
       "    <tr>\n",
       "      <th>2</th>\n",
       "      <td>AL</td>\n",
       "      <td>Autauga</td>\n",
       "      <td>DEM</td>\n",
       "      <td>5908.0</td>\n",
       "    </tr>\n",
       "    <tr>\n",
       "      <th>3</th>\n",
       "      <td>AL</td>\n",
       "      <td>Autauga</td>\n",
       "      <td>IND</td>\n",
       "      <td>538.0</td>\n",
       "    </tr>\n",
       "    <tr>\n",
       "      <th>4</th>\n",
       "      <td>AL</td>\n",
       "      <td>Autauga</td>\n",
       "      <td>IND</td>\n",
       "      <td>105.0</td>\n",
       "    </tr>\n",
       "    <tr>\n",
       "      <th>5</th>\n",
       "      <td>AL</td>\n",
       "      <td>Baldwin</td>\n",
       "      <td>GOP</td>\n",
       "      <td>72780.0</td>\n",
       "    </tr>\n",
       "  </tbody>\n",
       "</table>\n",
       "</div>"
      ],
      "text/plain": [
       "0 state_abbr county_name party  votes_total\n",
       "1         AL     Autauga   GOP      18110.0\n",
       "2         AL     Autauga   DEM       5908.0\n",
       "3         AL     Autauga   IND        538.0\n",
       "4         AL     Autauga   IND        105.0\n",
       "5         AL     Baldwin   GOP      72780.0"
      ]
     },
     "execution_count": 10,
     "metadata": {},
     "output_type": "execute_result"
    }
   ],
   "source": [
    "townhall = pd.DataFrame(data) # throw results in dataframe\n",
    "new_header = townhall.iloc[0] #grab the first row for the header\n",
    "townhall = townhall[1:] #take the data less the header row\n",
    "townhall.columns = new_header #set the header row as the df header\n",
    "townhall['votes_total'] = townhall['votes_total'].astype('float64')\n",
    "print(townhall.shape[0])\n",
    "townhall.head()"
   ]
  },
  {
   "cell_type": "markdown",
   "metadata": {},
   "source": []
  }
 ],
 "metadata": {
  "kernelspec": {
   "display_name": "Python 3",
   "language": "python",
   "name": "python3"
  },
  "language_info": {
   "codemirror_mode": {
    "name": "ipython",
    "version": 3
   },
   "file_extension": ".py",
   "mimetype": "text/x-python",
   "name": "python",
   "nbconvert_exporter": "python",
   "pygments_lexer": "ipython3",
   "version": "3.6.4"
  }
 },
 "nbformat": 4,
 "nbformat_minor": 2
}
