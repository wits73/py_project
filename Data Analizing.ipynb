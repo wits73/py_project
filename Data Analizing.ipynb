{
 "cells": [
  {
   "cell_type": "markdown",
   "metadata": {},
   "source": [
    " # Data Analizing"
   ]
  },
  {
   "cell_type": "markdown",
   "metadata": {},
   "source": [
    "## Data (data set)\n",
    "- \"Data is a set of values of qualitative or quantitative variables; pieces of data are individual pieces of information\" (by Wikipedia)\n",
    "- A collection of values that are collected through measurement or observation of a fact."
   ]
  },
  {
   "cell_type": "markdown",
   "metadata": {},
   "source": [
    "## Analysis\n",
    "- \"Analysis is the process of breaking a complex topic or substance into smaller parts in order to gain a better understanding of it\" (by Wikipedia)\n",
    "- To better undestand a situation or an object, the analizing process breaks down it. ### Data analizing is a effective way in order to understand an object or a situation."
   ]
  },
  {
   "cell_type": "markdown",
   "metadata": {},
   "source": [
    "## Methods for Data Analizing\n",
    "- EDA (Exploratory Data Analysis)\n",
    "- Hypothesis Testing\n",
    "- Machine Learning\n",
    "- Natural Language Processing\n",
    "- Pattern Recognition"
   ]
  },
  {
   "cell_type": "markdown",
   "metadata": {},
   "source": [
    "# Value of Data Analyzing"
   ]
  },
  {
   "cell_type": "markdown",
   "metadata": {},
   "source": [
    "## Amazon recommendation system\n",
    "- Through analysis of the book data that customers purchased before, Amazon has built recommendation system that recommends similar books.\n",
    "- The sales for implementing the system account for 35% of Amazon's total sales."
   ]
  },
  {
   "cell_type": "markdown",
   "metadata": {},
   "source": [
    "## 2014 FIFA World Cup Brasil\n",
    "- The German Football Association has asked SAP AG to analyze video data, individual record data, and team record data from the German national soccer team.\n",
    "- The SAP AG provided detailed feedback on how to improve individual skills and how to improve teamwork through analysis of the data.\n",
    "- As a result, the German national team had a remarkable result in defeating home team Brazil 7-1 in the semifinals and defeating Argentina in the final.\n",
    "\n",
    "## 2012 and 2016 Presidential Elections etcetera"
   ]
  },
  {
   "cell_type": "markdown",
   "metadata": {},
   "source": [
    "# Why Python\n",
    "## Excel vs Python\n",
    "- Excel can only load up to 1,048,576.\n",
    "- Excel is too slow to calulate basic functions over hundres thousand columns. "
   ]
  },
  {
   "cell_type": "markdown",
   "metadata": {},
   "source": [
    "## So, why Python of all the programming languages?\n",
    "\n",
    "- Open source and Free\n",
    "- Programmable as if you were talking to a computher\n",
    "- Vary libraries for data analyzing and visualization such as numpy, pandas, matplotlib etc\n",
    "- Easy to learn\n",
    "- cf. R is almost same as what Python does but R is dedicated statistical analysis and research work."
   ]
  },
  {
   "cell_type": "markdown",
   "metadata": {},
   "source": []
  },
  {
   "cell_type": "markdown",
   "metadata": {},
   "source": []
  },
  {
   "cell_type": "code",
   "execution_count": 1,
   "metadata": {},
   "outputs": [],
   "source": [
    "len?"
   ]
  },
  {
   "cell_type": "code",
   "execution_count": null,
   "metadata": {},
   "outputs": [],
   "source": []
  }
 ],
 "metadata": {
  "kernelspec": {
   "display_name": "Python 3",
   "language": "python",
   "name": "python3"
  },
  "language_info": {
   "codemirror_mode": {
    "name": "ipython",
    "version": 3
   },
   "file_extension": ".py",
   "mimetype": "text/x-python",
   "name": "python",
   "nbconvert_exporter": "python",
   "pygments_lexer": "ipython3",
   "version": "3.6.4"
  }
 },
 "nbformat": 4,
 "nbformat_minor": 2
}
