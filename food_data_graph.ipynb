{
 "cells": [
  {
   "cell_type": "code",
   "execution_count": 34,
   "metadata": {
    "collapsed": true
   },
   "outputs": [],
   "source": [
    "%matplotlib inline\n",
    "\n",
    "import numpy as np\n",
    "import pandas as pd\n",
    "import seaborn as sns\n",
    "import matplotlib.pyplot as plt"
   ]
  },
  {
   "cell_type": "code",
   "execution_count": 72,
   "metadata": {},
   "outputs": [],
   "source": [
    "df_base = pd.read_csv('data/food-facts/data.featureEngineering.tsv', sep='\\t', dtype={'code':str})"
   ]
  },
  {
   "cell_type": "code",
   "execution_count": 73,
   "metadata": {},
   "outputs": [
    {
     "data": {
      "text/plain": [
       "(170239, 13)"
      ]
     },
     "execution_count": 73,
     "metadata": {},
     "output_type": "execute_result"
    }
   ],
   "source": [
    "df_base.shape"
   ]
  },
  {
   "cell_type": "code",
   "execution_count": 75,
   "metadata": {
    "collapsed": true
   },
   "outputs": [],
   "source": [
    "df_base = df_base.set_index([\"code\"])"
   ]
  },
  {
   "cell_type": "code",
   "execution_count": 76,
   "metadata": {},
   "outputs": [
    {
     "data": {
      "text/html": [
       "<div>\n",
       "<style>\n",
       "    .dataframe thead tr:only-child th {\n",
       "        text-align: right;\n",
       "    }\n",
       "\n",
       "    .dataframe thead th {\n",
       "        text-align: left;\n",
       "    }\n",
       "\n",
       "    .dataframe tbody tr th {\n",
       "        vertical-align: top;\n",
       "    }\n",
       "</style>\n",
       "<table border=\"1\" class=\"dataframe\">\n",
       "  <thead>\n",
       "    <tr style=\"text-align: right;\">\n",
       "      <th></th>\n",
       "      <th>created_datetime</th>\n",
       "      <th>product_name</th>\n",
       "      <th>brands</th>\n",
       "      <th>ingredients_text</th>\n",
       "      <th>energy_100g</th>\n",
       "      <th>fat_100g</th>\n",
       "      <th>saturated-fat_100g</th>\n",
       "      <th>carbohydrates_100g</th>\n",
       "      <th>sugars_100g</th>\n",
       "      <th>salt_100g</th>\n",
       "      <th>sodium_100g</th>\n",
       "      <th>organic</th>\n",
       "    </tr>\n",
       "    <tr>\n",
       "      <th>code</th>\n",
       "      <th></th>\n",
       "      <th></th>\n",
       "      <th></th>\n",
       "      <th></th>\n",
       "      <th></th>\n",
       "      <th></th>\n",
       "      <th></th>\n",
       "      <th></th>\n",
       "      <th></th>\n",
       "      <th></th>\n",
       "      <th></th>\n",
       "      <th></th>\n",
       "    </tr>\n",
       "  </thead>\n",
       "  <tbody>\n",
       "    <tr>\n",
       "      <th>4559</th>\n",
       "      <td>03/09/2017</td>\n",
       "      <td>Peanuts</td>\n",
       "      <td>Torn &amp; Glasser</td>\n",
       "      <td>Peanuts, wheat flour, sugar, rice flour, tapio...</td>\n",
       "      <td>1941.0</td>\n",
       "      <td>17.86</td>\n",
       "      <td>0.00</td>\n",
       "      <td>60.71</td>\n",
       "      <td>17.86</td>\n",
       "      <td>0.63500</td>\n",
       "      <td>0.250</td>\n",
       "      <td>None-Organic</td>\n",
       "    </tr>\n",
       "    <tr>\n",
       "      <th>16087</th>\n",
       "      <td>03/09/2017</td>\n",
       "      <td>Organic Salted Nut Mix</td>\n",
       "      <td>Grizzlies</td>\n",
       "      <td>Organic hazelnuts, organic cashews, organic wa...</td>\n",
       "      <td>2540.0</td>\n",
       "      <td>57.14</td>\n",
       "      <td>5.36</td>\n",
       "      <td>17.86</td>\n",
       "      <td>3.57</td>\n",
       "      <td>1.22428</td>\n",
       "      <td>0.482</td>\n",
       "      <td>Organic</td>\n",
       "    </tr>\n",
       "    <tr>\n",
       "      <th>16094</th>\n",
       "      <td>03/09/2017</td>\n",
       "      <td>Organic Polenta</td>\n",
       "      <td>Bob's Red Mill</td>\n",
       "      <td>Organic polenta</td>\n",
       "      <td>1552.0</td>\n",
       "      <td>1.43</td>\n",
       "      <td>0.00</td>\n",
       "      <td>77.14</td>\n",
       "      <td>0.00</td>\n",
       "      <td>0.00000</td>\n",
       "      <td>0.000</td>\n",
       "      <td>Organic</td>\n",
       "    </tr>\n",
       "    <tr>\n",
       "      <th>16100</th>\n",
       "      <td>03/09/2017</td>\n",
       "      <td>Breadshop Honey Gone Nuts Granola</td>\n",
       "      <td>Unfi</td>\n",
       "      <td>Rolled oats, grape concentrate, expeller press...</td>\n",
       "      <td>1933.0</td>\n",
       "      <td>18.27</td>\n",
       "      <td>1.92</td>\n",
       "      <td>63.46</td>\n",
       "      <td>11.54</td>\n",
       "      <td>0.00000</td>\n",
       "      <td>0.000</td>\n",
       "      <td>None-Organic</td>\n",
       "    </tr>\n",
       "    <tr>\n",
       "      <th>16117</th>\n",
       "      <td>03/09/2017</td>\n",
       "      <td>Organic Long Grain White Rice</td>\n",
       "      <td>Lundberg</td>\n",
       "      <td>Organic long grain white rice</td>\n",
       "      <td>1490.0</td>\n",
       "      <td>0.00</td>\n",
       "      <td>0.00</td>\n",
       "      <td>80.00</td>\n",
       "      <td>0.00</td>\n",
       "      <td>0.00000</td>\n",
       "      <td>0.000</td>\n",
       "      <td>Organic</td>\n",
       "    </tr>\n",
       "  </tbody>\n",
       "</table>\n",
       "</div>"
      ],
      "text/plain": [
       "      created_datetime                       product_name          brands  \\\n",
       "code                                                                        \n",
       "4559        03/09/2017                            Peanuts  Torn & Glasser   \n",
       "16087       03/09/2017             Organic Salted Nut Mix       Grizzlies   \n",
       "16094       03/09/2017                    Organic Polenta  Bob's Red Mill   \n",
       "16100       03/09/2017  Breadshop Honey Gone Nuts Granola            Unfi   \n",
       "16117       03/09/2017      Organic Long Grain White Rice        Lundberg   \n",
       "\n",
       "                                        ingredients_text  energy_100g  \\\n",
       "code                                                                    \n",
       "4559   Peanuts, wheat flour, sugar, rice flour, tapio...       1941.0   \n",
       "16087  Organic hazelnuts, organic cashews, organic wa...       2540.0   \n",
       "16094                                    Organic polenta       1552.0   \n",
       "16100  Rolled oats, grape concentrate, expeller press...       1933.0   \n",
       "16117                      Organic long grain white rice       1490.0   \n",
       "\n",
       "       fat_100g  saturated-fat_100g  carbohydrates_100g  sugars_100g  \\\n",
       "code                                                                   \n",
       "4559      17.86                0.00               60.71        17.86   \n",
       "16087     57.14                5.36               17.86         3.57   \n",
       "16094      1.43                0.00               77.14         0.00   \n",
       "16100     18.27                1.92               63.46        11.54   \n",
       "16117      0.00                0.00               80.00         0.00   \n",
       "\n",
       "       salt_100g  sodium_100g       organic  \n",
       "code                                         \n",
       "4559     0.63500        0.250  None-Organic  \n",
       "16087    1.22428        0.482       Organic  \n",
       "16094    0.00000        0.000       Organic  \n",
       "16100    0.00000        0.000  None-Organic  \n",
       "16117    0.00000        0.000       Organic  "
      ]
     },
     "execution_count": 76,
     "metadata": {},
     "output_type": "execute_result"
    }
   ],
   "source": [
    "df_base.head()"
   ]
  },
  {
   "cell_type": "code",
   "execution_count": 77,
   "metadata": {},
   "outputs": [
    {
     "name": "stdout",
     "output_type": "stream",
     "text": [
      "<class 'pandas.core.frame.DataFrame'>\n",
      "Index: 170239 entries, 4559 to 999990026839\n",
      "Data columns (total 12 columns):\n",
      "created_datetime      170239 non-null object\n",
      "product_name          170239 non-null object\n",
      "brands                170239 non-null object\n",
      "ingredients_text      170239 non-null object\n",
      "energy_100g           170239 non-null float64\n",
      "fat_100g              170239 non-null float64\n",
      "saturated-fat_100g    170239 non-null float64\n",
      "carbohydrates_100g    170239 non-null float64\n",
      "sugars_100g           170239 non-null float64\n",
      "salt_100g             170239 non-null float64\n",
      "sodium_100g           170239 non-null float64\n",
      "organic               170239 non-null object\n",
      "dtypes: float64(7), object(5)\n",
      "memory usage: 16.9+ MB\n"
     ]
    }
   ],
   "source": [
    "df_base.info()"
   ]
  },
  {
   "cell_type": "code",
   "execution_count": 78,
   "metadata": {
    "collapsed": true
   },
   "outputs": [],
   "source": [
    "def bar_chart(feature):\n",
    "    # create pandas.core.series.Series\n",
    "    none = df_base[df_base['organic']=='None-Organic'][feature].value_counts()\n",
    "    organic = df_base[df_base['organic']=='Organic'][feature].value_counts()\n",
    "    df_deter_organic = pd.DataFrame([none,organic])\n",
    "    df_deter_organic.index = ['None-organic','Organic']\n",
    "    df_deter_organic.plot(kind='bar',stacked=True, figsize=(10,5))"
   ]
  },
  {
   "cell_type": "code",
   "execution_count": 79,
   "metadata": {},
   "outputs": [
    {
     "data": {
      "image/png": "[encoded data removed]",
      "text/plain": [
       "<matplotlib.figure.Figure at 0x91b9cbb400>"
      ]
     },
     "metadata": {},
     "output_type": "display_data"
    }
   ],
   "source": [
    "bar_chart('organic')"
   ]
  },
  {
   "cell_type": "code",
   "execution_count": 21,
   "metadata": {},
   "outputs": [
    {
     "data": {
      "text/plain": [
       "(172922,)"
      ]
     },
     "execution_count": 21,
     "metadata": {},
     "output_type": "execute_result"
    }
   ],
   "source": [
    "df_rm_pure_salt_sugar['organic'].shape"
   ]
  },
  {
   "cell_type": "code",
   "execution_count": 22,
   "metadata": {},
   "outputs": [
    {
     "data": {
      "text/plain": [
       "False    163813\n",
       "True       9109\n",
       "Name: organic, dtype: int64"
      ]
     },
     "execution_count": 22,
     "metadata": {},
     "output_type": "execute_result"
    }
   ],
   "source": [
    "df_rm_pure_salt_sugar['organic'].value_counts()"
   ]
  },
  {
   "cell_type": "code",
   "execution_count": 23,
   "metadata": {
    "collapsed": true
   },
   "outputs": [],
   "source": [
    "seri_ogranic = df_rm_pure_salt_sugar['organic'].value_counts().astype(float) / df_rm_pure_salt_sugar.shape[0]"
   ]
  },
  {
   "cell_type": "code",
   "execution_count": 24,
   "metadata": {},
   "outputs": [
    {
     "data": {
      "text/plain": [
       "False    0.947323\n",
       "True     0.052677\n",
       "Name: organic, dtype: float64"
      ]
     },
     "execution_count": 24,
     "metadata": {},
     "output_type": "execute_result"
    }
   ],
   "source": [
    "seri_ogranic"
   ]
  },
  {
   "cell_type": "code",
   "execution_count": 25,
   "metadata": {},
   "outputs": [
    {
     "data": {
      "text/plain": [
       "<matplotlib.axes._subplots.AxesSubplot at 0x9180009358>"
      ]
     },
     "execution_count": 25,
     "metadata": {},
     "output_type": "execute_result"
    },
    {
     "data": {
      "image/png": "[encoded data removed]",
      "text/plain": [
       "<matplotlib.figure.Figure at 0x9181f55b38>"
      ]
     },
     "metadata": {},
     "output_type": "display_data"
    }
   ],
   "source": [
    "none = df_rm_pure_salt_sugar[df_rm_pure_salt_sugar['organic']==False]['salt_100g'].sum()\n",
    "organic = df_rm_pure_salt_sugar[df_rm_pure_salt_sugar['organic']==True]['salt_100g'].sum()\n",
    "df_organic_salt = pd.DataFrame([none,organic])\n",
    "df_organic_salt.index = ['Non-organic','Organic']\n",
    "df_organic_salt.plot(kind='bar',stacked=True, figsize=(10,5))"
   ]
  },
  {
   "cell_type": "code",
   "execution_count": 26,
   "metadata": {},
   "outputs": [
    {
     "data": {
      "text/html": [
       "<div>\n",
       "<style>\n",
       "    .dataframe thead tr:only-child th {\n",
       "        text-align: right;\n",
       "    }\n",
       "\n",
       "    .dataframe thead th {\n",
       "        text-align: left;\n",
       "    }\n",
       "\n",
       "    .dataframe tbody tr th {\n",
       "        vertical-align: top;\n",
       "    }\n",
       "</style>\n",
       "<table border=\"1\" class=\"dataframe\">\n",
       "  <thead>\n",
       "    <tr style=\"text-align: right;\">\n",
       "      <th></th>\n",
       "      <th>0</th>\n",
       "    </tr>\n",
       "  </thead>\n",
       "  <tbody>\n",
       "    <tr>\n",
       "      <th>Non-organic</th>\n",
       "      <td>411365.422724</td>\n",
       "    </tr>\n",
       "    <tr>\n",
       "      <th>Organic</th>\n",
       "      <td>6542.174295</td>\n",
       "    </tr>\n",
       "  </tbody>\n",
       "</table>\n",
       "</div>"
      ],
      "text/plain": [
       "                         0\n",
       "Non-organic  411365.422724\n",
       "Organic        6542.174295"
      ]
     },
     "execution_count": 26,
     "metadata": {},
     "output_type": "execute_result"
    }
   ],
   "source": [
    "df_organic_salt"
   ]
  },
  {
   "cell_type": "code",
   "execution_count": 27,
   "metadata": {},
   "outputs": [
    {
     "data": {
      "text/plain": [
       "0    0.984345\n",
       "dtype: float64"
      ]
     },
     "execution_count": 27,
     "metadata": {},
     "output_type": "execute_result"
    }
   ],
   "source": [
    "df_rm_pure_salt_sugar[df_rm_pure_salt_sugar['organic']==False]['salt_100g'].sum() / df_organic_salt.sum()"
   ]
  },
  {
   "cell_type": "code",
   "execution_count": 28,
   "metadata": {},
   "outputs": [
    {
     "data": {
      "text/plain": [
       "0    0.015655\n",
       "dtype: float64"
      ]
     },
     "execution_count": 28,
     "metadata": {},
     "output_type": "execute_result"
    }
   ],
   "source": [
    "df_rm_pure_salt_sugar[df_rm_pure_salt_sugar['organic']==True]['salt_100g'].sum() / df_organic_salt.sum()"
   ]
  },
  {
   "cell_type": "code",
   "execution_count": 29,
   "metadata": {},
   "outputs": [
    {
     "data": {
      "text/plain": [
       "<matplotlib.axes._subplots.AxesSubplot at 0x9193473b00>"
      ]
     },
     "execution_count": 29,
     "metadata": {},
     "output_type": "execute_result"
    },
    {
     "data": {
      "image/png": "[encoded data removed]",
      "text/plain": [
       "<matplotlib.figure.Figure at 0x9181f88668>"
      ]
     },
     "metadata": {},
     "output_type": "display_data"
    }
   ],
   "source": [
    "none_sugar = df_rm_pure_salt_sugar[df_rm_pure_salt_sugar['organic']==False]['sugars_100g'].sum()\n",
    "organic_sugar  = df_rm_pure_salt_sugar[df_rm_pure_salt_sugar['organic']==True]['sugars_100g'].sum()\n",
    "df_organic_sugar = pd.DataFrame([none_sugar,organic_sugar])\n",
    "df_organic_sugar.index = ['Non-organic','Organic']\n",
    "df_organic_sugar.plot(kind='bar',stacked=True, figsize=(10,5))"
   ]
  },
  {
   "cell_type": "code",
   "execution_count": 30,
   "metadata": {},
   "outputs": [
    {
     "data": {
      "text/html": [
       "<div>\n",
       "<style>\n",
       "    .dataframe thead tr:only-child th {\n",
       "        text-align: right;\n",
       "    }\n",
       "\n",
       "    .dataframe thead th {\n",
       "        text-align: left;\n",
       "    }\n",
       "\n",
       "    .dataframe tbody tr th {\n",
       "        vertical-align: top;\n",
       "    }\n",
       "</style>\n",
       "<table border=\"1\" class=\"dataframe\">\n",
       "  <thead>\n",
       "    <tr style=\"text-align: right;\">\n",
       "      <th></th>\n",
       "      <th>0</th>\n",
       "    </tr>\n",
       "  </thead>\n",
       "  <tbody>\n",
       "    <tr>\n",
       "      <th>Non-organic</th>\n",
       "      <td>2632876.396</td>\n",
       "    </tr>\n",
       "    <tr>\n",
       "      <th>Organic</th>\n",
       "      <td>115421.587</td>\n",
       "    </tr>\n",
       "  </tbody>\n",
       "</table>\n",
       "</div>"
      ],
      "text/plain": [
       "                       0\n",
       "Non-organic  2632876.396\n",
       "Organic       115421.587"
      ]
     },
     "execution_count": 30,
     "metadata": {},
     "output_type": "execute_result"
    }
   ],
   "source": [
    "df_organic_sugar"
   ]
  },
  {
   "cell_type": "code",
   "execution_count": 31,
   "metadata": {},
   "outputs": [
    {
     "data": {
      "text/plain": [
       "0    0.958003\n",
       "dtype: float64"
      ]
     },
     "execution_count": 31,
     "metadata": {},
     "output_type": "execute_result"
    }
   ],
   "source": [
    "df_rm_pure_salt_sugar[df_rm_pure_salt_sugar['organic']==False]['sugars_100g'].sum() / df_organic_sugar.sum()"
   ]
  },
  {
   "cell_type": "code",
   "execution_count": 32,
   "metadata": {},
   "outputs": [
    {
     "data": {
      "text/plain": [
       "0    0.041997\n",
       "dtype: float64"
      ]
     },
     "execution_count": 32,
     "metadata": {},
     "output_type": "execute_result"
    }
   ],
   "source": [
    "df_rm_pure_salt_sugar[df_rm_pure_salt_sugar['organic']==True]['sugars_100g'].sum() / df_organic_sugar.sum()"
   ]
  },
  {
   "cell_type": "code",
   "execution_count": 33,
   "metadata": {},
   "outputs": [
    {
     "data": {
      "text/html": [
       "<div>\n",
       "<style>\n",
       "    .dataframe thead tr:only-child th {\n",
       "        text-align: right;\n",
       "    }\n",
       "\n",
       "    .dataframe thead th {\n",
       "        text-align: left;\n",
       "    }\n",
       "\n",
       "    .dataframe tbody tr th {\n",
       "        vertical-align: top;\n",
       "    }\n",
       "</style>\n",
       "<table border=\"1\" class=\"dataframe\">\n",
       "  <thead>\n",
       "    <tr style=\"text-align: right;\">\n",
       "      <th></th>\n",
       "      <th>Unnamed: 0</th>\n",
       "      <th>code</th>\n",
       "      <th>url</th>\n",
       "      <th>created_datetime</th>\n",
       "      <th>product_name</th>\n",
       "      <th>brands</th>\n",
       "      <th>countries</th>\n",
       "      <th>ingredients_text</th>\n",
       "      <th>allergens</th>\n",
       "      <th>serving_size</th>\n",
       "      <th>...</th>\n",
       "      <th>vitamin-b1_100g</th>\n",
       "      <th>vitamin-b2_100g</th>\n",
       "      <th>vitamin-pp_100g</th>\n",
       "      <th>vitamin-b6_100g</th>\n",
       "      <th>vitamin-b9_100g</th>\n",
       "      <th>organic</th>\n",
       "      <th>grams</th>\n",
       "      <th>salt_sodium_100g</th>\n",
       "      <th>titled_sugar</th>\n",
       "      <th>titled_salt</th>\n",
       "    </tr>\n",
       "  </thead>\n",
       "  <tbody>\n",
       "    <tr>\n",
       "      <th>0</th>\n",
       "      <td>1</td>\n",
       "      <td>4530</td>\n",
       "      <td>http://world-en.openfoodfacts.org/product/0000...</td>\n",
       "      <td>2017-03-09T14:32:37Z</td>\n",
       "      <td>Banana Chips Sweetened (Whole)</td>\n",
       "      <td>None</td>\n",
       "      <td>us</td>\n",
       "      <td>Bananas, vegetable oil (coconut oil, corn oil ...</td>\n",
       "      <td>None</td>\n",
       "      <td>28 g (1 ONZ)</td>\n",
       "      <td>...</td>\n",
       "      <td>0.0</td>\n",
       "      <td>0.0</td>\n",
       "      <td>0.0</td>\n",
       "      <td>0.0</td>\n",
       "      <td>0.0</td>\n",
       "      <td>False</td>\n",
       "      <td>28.0</td>\n",
       "      <td>0.00000</td>\n",
       "      <td>False</td>\n",
       "      <td>False</td>\n",
       "    </tr>\n",
       "    <tr>\n",
       "      <th>1</th>\n",
       "      <td>2</td>\n",
       "      <td>4559</td>\n",
       "      <td>http://world-en.openfoodfacts.org/product/0000...</td>\n",
       "      <td>2017-03-09T14:32:37Z</td>\n",
       "      <td>Peanuts</td>\n",
       "      <td>Torn &amp; Glasser</td>\n",
       "      <td>us</td>\n",
       "      <td>Peanuts, wheat flour, sugar, rice flour, tapio...</td>\n",
       "      <td>None</td>\n",
       "      <td>28 g (0.25 cup)</td>\n",
       "      <td>...</td>\n",
       "      <td>0.0</td>\n",
       "      <td>0.0</td>\n",
       "      <td>0.0</td>\n",
       "      <td>0.0</td>\n",
       "      <td>0.0</td>\n",
       "      <td>False</td>\n",
       "      <td>28.0</td>\n",
       "      <td>0.88500</td>\n",
       "      <td>False</td>\n",
       "      <td>False</td>\n",
       "    </tr>\n",
       "    <tr>\n",
       "      <th>2</th>\n",
       "      <td>3</td>\n",
       "      <td>16087</td>\n",
       "      <td>http://world-en.openfoodfacts.org/product/0000...</td>\n",
       "      <td>2017-03-09T10:35:31Z</td>\n",
       "      <td>Organic Salted Nut Mix</td>\n",
       "      <td>Grizzlies</td>\n",
       "      <td>us</td>\n",
       "      <td>Organic hazelnuts, organic cashews, organic wa...</td>\n",
       "      <td>None</td>\n",
       "      <td>28 g (0.25 cup)</td>\n",
       "      <td>...</td>\n",
       "      <td>0.0</td>\n",
       "      <td>0.0</td>\n",
       "      <td>0.0</td>\n",
       "      <td>0.0</td>\n",
       "      <td>0.0</td>\n",
       "      <td>True</td>\n",
       "      <td>28.0</td>\n",
       "      <td>1.70628</td>\n",
       "      <td>False</td>\n",
       "      <td>True</td>\n",
       "    </tr>\n",
       "    <tr>\n",
       "      <th>3</th>\n",
       "      <td>4</td>\n",
       "      <td>16094</td>\n",
       "      <td>http://world-en.openfoodfacts.org/product/0000...</td>\n",
       "      <td>2017-03-09T10:34:13Z</td>\n",
       "      <td>Organic Polenta</td>\n",
       "      <td>Bob's Red Mill</td>\n",
       "      <td>us</td>\n",
       "      <td>Organic polenta</td>\n",
       "      <td>None</td>\n",
       "      <td>35 g (0.25 cup)</td>\n",
       "      <td>...</td>\n",
       "      <td>0.0</td>\n",
       "      <td>0.0</td>\n",
       "      <td>0.0</td>\n",
       "      <td>0.0</td>\n",
       "      <td>0.0</td>\n",
       "      <td>True</td>\n",
       "      <td>35.0</td>\n",
       "      <td>0.00000</td>\n",
       "      <td>False</td>\n",
       "      <td>False</td>\n",
       "    </tr>\n",
       "    <tr>\n",
       "      <th>4</th>\n",
       "      <td>5</td>\n",
       "      <td>16100</td>\n",
       "      <td>http://world-en.openfoodfacts.org/product/0000...</td>\n",
       "      <td>2017-03-09T10:34:11Z</td>\n",
       "      <td>Breadshop Honey Gone Nuts Granola</td>\n",
       "      <td>Unfi</td>\n",
       "      <td>us</td>\n",
       "      <td>Rolled oats, grape concentrate, expeller press...</td>\n",
       "      <td>None</td>\n",
       "      <td>52 g (0.5 cup)</td>\n",
       "      <td>...</td>\n",
       "      <td>0.0</td>\n",
       "      <td>0.0</td>\n",
       "      <td>0.0</td>\n",
       "      <td>0.0</td>\n",
       "      <td>0.0</td>\n",
       "      <td>False</td>\n",
       "      <td>52.0</td>\n",
       "      <td>0.00000</td>\n",
       "      <td>False</td>\n",
       "      <td>False</td>\n",
       "    </tr>\n",
       "  </tbody>\n",
       "</table>\n",
       "<p>5 rows × 38 columns</p>\n",
       "</div>"
      ],
      "text/plain": [
       "   Unnamed: 0   code                                                url  \\\n",
       "0           1   4530  http://world-en.openfoodfacts.org/product/0000...   \n",
       "1           2   4559  http://world-en.openfoodfacts.org/product/0000...   \n",
       "2           3  16087  http://world-en.openfoodfacts.org/product/0000...   \n",
       "3           4  16094  http://world-en.openfoodfacts.org/product/0000...   \n",
       "4           5  16100  http://world-en.openfoodfacts.org/product/0000...   \n",
       "\n",
       "       created_datetime                       product_name          brands  \\\n",
       "0  2017-03-09T14:32:37Z     Banana Chips Sweetened (Whole)            None   \n",
       "1  2017-03-09T14:32:37Z                            Peanuts  Torn & Glasser   \n",
       "2  2017-03-09T10:35:31Z             Organic Salted Nut Mix       Grizzlies   \n",
       "3  2017-03-09T10:34:13Z                    Organic Polenta  Bob's Red Mill   \n",
       "4  2017-03-09T10:34:11Z  Breadshop Honey Gone Nuts Granola            Unfi   \n",
       "\n",
       "  countries                                   ingredients_text allergens  \\\n",
       "0        us  Bananas, vegetable oil (coconut oil, corn oil ...      None   \n",
       "1        us  Peanuts, wheat flour, sugar, rice flour, tapio...      None   \n",
       "2        us  Organic hazelnuts, organic cashews, organic wa...      None   \n",
       "3        us                                    Organic polenta      None   \n",
       "4        us  Rolled oats, grape concentrate, expeller press...      None   \n",
       "\n",
       "      serving_size     ...      vitamin-b1_100g  vitamin-b2_100g  \\\n",
       "0     28 g (1 ONZ)     ...                  0.0              0.0   \n",
       "1  28 g (0.25 cup)     ...                  0.0              0.0   \n",
       "2  28 g (0.25 cup)     ...                  0.0              0.0   \n",
       "3  35 g (0.25 cup)     ...                  0.0              0.0   \n",
       "4   52 g (0.5 cup)     ...                  0.0              0.0   \n",
       "\n",
       "  vitamin-pp_100g  vitamin-b6_100g  vitamin-b9_100g  organic  grams  \\\n",
       "0             0.0              0.0              0.0    False   28.0   \n",
       "1             0.0              0.0              0.0    False   28.0   \n",
       "2             0.0              0.0              0.0     True   28.0   \n",
       "3             0.0              0.0              0.0     True   35.0   \n",
       "4             0.0              0.0              0.0    False   52.0   \n",
       "\n",
       "   salt_sodium_100g  titled_sugar  titled_salt  \n",
       "0           0.00000         False        False  \n",
       "1           0.88500         False        False  \n",
       "2           1.70628         False         True  \n",
       "3           0.00000         False        False  \n",
       "4           0.00000         False        False  \n",
       "\n",
       "[5 rows x 38 columns]"
      ]
     },
     "execution_count": 33,
     "metadata": {},
     "output_type": "execute_result"
    }
   ],
   "source": [
    "df_rm_pure_salt_sugar.head()"
   ]
  },
  {
   "cell_type": "code",
   "execution_count": 37,
   "metadata": {},
   "outputs": [
    {
     "data": {
      "text/plain": [
       "28285"
      ]
     },
     "execution_count": 37,
     "metadata": {},
     "output_type": "execute_result"
    }
   ],
   "source": [
    "len(df_rm_pure_salt_sugar['brands'].unique())"
   ]
  },
  {
   "cell_type": "code",
   "execution_count": 38,
   "metadata": {
    "collapsed": true
   },
   "outputs": [],
   "source": [
    "seri_brands_cnt = df_rm_pure_salt_sugar['brands'].value_counts()"
   ]
  },
  {
   "cell_type": "code",
   "execution_count": 39,
   "metadata": {
    "collapsed": true
   },
   "outputs": [],
   "source": [
    "seri_brands_cnt.drop('None', inplace=True)"
   ]
  },
  {
   "cell_type": "code",
   "execution_count": 46,
   "metadata": {},
   "outputs": [
    {
     "data": {
      "text/plain": [
       "Index(['Meijer', 'Kroger', 'Ahold', 'Spartan', 'Roundy's', 'Great Value',\n",
       "       'Weis', 'Target Stores', 'Shoprite', 'Food Club', 'Harris Teeter',\n",
       "       'Food Lion', 'Essential Everyday', 'Goya', 'Schnucks', 'Weis Quality',\n",
       "       'Hannaford,  Hannaford Bros. Co.', 'Giant', 'Giant Eagle', 'Wegmans',\n",
       "       'Meijer,  Meijer  Inc.',\n",
       "       '365 Everyday Value,  Whole Foods Market  Inc.', 'Trader Joe's',\n",
       "       'Hy-Vee', 'Food Lion,  Food Town Stores Inc.', 'Fresh & Easy',\n",
       "       'Raley's', 'Market Pantry', 'Wal-Mart Stores  Inc.', 'Key Food'],\n",
       "      dtype='object')"
      ]
     },
     "execution_count": 46,
     "metadata": {},
     "output_type": "execute_result"
    }
   ],
   "source": [
    "seri_brands_cnt.iloc[0:30].index"
   ]
  },
  {
   "cell_type": "code",
   "execution_count": 54,
   "metadata": {
    "collapsed": true
   },
   "outputs": [],
   "source": [
    "df_total_sugar_by_brands = df_rm_pure_salt_sugar.pivot_table(\"sugars_100g\", index=\"brands\", columns=\"organic\", aggfunc=sum)"
   ]
  },
  {
   "cell_type": "code",
   "execution_count": 64,
   "metadata": {},
   "outputs": [
    {
     "data": {
      "text/html": [
       "<div>\n",
       "<style>\n",
       "    .dataframe thead tr:only-child th {\n",
       "        text-align: right;\n",
       "    }\n",
       "\n",
       "    .dataframe thead th {\n",
       "        text-align: left;\n",
       "    }\n",
       "\n",
       "    .dataframe tbody tr th {\n",
       "        vertical-align: top;\n",
       "    }\n",
       "</style>\n",
       "<table border=\"1\" class=\"dataframe\">\n",
       "  <thead>\n",
       "    <tr style=\"text-align: right;\">\n",
       "      <th>organic</th>\n",
       "      <th>False</th>\n",
       "      <th>True</th>\n",
       "    </tr>\n",
       "    <tr>\n",
       "      <th>brands</th>\n",
       "      <th></th>\n",
       "      <th></th>\n",
       "    </tr>\n",
       "  </thead>\n",
       "  <tbody>\n",
       "    <tr>\n",
       "      <th>!Ajua!</th>\n",
       "      <td>35.83</td>\n",
       "      <td>NaN</td>\n",
       "    </tr>\n",
       "    <tr>\n",
       "      <th>\"Dirty\"</th>\n",
       "      <td>3.53</td>\n",
       "      <td>NaN</td>\n",
       "    </tr>\n",
       "    <tr>\n",
       "      <th>\"Grana\" Sp. Z O. O.</th>\n",
       "      <td>50.00</td>\n",
       "      <td>NaN</td>\n",
       "    </tr>\n",
       "    <tr>\n",
       "      <th>0  72935 01160  4</th>\n",
       "      <td>0.00</td>\n",
       "      <td>NaN</td>\n",
       "    </tr>\n",
       "    <tr>\n",
       "      <th>1 2</th>\n",
       "      <td>21.43</td>\n",
       "      <td>NaN</td>\n",
       "    </tr>\n",
       "  </tbody>\n",
       "</table>\n",
       "</div>"
      ],
      "text/plain": [
       "organic              False  True \n",
       "brands                           \n",
       "!Ajua!               35.83    NaN\n",
       "\"Dirty\"               3.53    NaN\n",
       "\"Grana\" Sp. Z O. O.  50.00    NaN\n",
       "0  72935 01160  4     0.00    NaN\n",
       "1 2                  21.43    NaN"
      ]
     },
     "execution_count": 64,
     "metadata": {},
     "output_type": "execute_result"
    }
   ],
   "source": [
    "df_total_sugar_by_brands.iloc[0:5]"
   ]
  },
  {
   "cell_type": "code",
   "execution_count": 65,
   "metadata": {},
   "outputs": [
    {
     "data": {
      "text/plain": [
       "(28285, 2)"
      ]
     },
     "execution_count": 65,
     "metadata": {},
     "output_type": "execute_result"
    }
   ],
   "source": [
    "df_total_sugar_by_brands.shape"
   ]
  },
  {
   "cell_type": "code",
   "execution_count": 67,
   "metadata": {},
   "outputs": [
    {
     "ename": "KeyError",
     "evalue": "'brands'",
     "output_type": "error",
     "traceback": [
      "\u001b[1;31m---------------------------------------------------------------------------\u001b[0m",
      "\u001b[1;31mKeyError\u001b[0m                                  Traceback (most recent call last)",
      "\u001b[1;32m~\\Anaconda3\\lib\\site-packages\\pandas\\core\\indexes\\base.py\u001b[0m in \u001b[0;36mget_loc\u001b[1;34m(self, key, method, tolerance)\u001b[0m\n\u001b[0;32m   2441\u001b[0m             \u001b[1;32mtry\u001b[0m\u001b[1;33m:\u001b[0m\u001b[1;33m\u001b[0m\u001b[0m\n\u001b[1;32m-> 2442\u001b[1;33m                 \u001b[1;32mreturn\u001b[0m \u001b[0mself\u001b[0m\u001b[1;33m.\u001b[0m\u001b[0m_engine\u001b[0m\u001b[1;33m.\u001b[0m\u001b[0mget_loc\u001b[0m\u001b[1;33m(\u001b[0m\u001b[0mkey\u001b[0m\u001b[1;33m)\u001b[0m\u001b[1;33m\u001b[0m\u001b[0m\n\u001b[0m\u001b[0;32m   2443\u001b[0m             \u001b[1;32mexcept\u001b[0m \u001b[0mKeyError\u001b[0m\u001b[1;33m:\u001b[0m\u001b[1;33m\u001b[0m\u001b[0m\n",
      "\u001b[1;32mpandas\\_libs\\index.pyx\u001b[0m in \u001b[0;36mpandas._libs.index.IndexEngine.get_loc\u001b[1;34m()\u001b[0m\n",
      "\u001b[1;32mpandas\\_libs\\index.pyx\u001b[0m in \u001b[0;36mpandas._libs.index.IndexEngine.get_loc\u001b[1;34m()\u001b[0m\n",
      "\u001b[1;32mpandas\\_libs\\hashtable_class_helper.pxi\u001b[0m in \u001b[0;36mpandas._libs.hashtable.PyObjectHashTable.get_item\u001b[1;34m()\u001b[0m\n",
      "\u001b[1;32mpandas\\_libs\\hashtable_class_helper.pxi\u001b[0m in \u001b[0;36mpandas._libs.hashtable.PyObjectHashTable.get_item\u001b[1;34m()\u001b[0m\n",
      "\u001b[1;31mKeyError\u001b[0m: 'brands'",
      "\nDuring handling of the above exception, another exception occurred:\n",
      "\u001b[1;31mKeyError\u001b[0m                                  Traceback (most recent call last)",
      "\u001b[1;32m<ipython-input-67-9c91a85d547a>\u001b[0m in \u001b[0;36m<module>\u001b[1;34m()\u001b[0m\n\u001b[1;32m----> 1\u001b[1;33m \u001b[0mseri_brands_cnt\u001b[0m \u001b[1;33m=\u001b[0m \u001b[0mdf_total_sugar_by_brands\u001b[0m\u001b[1;33m[\u001b[0m\u001b[1;34m'brands'\u001b[0m\u001b[1;33m]\u001b[0m\u001b[1;33m.\u001b[0m\u001b[0mvalue_counts\u001b[0m\u001b[1;33m(\u001b[0m\u001b[1;33m)\u001b[0m\u001b[1;33m\u001b[0m\u001b[0m\n\u001b[0m",
      "\u001b[1;32m~\\Anaconda3\\lib\\site-packages\\pandas\\core\\frame.py\u001b[0m in \u001b[0;36m__getitem__\u001b[1;34m(self, key)\u001b[0m\n\u001b[0;32m   1962\u001b[0m             \u001b[1;32mreturn\u001b[0m \u001b[0mself\u001b[0m\u001b[1;33m.\u001b[0m\u001b[0m_getitem_multilevel\u001b[0m\u001b[1;33m(\u001b[0m\u001b[0mkey\u001b[0m\u001b[1;33m)\u001b[0m\u001b[1;33m\u001b[0m\u001b[0m\n\u001b[0;32m   1963\u001b[0m         \u001b[1;32melse\u001b[0m\u001b[1;33m:\u001b[0m\u001b[1;33m\u001b[0m\u001b[0m\n\u001b[1;32m-> 1964\u001b[1;33m             \u001b[1;32mreturn\u001b[0m \u001b[0mself\u001b[0m\u001b[1;33m.\u001b[0m\u001b[0m_getitem_column\u001b[0m\u001b[1;33m(\u001b[0m\u001b[0mkey\u001b[0m\u001b[1;33m)\u001b[0m\u001b[1;33m\u001b[0m\u001b[0m\n\u001b[0m\u001b[0;32m   1965\u001b[0m \u001b[1;33m\u001b[0m\u001b[0m\n\u001b[0;32m   1966\u001b[0m     \u001b[1;32mdef\u001b[0m \u001b[0m_getitem_column\u001b[0m\u001b[1;33m(\u001b[0m\u001b[0mself\u001b[0m\u001b[1;33m,\u001b[0m \u001b[0mkey\u001b[0m\u001b[1;33m)\u001b[0m\u001b[1;33m:\u001b[0m\u001b[1;33m\u001b[0m\u001b[0m\n",
      "\u001b[1;32m~\\Anaconda3\\lib\\site-packages\\pandas\\core\\frame.py\u001b[0m in \u001b[0;36m_getitem_column\u001b[1;34m(self, key)\u001b[0m\n\u001b[0;32m   1969\u001b[0m         \u001b[1;31m# get column\u001b[0m\u001b[1;33m\u001b[0m\u001b[1;33m\u001b[0m\u001b[0m\n\u001b[0;32m   1970\u001b[0m         \u001b[1;32mif\u001b[0m \u001b[0mself\u001b[0m\u001b[1;33m.\u001b[0m\u001b[0mcolumns\u001b[0m\u001b[1;33m.\u001b[0m\u001b[0mis_unique\u001b[0m\u001b[1;33m:\u001b[0m\u001b[1;33m\u001b[0m\u001b[0m\n\u001b[1;32m-> 1971\u001b[1;33m             \u001b[1;32mreturn\u001b[0m \u001b[0mself\u001b[0m\u001b[1;33m.\u001b[0m\u001b[0m_get_item_cache\u001b[0m\u001b[1;33m(\u001b[0m\u001b[0mkey\u001b[0m\u001b[1;33m)\u001b[0m\u001b[1;33m\u001b[0m\u001b[0m\n\u001b[0m\u001b[0;32m   1972\u001b[0m \u001b[1;33m\u001b[0m\u001b[0m\n\u001b[0;32m   1973\u001b[0m         \u001b[1;31m# duplicate columns & possible reduce dimensionality\u001b[0m\u001b[1;33m\u001b[0m\u001b[1;33m\u001b[0m\u001b[0m\n",
      "\u001b[1;32m~\\Anaconda3\\lib\\site-packages\\pandas\\core\\generic.py\u001b[0m in \u001b[0;36m_get_item_cache\u001b[1;34m(self, item)\u001b[0m\n\u001b[0;32m   1643\u001b[0m         \u001b[0mres\u001b[0m \u001b[1;33m=\u001b[0m \u001b[0mcache\u001b[0m\u001b[1;33m.\u001b[0m\u001b[0mget\u001b[0m\u001b[1;33m(\u001b[0m\u001b[0mitem\u001b[0m\u001b[1;33m)\u001b[0m\u001b[1;33m\u001b[0m\u001b[0m\n\u001b[0;32m   1644\u001b[0m         \u001b[1;32mif\u001b[0m \u001b[0mres\u001b[0m \u001b[1;32mis\u001b[0m \u001b[1;32mNone\u001b[0m\u001b[1;33m:\u001b[0m\u001b[1;33m\u001b[0m\u001b[0m\n\u001b[1;32m-> 1645\u001b[1;33m             \u001b[0mvalues\u001b[0m \u001b[1;33m=\u001b[0m \u001b[0mself\u001b[0m\u001b[1;33m.\u001b[0m\u001b[0m_data\u001b[0m\u001b[1;33m.\u001b[0m\u001b[0mget\u001b[0m\u001b[1;33m(\u001b[0m\u001b[0mitem\u001b[0m\u001b[1;33m)\u001b[0m\u001b[1;33m\u001b[0m\u001b[0m\n\u001b[0m\u001b[0;32m   1646\u001b[0m             \u001b[0mres\u001b[0m \u001b[1;33m=\u001b[0m \u001b[0mself\u001b[0m\u001b[1;33m.\u001b[0m\u001b[0m_box_item_values\u001b[0m\u001b[1;33m(\u001b[0m\u001b[0mitem\u001b[0m\u001b[1;33m,\u001b[0m \u001b[0mvalues\u001b[0m\u001b[1;33m)\u001b[0m\u001b[1;33m\u001b[0m\u001b[0m\n\u001b[0;32m   1647\u001b[0m             \u001b[0mcache\u001b[0m\u001b[1;33m[\u001b[0m\u001b[0mitem\u001b[0m\u001b[1;33m]\u001b[0m \u001b[1;33m=\u001b[0m \u001b[0mres\u001b[0m\u001b[1;33m\u001b[0m\u001b[0m\n",
      "\u001b[1;32m~\\Anaconda3\\lib\\site-packages\\pandas\\core\\internals.py\u001b[0m in \u001b[0;36mget\u001b[1;34m(self, item, fastpath)\u001b[0m\n\u001b[0;32m   3588\u001b[0m \u001b[1;33m\u001b[0m\u001b[0m\n\u001b[0;32m   3589\u001b[0m             \u001b[1;32mif\u001b[0m \u001b[1;32mnot\u001b[0m \u001b[0misnull\u001b[0m\u001b[1;33m(\u001b[0m\u001b[0mitem\u001b[0m\u001b[1;33m)\u001b[0m\u001b[1;33m:\u001b[0m\u001b[1;33m\u001b[0m\u001b[0m\n\u001b[1;32m-> 3590\u001b[1;33m                 \u001b[0mloc\u001b[0m \u001b[1;33m=\u001b[0m \u001b[0mself\u001b[0m\u001b[1;33m.\u001b[0m\u001b[0mitems\u001b[0m\u001b[1;33m.\u001b[0m\u001b[0mget_loc\u001b[0m\u001b[1;33m(\u001b[0m\u001b[0mitem\u001b[0m\u001b[1;33m)\u001b[0m\u001b[1;33m\u001b[0m\u001b[0m\n\u001b[0m\u001b[0;32m   3591\u001b[0m             \u001b[1;32melse\u001b[0m\u001b[1;33m:\u001b[0m\u001b[1;33m\u001b[0m\u001b[0m\n\u001b[0;32m   3592\u001b[0m                 \u001b[0mindexer\u001b[0m \u001b[1;33m=\u001b[0m \u001b[0mnp\u001b[0m\u001b[1;33m.\u001b[0m\u001b[0marange\u001b[0m\u001b[1;33m(\u001b[0m\u001b[0mlen\u001b[0m\u001b[1;33m(\u001b[0m\u001b[0mself\u001b[0m\u001b[1;33m.\u001b[0m\u001b[0mitems\u001b[0m\u001b[1;33m)\u001b[0m\u001b[1;33m)\u001b[0m\u001b[1;33m[\u001b[0m\u001b[0misnull\u001b[0m\u001b[1;33m(\u001b[0m\u001b[0mself\u001b[0m\u001b[1;33m.\u001b[0m\u001b[0mitems\u001b[0m\u001b[1;33m)\u001b[0m\u001b[1;33m]\u001b[0m\u001b[1;33m\u001b[0m\u001b[0m\n",
      "\u001b[1;32m~\\Anaconda3\\lib\\site-packages\\pandas\\core\\indexes\\base.py\u001b[0m in \u001b[0;36mget_loc\u001b[1;34m(self, key, method, tolerance)\u001b[0m\n\u001b[0;32m   2442\u001b[0m                 \u001b[1;32mreturn\u001b[0m \u001b[0mself\u001b[0m\u001b[1;33m.\u001b[0m\u001b[0m_engine\u001b[0m\u001b[1;33m.\u001b[0m\u001b[0mget_loc\u001b[0m\u001b[1;33m(\u001b[0m\u001b[0mkey\u001b[0m\u001b[1;33m)\u001b[0m\u001b[1;33m\u001b[0m\u001b[0m\n\u001b[0;32m   2443\u001b[0m             \u001b[1;32mexcept\u001b[0m \u001b[0mKeyError\u001b[0m\u001b[1;33m:\u001b[0m\u001b[1;33m\u001b[0m\u001b[0m\n\u001b[1;32m-> 2444\u001b[1;33m                 \u001b[1;32mreturn\u001b[0m \u001b[0mself\u001b[0m\u001b[1;33m.\u001b[0m\u001b[0m_engine\u001b[0m\u001b[1;33m.\u001b[0m\u001b[0mget_loc\u001b[0m\u001b[1;33m(\u001b[0m\u001b[0mself\u001b[0m\u001b[1;33m.\u001b[0m\u001b[0m_maybe_cast_indexer\u001b[0m\u001b[1;33m(\u001b[0m\u001b[0mkey\u001b[0m\u001b[1;33m)\u001b[0m\u001b[1;33m)\u001b[0m\u001b[1;33m\u001b[0m\u001b[0m\n\u001b[0m\u001b[0;32m   2445\u001b[0m \u001b[1;33m\u001b[0m\u001b[0m\n\u001b[0;32m   2446\u001b[0m         \u001b[0mindexer\u001b[0m \u001b[1;33m=\u001b[0m \u001b[0mself\u001b[0m\u001b[1;33m.\u001b[0m\u001b[0mget_indexer\u001b[0m\u001b[1;33m(\u001b[0m\u001b[1;33m[\u001b[0m\u001b[0mkey\u001b[0m\u001b[1;33m]\u001b[0m\u001b[1;33m,\u001b[0m \u001b[0mmethod\u001b[0m\u001b[1;33m=\u001b[0m\u001b[0mmethod\u001b[0m\u001b[1;33m,\u001b[0m \u001b[0mtolerance\u001b[0m\u001b[1;33m=\u001b[0m\u001b[0mtolerance\u001b[0m\u001b[1;33m)\u001b[0m\u001b[1;33m\u001b[0m\u001b[0m\n",
      "\u001b[1;32mpandas\\_libs\\index.pyx\u001b[0m in \u001b[0;36mpandas._libs.index.IndexEngine.get_loc\u001b[1;34m()\u001b[0m\n",
      "\u001b[1;32mpandas\\_libs\\index.pyx\u001b[0m in \u001b[0;36mpandas._libs.index.IndexEngine.get_loc\u001b[1;34m()\u001b[0m\n",
      "\u001b[1;32mpandas\\_libs\\hashtable_class_helper.pxi\u001b[0m in \u001b[0;36mpandas._libs.hashtable.PyObjectHashTable.get_item\u001b[1;34m()\u001b[0m\n",
      "\u001b[1;32mpandas\\_libs\\hashtable_class_helper.pxi\u001b[0m in \u001b[0;36mpandas._libs.hashtable.PyObjectHashTable.get_item\u001b[1;34m()\u001b[0m\n",
      "\u001b[1;31mKeyError\u001b[0m: 'brands'"
     ]
    }
   ],
   "source": [
    "seri_brands_cnt = df_total_sugar_by_brands['brands'].value_counts()"
   ]
  },
  {
   "cell_type": "code",
   "execution_count": 24,
   "metadata": {
    "collapsed": true
   },
   "outputs": [],
   "source": [
    "# remove duplicate\n",
    "df_rm_dup = df_base[df_base.code.duplicated() == False]"
   ]
  },
  {
   "cell_type": "code",
   "execution_count": 25,
   "metadata": {},
   "outputs": [
    {
     "data": {
      "text/plain": [
       "(172944, 33)"
      ]
     },
     "execution_count": 25,
     "metadata": {},
     "output_type": "execute_result"
    }
   ],
   "source": [
    "df_rm_dup.shape"
   ]
  },
  {
   "cell_type": "code",
   "execution_count": 39,
   "metadata": {},
   "outputs": [
    {
     "name": "stdout",
     "output_type": "stream",
     "text": [
      "<class 'pandas.core.frame.DataFrame'>\n",
      "Int64Index: 172944 entries, 0 to 173062\n",
      "Data columns (total 33 columns):\n",
      "Unnamed: 0                     172944 non-null int64\n",
      "code                           172944 non-null object\n",
      "url                            172944 non-null object\n",
      "created_datetime               172944 non-null object\n",
      "product_name                   172944 non-null object\n",
      "brands                         172944 non-null object\n",
      "countries                      172944 non-null object\n",
      "ingredients_text               172944 non-null object\n",
      "allergens                      172944 non-null object\n",
      "serving_size                   172944 non-null object\n",
      "additives                      172944 non-null object\n",
      "ingredients_from_palm_oil_n    172944 non-null float64\n",
      "main_category                  172944 non-null object\n",
      "energy_100g                    172944 non-null float64\n",
      "fat_100g                       172944 non-null float64\n",
      "saturated-fat_100g             172944 non-null float64\n",
      "carbohydrates_100g             172944 non-null float64\n",
      "sugars_100g                    172944 non-null float64\n",
      "fiber_100g                     172944 non-null float64\n",
      "proteins_100g                  172944 non-null float64\n",
      "salt_100g                      172944 non-null float64\n",
      "sodium_100g                    172944 non-null float64\n",
      "calcium_100g                   172944 non-null float64\n",
      "iron_100g                      172944 non-null float64\n",
      "vitamin-d_100g                 172944 non-null float64\n",
      "vitamin-e_100g                 172944 non-null float64\n",
      "vitamin-k_100g                 172944 non-null float64\n",
      "vitamin-c_100g                 172944 non-null float64\n",
      "vitamin-b1_100g                172944 non-null float64\n",
      "vitamin-b2_100g                172944 non-null float64\n",
      "vitamin-pp_100g                172944 non-null float64\n",
      "vitamin-b6_100g                172944 non-null float64\n",
      "vitamin-b9_100g                172944 non-null float64\n",
      "dtypes: float64(21), int64(1), object(11)\n",
      "memory usage: 44.9+ MB\n"
     ]
    }
   ],
   "source": [
    "df_rm_dup.info()"
   ]
  },
  {
   "cell_type": "code",
   "execution_count": 33,
   "metadata": {},
   "outputs": [
    {
     "name": "stderr",
     "output_type": "stream",
     "text": [
      "C:\\Users\\TaeWoo\\Anaconda3\\lib\\site-packages\\ipykernel_launcher.py:2: SettingWithCopyWarning: \n",
      "A value is trying to be set on a copy of a slice from a DataFrame.\n",
      "Try using .loc[row_indexer,col_indexer] = value instead\n",
      "\n",
      "See the caveats in the documentation: http://pandas.pydata.org/pandas-docs/stable/indexing.html#indexing-view-versus-copy\n",
      "  \n",
      "C:\\Users\\TaeWoo\\Anaconda3\\lib\\site-packages\\pandas\\core\\indexing.py:517: SettingWithCopyWarning: \n",
      "A value is trying to be set on a copy of a slice from a DataFrame.\n",
      "Try using .loc[row_indexer,col_indexer] = value instead\n",
      "\n",
      "See the caveats in the documentation: http://pandas.pydata.org/pandas-docs/stable/indexing.html#indexing-view-versus-copy\n",
      "  self.obj[item] = s\n"
     ]
    }
   ],
   "source": [
    "# NaN makes an error\n",
    "df_rm_dup[['product_name','brands','ingredients_text','allergens','main_category']] = \\\n",
    "df_rm_dup[['product_name','brands','ingredients_text','allergens','main_category']].fillna(\"None\").values"
   ]
  },
  {
   "cell_type": "code",
   "execution_count": 36,
   "metadata": {},
   "outputs": [
    {
     "name": "stderr",
     "output_type": "stream",
     "text": [
      "C:\\Users\\TaeWoo\\Anaconda3\\lib\\site-packages\\ipykernel_launcher.py:2: SettingWithCopyWarning: \n",
      "A value is trying to be set on a copy of a slice from a DataFrame.\n",
      "Try using .loc[row_indexer,col_indexer] = value instead\n",
      "\n",
      "See the caveats in the documentation: http://pandas.pydata.org/pandas-docs/stable/indexing.html#indexing-view-versus-copy\n",
      "  \n",
      "C:\\Users\\TaeWoo\\Anaconda3\\lib\\site-packages\\pandas\\core\\indexing.py:517: SettingWithCopyWarning: \n",
      "A value is trying to be set on a copy of a slice from a DataFrame.\n",
      "Try using .loc[row_indexer,col_indexer] = value instead\n",
      "\n",
      "See the caveats in the documentation: http://pandas.pydata.org/pandas-docs/stable/indexing.html#indexing-view-versus-copy\n",
      "  self.obj[item] = s\n"
     ]
    }
   ],
   "source": [
    "# NaN makes an error\n",
    "df_rm_dup[['serving_size','ingredients_from_palm_oil_n']] = \\\n",
    "df_rm_dup[['serving_size','ingredients_from_palm_oil_n']].fillna(0).values"
   ]
  },
  {
   "cell_type": "code",
   "execution_count": 37,
   "metadata": {},
   "outputs": [
    {
     "data": {
      "text/html": [
       "<div>\n",
       "<style>\n",
       "    .dataframe thead tr:only-child th {\n",
       "        text-align: right;\n",
       "    }\n",
       "\n",
       "    .dataframe thead th {\n",
       "        text-align: left;\n",
       "    }\n",
       "\n",
       "    .dataframe tbody tr th {\n",
       "        vertical-align: top;\n",
       "    }\n",
       "</style>\n",
       "<table border=\"1\" class=\"dataframe\">\n",
       "  <thead>\n",
       "    <tr style=\"text-align: right;\">\n",
       "      <th></th>\n",
       "      <th>Unnamed: 0</th>\n",
       "      <th>code</th>\n",
       "      <th>url</th>\n",
       "      <th>created_datetime</th>\n",
       "      <th>product_name</th>\n",
       "      <th>brands</th>\n",
       "      <th>countries</th>\n",
       "      <th>ingredients_text</th>\n",
       "      <th>allergens</th>\n",
       "      <th>serving_size</th>\n",
       "      <th>...</th>\n",
       "      <th>iron_100g</th>\n",
       "      <th>vitamin-d_100g</th>\n",
       "      <th>vitamin-e_100g</th>\n",
       "      <th>vitamin-k_100g</th>\n",
       "      <th>vitamin-c_100g</th>\n",
       "      <th>vitamin-b1_100g</th>\n",
       "      <th>vitamin-b2_100g</th>\n",
       "      <th>vitamin-pp_100g</th>\n",
       "      <th>vitamin-b6_100g</th>\n",
       "      <th>vitamin-b9_100g</th>\n",
       "    </tr>\n",
       "  </thead>\n",
       "  <tbody>\n",
       "    <tr>\n",
       "      <th>0</th>\n",
       "      <td>1</td>\n",
       "      <td>4530</td>\n",
       "      <td>http://world-en.openfoodfacts.org/product/0000...</td>\n",
       "      <td>2017-03-09T14:32:37Z</td>\n",
       "      <td>Banana Chips Sweetened (Whole)</td>\n",
       "      <td>None</td>\n",
       "      <td>us</td>\n",
       "      <td>Bananas, vegetable oil (coconut oil, corn oil ...</td>\n",
       "      <td>None</td>\n",
       "      <td>28 g (1 ONZ)</td>\n",
       "      <td>...</td>\n",
       "      <td>0.00129</td>\n",
       "      <td>0.0</td>\n",
       "      <td>0.0</td>\n",
       "      <td>0.0</td>\n",
       "      <td>0.0214</td>\n",
       "      <td>0.0</td>\n",
       "      <td>0.0</td>\n",
       "      <td>0.0</td>\n",
       "      <td>0.0</td>\n",
       "      <td>0.0</td>\n",
       "    </tr>\n",
       "    <tr>\n",
       "      <th>1</th>\n",
       "      <td>2</td>\n",
       "      <td>4559</td>\n",
       "      <td>http://world-en.openfoodfacts.org/product/0000...</td>\n",
       "      <td>2017-03-09T14:32:37Z</td>\n",
       "      <td>Peanuts</td>\n",
       "      <td>Torn &amp; Glasser</td>\n",
       "      <td>us</td>\n",
       "      <td>Peanuts, wheat flour, sugar, rice flour, tapio...</td>\n",
       "      <td>None</td>\n",
       "      <td>28 g (0.25 cup)</td>\n",
       "      <td>...</td>\n",
       "      <td>0.00129</td>\n",
       "      <td>0.0</td>\n",
       "      <td>0.0</td>\n",
       "      <td>0.0</td>\n",
       "      <td>0.0000</td>\n",
       "      <td>0.0</td>\n",
       "      <td>0.0</td>\n",
       "      <td>0.0</td>\n",
       "      <td>0.0</td>\n",
       "      <td>0.0</td>\n",
       "    </tr>\n",
       "    <tr>\n",
       "      <th>2</th>\n",
       "      <td>3</td>\n",
       "      <td>16087</td>\n",
       "      <td>http://world-en.openfoodfacts.org/product/0000...</td>\n",
       "      <td>2017-03-09T10:35:31Z</td>\n",
       "      <td>Organic Salted Nut Mix</td>\n",
       "      <td>Grizzlies</td>\n",
       "      <td>us</td>\n",
       "      <td>Organic hazelnuts, organic cashews, organic wa...</td>\n",
       "      <td>None</td>\n",
       "      <td>28 g (0.25 cup)</td>\n",
       "      <td>...</td>\n",
       "      <td>0.00514</td>\n",
       "      <td>0.0</td>\n",
       "      <td>0.0</td>\n",
       "      <td>0.0</td>\n",
       "      <td>0.0000</td>\n",
       "      <td>0.0</td>\n",
       "      <td>0.0</td>\n",
       "      <td>0.0</td>\n",
       "      <td>0.0</td>\n",
       "      <td>0.0</td>\n",
       "    </tr>\n",
       "    <tr>\n",
       "      <th>3</th>\n",
       "      <td>4</td>\n",
       "      <td>16094</td>\n",
       "      <td>http://world-en.openfoodfacts.org/product/0000...</td>\n",
       "      <td>2017-03-09T10:34:13Z</td>\n",
       "      <td>Organic Polenta</td>\n",
       "      <td>Bob's Red Mill</td>\n",
       "      <td>us</td>\n",
       "      <td>Organic polenta</td>\n",
       "      <td>None</td>\n",
       "      <td>35 g (0.25 cup)</td>\n",
       "      <td>...</td>\n",
       "      <td>0.00000</td>\n",
       "      <td>0.0</td>\n",
       "      <td>0.0</td>\n",
       "      <td>0.0</td>\n",
       "      <td>0.0000</td>\n",
       "      <td>0.0</td>\n",
       "      <td>0.0</td>\n",
       "      <td>0.0</td>\n",
       "      <td>0.0</td>\n",
       "      <td>0.0</td>\n",
       "    </tr>\n",
       "    <tr>\n",
       "      <th>4</th>\n",
       "      <td>5</td>\n",
       "      <td>16100</td>\n",
       "      <td>http://world-en.openfoodfacts.org/product/0000...</td>\n",
       "      <td>2017-03-09T10:34:11Z</td>\n",
       "      <td>Breadshop Honey Gone Nuts Granola</td>\n",
       "      <td>Unfi</td>\n",
       "      <td>us</td>\n",
       "      <td>Rolled oats, grape concentrate, expeller press...</td>\n",
       "      <td>None</td>\n",
       "      <td>52 g (0.5 cup)</td>\n",
       "      <td>...</td>\n",
       "      <td>0.00346</td>\n",
       "      <td>0.0</td>\n",
       "      <td>0.0</td>\n",
       "      <td>0.0</td>\n",
       "      <td>0.0000</td>\n",
       "      <td>0.0</td>\n",
       "      <td>0.0</td>\n",
       "      <td>0.0</td>\n",
       "      <td>0.0</td>\n",
       "      <td>0.0</td>\n",
       "    </tr>\n",
       "  </tbody>\n",
       "</table>\n",
       "<p>5 rows × 33 columns</p>\n",
       "</div>"
      ],
      "text/plain": [
       "   Unnamed: 0   code                                                url  \\\n",
       "0           1   4530  http://world-en.openfoodfacts.org/product/0000...   \n",
       "1           2   4559  http://world-en.openfoodfacts.org/product/0000...   \n",
       "2           3  16087  http://world-en.openfoodfacts.org/product/0000...   \n",
       "3           4  16094  http://world-en.openfoodfacts.org/product/0000...   \n",
       "4           5  16100  http://world-en.openfoodfacts.org/product/0000...   \n",
       "\n",
       "       created_datetime                       product_name          brands  \\\n",
       "0  2017-03-09T14:32:37Z     Banana Chips Sweetened (Whole)            None   \n",
       "1  2017-03-09T14:32:37Z                            Peanuts  Torn & Glasser   \n",
       "2  2017-03-09T10:35:31Z             Organic Salted Nut Mix       Grizzlies   \n",
       "3  2017-03-09T10:34:13Z                    Organic Polenta  Bob's Red Mill   \n",
       "4  2017-03-09T10:34:11Z  Breadshop Honey Gone Nuts Granola            Unfi   \n",
       "\n",
       "  countries                                   ingredients_text allergens  \\\n",
       "0        us  Bananas, vegetable oil (coconut oil, corn oil ...      None   \n",
       "1        us  Peanuts, wheat flour, sugar, rice flour, tapio...      None   \n",
       "2        us  Organic hazelnuts, organic cashews, organic wa...      None   \n",
       "3        us                                    Organic polenta      None   \n",
       "4        us  Rolled oats, grape concentrate, expeller press...      None   \n",
       "\n",
       "      serving_size       ...        iron_100g  vitamin-d_100g vitamin-e_100g  \\\n",
       "0     28 g (1 ONZ)       ...          0.00129             0.0            0.0   \n",
       "1  28 g (0.25 cup)       ...          0.00129             0.0            0.0   \n",
       "2  28 g (0.25 cup)       ...          0.00514             0.0            0.0   \n",
       "3  35 g (0.25 cup)       ...          0.00000             0.0            0.0   \n",
       "4   52 g (0.5 cup)       ...          0.00346             0.0            0.0   \n",
       "\n",
       "   vitamin-k_100g  vitamin-c_100g  vitamin-b1_100g  vitamin-b2_100g  \\\n",
       "0             0.0          0.0214              0.0              0.0   \n",
       "1             0.0          0.0000              0.0              0.0   \n",
       "2             0.0          0.0000              0.0              0.0   \n",
       "3             0.0          0.0000              0.0              0.0   \n",
       "4             0.0          0.0000              0.0              0.0   \n",
       "\n",
       "   vitamin-pp_100g  vitamin-b6_100g  vitamin-b9_100g  \n",
       "0              0.0              0.0              0.0  \n",
       "1              0.0              0.0              0.0  \n",
       "2              0.0              0.0              0.0  \n",
       "3              0.0              0.0              0.0  \n",
       "4              0.0              0.0              0.0  \n",
       "\n",
       "[5 rows x 33 columns]"
      ]
     },
     "execution_count": 37,
     "metadata": {},
     "output_type": "execute_result"
    }
   ],
   "source": [
    "df_rm_dup.head()"
   ]
  },
  {
   "cell_type": "code",
   "execution_count": 38,
   "metadata": {},
   "outputs": [
    {
     "name": "stdout",
     "output_type": "stream",
     "text": [
      "<class 'pandas.core.frame.DataFrame'>\n",
      "Int64Index: 172944 entries, 0 to 173062\n",
      "Data columns (total 33 columns):\n",
      "Unnamed: 0                     172944 non-null int64\n",
      "code                           172944 non-null object\n",
      "url                            172944 non-null object\n",
      "created_datetime               172944 non-null object\n",
      "product_name                   172944 non-null object\n",
      "brands                         172944 non-null object\n",
      "countries                      172944 non-null object\n",
      "ingredients_text               172944 non-null object\n",
      "allergens                      172944 non-null object\n",
      "serving_size                   172944 non-null object\n",
      "additives                      172944 non-null object\n",
      "ingredients_from_palm_oil_n    172944 non-null float64\n",
      "main_category                  172944 non-null object\n",
      "energy_100g                    172944 non-null float64\n",
      "fat_100g                       172944 non-null float64\n",
      "saturated-fat_100g             172944 non-null float64\n",
      "carbohydrates_100g             172944 non-null float64\n",
      "sugars_100g                    172944 non-null float64\n",
      "fiber_100g                     172944 non-null float64\n",
      "proteins_100g                  172944 non-null float64\n",
      "salt_100g                      172944 non-null float64\n",
      "sodium_100g                    172944 non-null float64\n",
      "calcium_100g                   172944 non-null float64\n",
      "iron_100g                      172944 non-null float64\n",
      "vitamin-d_100g                 172944 non-null float64\n",
      "vitamin-e_100g                 172944 non-null float64\n",
      "vitamin-k_100g                 172944 non-null float64\n",
      "vitamin-c_100g                 172944 non-null float64\n",
      "vitamin-b1_100g                172944 non-null float64\n",
      "vitamin-b2_100g                172944 non-null float64\n",
      "vitamin-pp_100g                172944 non-null float64\n",
      "vitamin-b6_100g                172944 non-null float64\n",
      "vitamin-b9_100g                172944 non-null float64\n",
      "dtypes: float64(21), int64(1), object(11)\n",
      "memory usage: 44.9+ MB\n"
     ]
    }
   ],
   "source": [
    "df_rm_dup.info()"
   ]
  },
  {
   "cell_type": "code",
   "execution_count": 42,
   "metadata": {},
   "outputs": [
    {
     "data": {
      "text/plain": [
       "0         False\n",
       "1         False\n",
       "2          True\n",
       "3          True\n",
       "4         False\n",
       "5          True\n",
       "6          True\n",
       "7          True\n",
       "8          True\n",
       "9          True\n",
       "10         True\n",
       "11        False\n",
       "12         True\n",
       "13         True\n",
       "14        False\n",
       "15         True\n",
       "16         True\n",
       "17         True\n",
       "18         True\n",
       "19        False\n",
       "20        False\n",
       "21         True\n",
       "22        False\n",
       "23        False\n",
       "24        False\n",
       "25         True\n",
       "26        False\n",
       "27        False\n",
       "28        False\n",
       "29         True\n",
       "          ...  \n",
       "173032    False\n",
       "173033    False\n",
       "173034    False\n",
       "173035    False\n",
       "173036    False\n",
       "173037    False\n",
       "173038    False\n",
       "173039    False\n",
       "173040    False\n",
       "173041    False\n",
       "173042    False\n",
       "173043    False\n",
       "173044    False\n",
       "173045    False\n",
       "173046    False\n",
       "173047    False\n",
       "173048    False\n",
       "173049    False\n",
       "173050    False\n",
       "173051    False\n",
       "173052    False\n",
       "173053    False\n",
       "173054    False\n",
       "173055    False\n",
       "173056    False\n",
       "173057     True\n",
       "173058    False\n",
       "173060    False\n",
       "173061    False\n",
       "173062    False\n",
       "Name: product_name, Length: 172944, dtype: bool"
      ]
     },
     "execution_count": 42,
     "metadata": {},
     "output_type": "execute_result"
    }
   ],
   "source": [
    "df_rm_dup.product_name.str.contains(r\"\\b(?:organic|Organic)\\b\", case=False)"
   ]
  },
  {
   "cell_type": "code",
   "execution_count": 43,
   "metadata": {},
   "outputs": [
    {
     "name": "stderr",
     "output_type": "stream",
     "text": [
      "C:\\Users\\TaeWoo\\Anaconda3\\lib\\site-packages\\ipykernel_launcher.py:2: SettingWithCopyWarning: \n",
      "A value is trying to be set on a copy of a slice from a DataFrame.\n",
      "Try using .loc[row_indexer,col_indexer] = value instead\n",
      "\n",
      "See the caveats in the documentation: http://pandas.pydata.org/pandas-docs/stable/indexing.html#indexing-view-versus-copy\n",
      "  \n"
     ]
    }
   ],
   "source": [
    "# df_rm_dup.product_name.str.contains(r\"\\b(?:organic|Organic)\\b\", case=False)\n",
    "df_rm_dup['organic'] = df_rm_dup.product_name.str.contains(r\"\\b(?:organic|Organic)\\b\", case=False)"
   ]
  },
  {
   "cell_type": "code",
   "execution_count": 44,
   "metadata": {},
   "outputs": [
    {
     "name": "stdout",
     "output_type": "stream",
     "text": [
      "<class 'pandas.core.frame.DataFrame'>\n",
      "Int64Index: 172944 entries, 0 to 173062\n",
      "Data columns (total 34 columns):\n",
      "Unnamed: 0                     172944 non-null int64\n",
      "code                           172944 non-null object\n",
      "url                            172944 non-null object\n",
      "created_datetime               172944 non-null object\n",
      "product_name                   172944 non-null object\n",
      "brands                         172944 non-null object\n",
      "countries                      172944 non-null object\n",
      "ingredients_text               172944 non-null object\n",
      "allergens                      172944 non-null object\n",
      "serving_size                   172944 non-null object\n",
      "additives                      172944 non-null object\n",
      "ingredients_from_palm_oil_n    172944 non-null float64\n",
      "main_category                  172944 non-null object\n",
      "energy_100g                    172944 non-null float64\n",
      "fat_100g                       172944 non-null float64\n",
      "saturated-fat_100g             172944 non-null float64\n",
      "carbohydrates_100g             172944 non-null float64\n",
      "sugars_100g                    172944 non-null float64\n",
      "fiber_100g                     172944 non-null float64\n",
      "proteins_100g                  172944 non-null float64\n",
      "salt_100g                      172944 non-null float64\n",
      "sodium_100g                    172944 non-null float64\n",
      "calcium_100g                   172944 non-null float64\n",
      "iron_100g                      172944 non-null float64\n",
      "vitamin-d_100g                 172944 non-null float64\n",
      "vitamin-e_100g                 172944 non-null float64\n",
      "vitamin-k_100g                 172944 non-null float64\n",
      "vitamin-c_100g                 172944 non-null float64\n",
      "vitamin-b1_100g                172944 non-null float64\n",
      "vitamin-b2_100g                172944 non-null float64\n",
      "vitamin-pp_100g                172944 non-null float64\n",
      "vitamin-b6_100g                172944 non-null float64\n",
      "vitamin-b9_100g                172944 non-null float64\n",
      "organic                        172944 non-null bool\n",
      "dtypes: bool(1), float64(21), int64(1), object(11)\n",
      "memory usage: 50.0+ MB\n"
     ]
    }
   ],
   "source": [
    "df_rm_dup.info()"
   ]
  },
  {
   "cell_type": "code",
   "execution_count": 46,
   "metadata": {},
   "outputs": [
    {
     "data": {
      "text/html": [
       "<div>\n",
       "<style>\n",
       "    .dataframe thead tr:only-child th {\n",
       "        text-align: right;\n",
       "    }\n",
       "\n",
       "    .dataframe thead th {\n",
       "        text-align: left;\n",
       "    }\n",
       "\n",
       "    .dataframe tbody tr th {\n",
       "        vertical-align: top;\n",
       "    }\n",
       "</style>\n",
       "<table border=\"1\" class=\"dataframe\">\n",
       "  <thead>\n",
       "    <tr style=\"text-align: right;\">\n",
       "      <th></th>\n",
       "      <th>Unnamed: 0</th>\n",
       "      <th>code</th>\n",
       "      <th>url</th>\n",
       "      <th>created_datetime</th>\n",
       "      <th>product_name</th>\n",
       "      <th>brands</th>\n",
       "      <th>countries</th>\n",
       "      <th>ingredients_text</th>\n",
       "      <th>allergens</th>\n",
       "      <th>serving_size</th>\n",
       "      <th>...</th>\n",
       "      <th>vitamin-d_100g</th>\n",
       "      <th>vitamin-e_100g</th>\n",
       "      <th>vitamin-k_100g</th>\n",
       "      <th>vitamin-c_100g</th>\n",
       "      <th>vitamin-b1_100g</th>\n",
       "      <th>vitamin-b2_100g</th>\n",
       "      <th>vitamin-pp_100g</th>\n",
       "      <th>vitamin-b6_100g</th>\n",
       "      <th>vitamin-b9_100g</th>\n",
       "      <th>organic</th>\n",
       "    </tr>\n",
       "  </thead>\n",
       "  <tbody>\n",
       "    <tr>\n",
       "      <th>0</th>\n",
       "      <td>1</td>\n",
       "      <td>4530</td>\n",
       "      <td>http://world-en.openfoodfacts.org/product/0000...</td>\n",
       "      <td>2017-03-09T14:32:37Z</td>\n",
       "      <td>Banana Chips Sweetened (Whole)</td>\n",
       "      <td>None</td>\n",
       "      <td>us</td>\n",
       "      <td>Bananas, vegetable oil (coconut oil, corn oil ...</td>\n",
       "      <td>None</td>\n",
       "      <td>28 g (1 ONZ)</td>\n",
       "      <td>...</td>\n",
       "      <td>0.0</td>\n",
       "      <td>0.0</td>\n",
       "      <td>0.0</td>\n",
       "      <td>0.0214</td>\n",
       "      <td>0.0</td>\n",
       "      <td>0.0</td>\n",
       "      <td>0.0</td>\n",
       "      <td>0.0</td>\n",
       "      <td>0.0</td>\n",
       "      <td>False</td>\n",
       "    </tr>\n",
       "    <tr>\n",
       "      <th>1</th>\n",
       "      <td>2</td>\n",
       "      <td>4559</td>\n",
       "      <td>http://world-en.openfoodfacts.org/product/0000...</td>\n",
       "      <td>2017-03-09T14:32:37Z</td>\n",
       "      <td>Peanuts</td>\n",
       "      <td>Torn &amp; Glasser</td>\n",
       "      <td>us</td>\n",
       "      <td>Peanuts, wheat flour, sugar, rice flour, tapio...</td>\n",
       "      <td>None</td>\n",
       "      <td>28 g (0.25 cup)</td>\n",
       "      <td>...</td>\n",
       "      <td>0.0</td>\n",
       "      <td>0.0</td>\n",
       "      <td>0.0</td>\n",
       "      <td>0.0000</td>\n",
       "      <td>0.0</td>\n",
       "      <td>0.0</td>\n",
       "      <td>0.0</td>\n",
       "      <td>0.0</td>\n",
       "      <td>0.0</td>\n",
       "      <td>False</td>\n",
       "    </tr>\n",
       "    <tr>\n",
       "      <th>2</th>\n",
       "      <td>3</td>\n",
       "      <td>16087</td>\n",
       "      <td>http://world-en.openfoodfacts.org/product/0000...</td>\n",
       "      <td>2017-03-09T10:35:31Z</td>\n",
       "      <td>Organic Salted Nut Mix</td>\n",
       "      <td>Grizzlies</td>\n",
       "      <td>us</td>\n",
       "      <td>Organic hazelnuts, organic cashews, organic wa...</td>\n",
       "      <td>None</td>\n",
       "      <td>28 g (0.25 cup)</td>\n",
       "      <td>...</td>\n",
       "      <td>0.0</td>\n",
       "      <td>0.0</td>\n",
       "      <td>0.0</td>\n",
       "      <td>0.0000</td>\n",
       "      <td>0.0</td>\n",
       "      <td>0.0</td>\n",
       "      <td>0.0</td>\n",
       "      <td>0.0</td>\n",
       "      <td>0.0</td>\n",
       "      <td>True</td>\n",
       "    </tr>\n",
       "    <tr>\n",
       "      <th>3</th>\n",
       "      <td>4</td>\n",
       "      <td>16094</td>\n",
       "      <td>http://world-en.openfoodfacts.org/product/0000...</td>\n",
       "      <td>2017-03-09T10:34:13Z</td>\n",
       "      <td>Organic Polenta</td>\n",
       "      <td>Bob's Red Mill</td>\n",
       "      <td>us</td>\n",
       "      <td>Organic polenta</td>\n",
       "      <td>None</td>\n",
       "      <td>35 g (0.25 cup)</td>\n",
       "      <td>...</td>\n",
       "      <td>0.0</td>\n",
       "      <td>0.0</td>\n",
       "      <td>0.0</td>\n",
       "      <td>0.0000</td>\n",
       "      <td>0.0</td>\n",
       "      <td>0.0</td>\n",
       "      <td>0.0</td>\n",
       "      <td>0.0</td>\n",
       "      <td>0.0</td>\n",
       "      <td>True</td>\n",
       "    </tr>\n",
       "    <tr>\n",
       "      <th>4</th>\n",
       "      <td>5</td>\n",
       "      <td>16100</td>\n",
       "      <td>http://world-en.openfoodfacts.org/product/0000...</td>\n",
       "      <td>2017-03-09T10:34:11Z</td>\n",
       "      <td>Breadshop Honey Gone Nuts Granola</td>\n",
       "      <td>Unfi</td>\n",
       "      <td>us</td>\n",
       "      <td>Rolled oats, grape concentrate, expeller press...</td>\n",
       "      <td>None</td>\n",
       "      <td>52 g (0.5 cup)</td>\n",
       "      <td>...</td>\n",
       "      <td>0.0</td>\n",
       "      <td>0.0</td>\n",
       "      <td>0.0</td>\n",
       "      <td>0.0000</td>\n",
       "      <td>0.0</td>\n",
       "      <td>0.0</td>\n",
       "      <td>0.0</td>\n",
       "      <td>0.0</td>\n",
       "      <td>0.0</td>\n",
       "      <td>False</td>\n",
       "    </tr>\n",
       "  </tbody>\n",
       "</table>\n",
       "<p>5 rows × 34 columns</p>\n",
       "</div>"
      ],
      "text/plain": [
       "   Unnamed: 0   code                                                url  \\\n",
       "0           1   4530  http://world-en.openfoodfacts.org/product/0000...   \n",
       "1           2   4559  http://world-en.openfoodfacts.org/product/0000...   \n",
       "2           3  16087  http://world-en.openfoodfacts.org/product/0000...   \n",
       "3           4  16094  http://world-en.openfoodfacts.org/product/0000...   \n",
       "4           5  16100  http://world-en.openfoodfacts.org/product/0000...   \n",
       "\n",
       "       created_datetime                       product_name          brands  \\\n",
       "0  2017-03-09T14:32:37Z     Banana Chips Sweetened (Whole)            None   \n",
       "1  2017-03-09T14:32:37Z                            Peanuts  Torn & Glasser   \n",
       "2  2017-03-09T10:35:31Z             Organic Salted Nut Mix       Grizzlies   \n",
       "3  2017-03-09T10:34:13Z                    Organic Polenta  Bob's Red Mill   \n",
       "4  2017-03-09T10:34:11Z  Breadshop Honey Gone Nuts Granola            Unfi   \n",
       "\n",
       "  countries                                   ingredients_text allergens  \\\n",
       "0        us  Bananas, vegetable oil (coconut oil, corn oil ...      None   \n",
       "1        us  Peanuts, wheat flour, sugar, rice flour, tapio...      None   \n",
       "2        us  Organic hazelnuts, organic cashews, organic wa...      None   \n",
       "3        us                                    Organic polenta      None   \n",
       "4        us  Rolled oats, grape concentrate, expeller press...      None   \n",
       "\n",
       "      serving_size   ...    vitamin-d_100g  vitamin-e_100g vitamin-k_100g  \\\n",
       "0     28 g (1 ONZ)   ...               0.0             0.0            0.0   \n",
       "1  28 g (0.25 cup)   ...               0.0             0.0            0.0   \n",
       "2  28 g (0.25 cup)   ...               0.0             0.0            0.0   \n",
       "3  35 g (0.25 cup)   ...               0.0             0.0            0.0   \n",
       "4   52 g (0.5 cup)   ...               0.0             0.0            0.0   \n",
       "\n",
       "   vitamin-c_100g  vitamin-b1_100g  vitamin-b2_100g  vitamin-pp_100g  \\\n",
       "0          0.0214              0.0              0.0              0.0   \n",
       "1          0.0000              0.0              0.0              0.0   \n",
       "2          0.0000              0.0              0.0              0.0   \n",
       "3          0.0000              0.0              0.0              0.0   \n",
       "4          0.0000              0.0              0.0              0.0   \n",
       "\n",
       "   vitamin-b6_100g  vitamin-b9_100g  organic  \n",
       "0              0.0              0.0    False  \n",
       "1              0.0              0.0    False  \n",
       "2              0.0              0.0     True  \n",
       "3              0.0              0.0     True  \n",
       "4              0.0              0.0    False  \n",
       "\n",
       "[5 rows x 34 columns]"
      ]
     },
     "execution_count": 46,
     "metadata": {},
     "output_type": "execute_result"
    }
   ],
   "source": [
    "df_rm_dup.head()"
   ]
  },
  {
   "cell_type": "code",
   "execution_count": 50,
   "metadata": {},
   "outputs": [
    {
     "data": {
      "text/plain": [
       "<bound method Series.unique of 0             28 g (1 ONZ)\n",
       "1          28 g (0.25 cup)\n",
       "2          28 g (0.25 cup)\n",
       "3          35 g (0.25 cup)\n",
       "4           52 g (0.5 cup)\n",
       "5          45 g (0.25 cup)\n",
       "6           64 g (0.5 cup)\n",
       "7              40 g (40 g)\n",
       "8            14 g (1 Tbsp)\n",
       "9          48 g (0.25 cup)\n",
       "10          57 g (0.5 cup)\n",
       "11         30 g (0.25 cup)\n",
       "12           21 g (2 Tbsp)\n",
       "13         33 g (0.25 cup)\n",
       "14          55 g (0.5 cup)\n",
       "15         28 g (0.25 cup)\n",
       "16         30 g (0.25 cup)\n",
       "17         45 g (0.25 cup)\n",
       "18         42 g (0.25 cup)\n",
       "19         40 g (0.25 cup)\n",
       "20         30 g (0.25 cup)\n",
       "21          55 g (0.5 cup)\n",
       "22         30 g (0.25 cup)\n",
       "23           45 g (45 GRM)\n",
       "24        1.4 g (0.25 tsp)\n",
       "25          54 g (0.5 cup)\n",
       "26             30 g (30 g)\n",
       "27             30 g (30 g)\n",
       "28             30 g (30 g)\n",
       "29         30 g (0.25 cup)\n",
       "                ...       \n",
       "173032         56 g (56 g)\n",
       "173033       70 g (2.5 oz)\n",
       "173034      130 g (4.6 oz)\n",
       "173035         85 g (3 oz)\n",
       "173036         85 g (3 oz)\n",
       "173037     18.5 g (2.6 oz)\n",
       "173038         46 g (46 g)\n",
       "173039         46 g (46 g)\n",
       "173040         56 g (56 g)\n",
       "173041         18 g (18 g)\n",
       "173042    12.5 g (0.45 oz)\n",
       "173043         22 g (22 g)\n",
       "173044        22 g (3 PCS)\n",
       "173045                   0\n",
       "173046      57 g (0.5 cup)\n",
       "173047         30 g (30 g)\n",
       "173048       150 g (150 g)\n",
       "173049         28 g (1 oz)\n",
       "173050       100 g (100 g)\n",
       "173051       100 g (100 g)\n",
       "173052       18 g (1 Tbsp)\n",
       "173053                   0\n",
       "173054         40 g (40 g)\n",
       "173055         6 g (2 tsp)\n",
       "173056                   0\n",
       "173057        36 g (1 BAR)\n",
       "173058       85 g (85 GRM)\n",
       "173060         57 g (57 g)\n",
       "173061       20 g (0.7 oz)\n",
       "173062    1 g (0.5 PACKET)\n",
       "Name: serving_size, Length: 172944, dtype: object>"
      ]
     },
     "execution_count": 50,
     "metadata": {},
     "output_type": "execute_result"
    }
   ],
   "source": [
    "df_rm_dup.serving_size.unique"
   ]
  },
  {
   "cell_type": "code",
   "execution_count": null,
   "metadata": {
    "collapsed": true
   },
   "outputs": [],
   "source": []
  }
 ],
 "metadata": {
  "kernelspec": {
   "display_name": "Python 3",
   "language": "python",
   "name": "python3"
  },
  "language_info": {
   "codemirror_mode": {
    "name": "ipython",
    "version": 3
   },
   "file_extension": ".py",
   "mimetype": "text/x-python",
   "name": "python",
   "nbconvert_exporter": "python",
   "pygments_lexer": "ipython3",
   "version": "3.6.3"
  }
 },
 "nbformat": 4,
 "nbformat_minor": 2
}
